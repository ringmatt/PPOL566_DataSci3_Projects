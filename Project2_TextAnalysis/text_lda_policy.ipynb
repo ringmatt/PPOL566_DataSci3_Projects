{
 "cells": [
  {
   "cell_type": "markdown",
   "metadata": {},
   "source": [
    "## Topic modeling using small policy dataset"
   ]
  },
  {
   "cell_type": "code",
   "execution_count": 1,
   "metadata": {},
   "outputs": [],
   "source": [
    "from sklearn.feature_extraction.text import CountVectorizer\n",
    "from sklearn.decomposition import LatentDirichletAllocation\n",
    "import pandas as pd\n",
    "import numpy as np"
   ]
  },
  {
   "cell_type": "code",
   "execution_count": 2,
   "metadata": {},
   "outputs": [],
   "source": [
    "# Create small dataframe with customer feedback\n",
    "text_train = pd.DataFrame({\n",
    "    \"policy_views\": [\"I would like more funding for pollution mitigation\",\n",
    "                \"Environmental regulation and reducing pollution is important to me\",\n",
    "                \"Minimum wage and raising living standards\",\n",
    "                \"Wages are so low and they need to go up whether by minimum wage increases or collective bargaining\",\n",
    "               \"Climate change and environmental degredation are my main focus\",\n",
    "               \"Investing in renewable fuels and environmental regulation\",\n",
    "               \"Minimum wage and climate change, environmental policy\",\n",
    "               \"environment, climate change global warming, solar power\",\n",
    "               \"Increase federal minimum wage to a livable level to ensure nobody is in poverty\"]\n",
    "})"
   ]
  },
  {
   "cell_type": "code",
   "execution_count": null,
   "metadata": {},
   "outputs": [],
   "source": [
    "text_train"
   ]
  },
  {
   "cell_type": "code",
   "execution_count": null,
   "metadata": {},
   "outputs": [],
   "source": [
    "# Steps:\n",
    "    # 1: Instantiate vectorizer with parameters: vec\n",
    "    # 2: Vectorize column of text with fit_transform: X\n",
    "    # 3: Instantiate LDA model with parameters: lda\n",
    "    # 4: Fit LDA model to vectorized text: doc_topics"
   ]
  },
  {
   "cell_type": "code",
   "execution_count": null,
   "metadata": {},
   "outputs": [],
   "source": [
    "# 1: create vectorizer\n",
    "vec = CountVectorizer(stop_words=\"english\")"
   ]
  },
  {
   "cell_type": "code",
   "execution_count": null,
   "metadata": {},
   "outputs": [],
   "source": [
    "# 2: create dtm\n",
    "X = vec.fit_transform(text_train[\"policy_views\"])"
   ]
  },
  {
   "cell_type": "code",
   "execution_count": null,
   "metadata": {},
   "outputs": [],
   "source": [
    "# 3 create lda\n",
    "lda = LatentDirichletAllocation(n_components=2)"
   ]
  },
  {
   "cell_type": "code",
   "execution_count": null,
   "metadata": {},
   "outputs": [],
   "source": [
    "# 4 fit lda\n",
    "doc_topics = lda.fit_transform(X)"
   ]
  },
  {
   "cell_type": "code",
   "execution_count": null,
   "metadata": {},
   "outputs": [],
   "source": [
    "# 5\n",
    "print(f\"There are {lda.components_.shape[0]} topics and {lda.components_.shape[1]} words\")"
   ]
  },
  {
   "cell_type": "markdown",
   "metadata": {},
   "source": [
    "### Extract top words from each topic"
   ]
  },
  {
   "cell_type": "code",
   "execution_count": null,
   "metadata": {},
   "outputs": [],
   "source": [
    "## Get feature names (vocabulary)\n",
    "voc = np.array(vec.get_feature_names())"
   ]
  },
  {
   "cell_type": "code",
   "execution_count": null,
   "metadata": {},
   "outputs": [],
   "source": [
    "# Set number of top words you want\n",
    "n_words=5\n",
    "\n",
    "# Create lambda function to extra top words from voc\n",
    "imp_words = lambda x: [voc[each] for each in np.argsort(x)[:-n_words-1:-1]]"
   ]
  },
  {
   "cell_type": "code",
   "execution_count": null,
   "metadata": {},
   "outputs": [],
   "source": [
    "# Use imp_words to extract words with the highest weights from our lda model\n",
    "words_in_topic = ([imp_words(x) for x in lda.components_])"
   ]
  },
  {
   "cell_type": "code",
   "execution_count": null,
   "metadata": {},
   "outputs": [],
   "source": [
    "# Examine words\n",
    "words_in_topic"
   ]
  },
  {
   "cell_type": "code",
   "execution_count": null,
   "metadata": {},
   "outputs": [],
   "source": []
  },
  {
   "cell_type": "code",
   "execution_count": null,
   "metadata": {},
   "outputs": [],
   "source": []
  },
  {
   "cell_type": "code",
   "execution_count": null,
   "metadata": {},
   "outputs": [],
   "source": []
  },
  {
   "cell_type": "code",
   "execution_count": null,
   "metadata": {},
   "outputs": [],
   "source": []
  },
  {
   "cell_type": "code",
   "execution_count": null,
   "metadata": {},
   "outputs": [],
   "source": []
  },
  {
   "cell_type": "code",
   "execution_count": null,
   "metadata": {},
   "outputs": [],
   "source": [
    "# Join words into single string\n",
    "main_topics = [' '.join(x) for x in words_in_topic]"
   ]
  },
  {
   "cell_type": "code",
   "execution_count": null,
   "metadata": {},
   "outputs": [],
   "source": [
    "# Create dataframe with top words and set index to topic number\n",
    "main_topics_df = pd.DataFrame({\"top_words\": main_topics},\n",
    "                             index=[\"Topic_\" + str(each) for each in range(lda.n_components)])"
   ]
  },
  {
   "cell_type": "code",
   "execution_count": null,
   "metadata": {},
   "outputs": [],
   "source": [
    "# Examine top words\n",
    "main_topics_df"
   ]
  },
  {
   "cell_type": "code",
   "execution_count": null,
   "metadata": {},
   "outputs": [],
   "source": [
    "# Examine topic 1\n",
    "print(f\"Top words in topic 1: {main_topics_df['top_words'][0]}\")"
   ]
  },
  {
   "cell_type": "code",
   "execution_count": null,
   "metadata": {},
   "outputs": [],
   "source": [
    "# Loop to look at multiple topics' top words\n",
    "for i, each in enumerate(main_topics_df[\"top_words\"]):\n",
    "    print(f\"Top words in topic {i}: {each}\\n\")"
   ]
  },
  {
   "cell_type": "markdown",
   "metadata": {},
   "source": [
    "### Extract top words from topics (as a function)"
   ]
  },
  {
   "cell_type": "code",
   "execution_count": null,
   "metadata": {},
   "outputs": [],
   "source": [
    "def top_words_f(n_words):\n",
    "    n_words=n_words\n",
    "    imp_words = lambda x: [voc[each] for each in np.argsort(x)[:-n_words-1:-1]]\n",
    "    words_in_topic = ([imp_words(x) for x in lda.components_])\n",
    "    main_topics = [' '.join(x) for x in words_in_topic]\n",
    "    df = pd.DataFrame(main_topics).T\n",
    "    df.columns = columns=[\"Topic_\" + str(each) for each in range(lda.n_components)]\n",
    "    return df"
   ]
  },
  {
   "cell_type": "code",
   "execution_count": null,
   "metadata": {},
   "outputs": [],
   "source": [
    "# Call function and specify number of top words\n",
    "main_topics_df = top_words_f(3)"
   ]
  },
  {
   "cell_type": "code",
   "execution_count": null,
   "metadata": {},
   "outputs": [],
   "source": [
    "# Print top words in topic 1\n",
    "print(f\"Top words in topic 1: {main_topics_df['top_words'][0]}\")"
   ]
  },
  {
   "cell_type": "code",
   "execution_count": null,
   "metadata": {},
   "outputs": [],
   "source": [
    "# Print top words in each topic\n",
    "for i, each in enumerate(main_topics_df[\"top_words\"]):\n",
    "    print(f\"Top words in topic {i}: {each}\\n\")"
   ]
  },
  {
   "cell_type": "markdown",
   "metadata": {},
   "source": [
    "### Create a document topic matrix from results"
   ]
  },
  {
   "cell_type": "code",
   "execution_count": null,
   "metadata": {},
   "outputs": [],
   "source": [
    "cols = [\"Topic_\" + str(each) for each in range(lda.n_components)]\n",
    "docs = [\"Document_\" + str(each) for each in range(X.shape[0])]"
   ]
  },
  {
   "cell_type": "code",
   "execution_count": null,
   "metadata": {},
   "outputs": [],
   "source": [
    "docs"
   ]
  },
  {
   "cell_type": "code",
   "execution_count": null,
   "metadata": {},
   "outputs": [],
   "source": [
    "# Our input weight vector is doc_topics\n",
    "# This is a 2d array that is the proportion of the words in each document generated from that topic\n",
    "doc_topics"
   ]
  },
  {
   "cell_type": "code",
   "execution_count": null,
   "metadata": {},
   "outputs": [],
   "source": [
    "# Create dataframe with term weights and document # and topic # as rows, columns\n",
    "df_topics = pd.DataFrame(np.round(doc_topics, 2),\n",
    "                        columns=cols,\n",
    "                        index=docs)"
   ]
  },
  {
   "cell_type": "code",
   "execution_count": null,
   "metadata": {},
   "outputs": [],
   "source": [
    "# Extract most important topics from those values\n",
    "imp_topic = np.argmax(df_topics.values, axis=1)"
   ]
  },
  {
   "cell_type": "code",
   "execution_count": null,
   "metadata": {},
   "outputs": [],
   "source": [
    "text_train"
   ]
  },
  {
   "cell_type": "code",
   "execution_count": null,
   "metadata": {},
   "outputs": [],
   "source": [
    "df_topics"
   ]
  },
  {
   "cell_type": "code",
   "execution_count": null,
   "metadata": {},
   "outputs": [],
   "source": [
    "df_topics[\"top_topic\"] = imp_topic"
   ]
  },
  {
   "cell_type": "code",
   "execution_count": null,
   "metadata": {},
   "outputs": [],
   "source": [
    "df_topics"
   ]
  },
  {
   "cell_type": "code",
   "execution_count": null,
   "metadata": {},
   "outputs": [],
   "source": [
    "# Assign name based on domain\n",
    "df_topics[\"topic_name\"] = np.where(df_topics[\"top_topic\"] == 1,\n",
    "                                   \"env\",\n",
    "                                   \"econ\")"
   ]
  },
  {
   "cell_type": "code",
   "execution_count": null,
   "metadata": {},
   "outputs": [],
   "source": [
    "df_topics"
   ]
  },
  {
   "cell_type": "code",
   "execution_count": null,
   "metadata": {},
   "outputs": [],
   "source": [
    "# How dominant is the topic in each document. \n",
    "# Fundamentally: the proportion of the words in each document generated from that topic\n",
    "df_topics"
   ]
  },
  {
   "cell_type": "code",
   "execution_count": null,
   "metadata": {},
   "outputs": [],
   "source": [
    "text_train"
   ]
  },
  {
   "cell_type": "code",
   "execution_count": null,
   "metadata": {},
   "outputs": [],
   "source": [
    "# Assign name based on domain\n",
    "df_topics[\"topic_name\"] = np.where(df_topics[\"top_topic\"] == 0,\n",
    "                                   \"environment\",\n",
    "                                   \"economic\")"
   ]
  },
  {
   "cell_type": "code",
   "execution_count": null,
   "metadata": {},
   "outputs": [],
   "source": [
    "df_topics"
   ]
  },
  {
   "cell_type": "markdown",
   "metadata": {},
   "source": [
    "### PyLDAvis"
   ]
  },
  {
   "cell_type": "code",
   "execution_count": 2,
   "metadata": {},
   "outputs": [
    {
     "ename": "NameError",
     "evalue": "name 'lda' is not defined",
     "output_type": "error",
     "traceback": [
      "\u001b[1;31m---------------------------------------------------------------------------\u001b[0m",
      "\u001b[1;31mNameError\u001b[0m                                 Traceback (most recent call last)",
      "\u001b[1;32m~\\AppData\\Local\\Temp/ipykernel_18068/36783013.py\u001b[0m in \u001b[0;36m<module>\u001b[1;34m\u001b[0m\n\u001b[0;32m      1\u001b[0m \u001b[1;32mimport\u001b[0m \u001b[0mpyLDAvis\u001b[0m\u001b[1;33m.\u001b[0m\u001b[0msklearn\u001b[0m\u001b[1;33m\u001b[0m\u001b[1;33m\u001b[0m\u001b[0m\n\u001b[1;32m----> 2\u001b[1;33m lda_viz = pyLDAvis.sklearn.prepare(lda_model=lda,\n\u001b[0m\u001b[0;32m      3\u001b[0m                                    \u001b[0mdtm\u001b[0m\u001b[1;33m=\u001b[0m\u001b[0mX\u001b[0m\u001b[1;33m,\u001b[0m\u001b[1;33m\u001b[0m\u001b[1;33m\u001b[0m\u001b[0m\n\u001b[0;32m      4\u001b[0m                                    \u001b[0mvectorizer\u001b[0m\u001b[1;33m=\u001b[0m\u001b[0mvec\u001b[0m\u001b[1;33m,\u001b[0m\u001b[1;33m\u001b[0m\u001b[1;33m\u001b[0m\u001b[0m\n\u001b[0;32m      5\u001b[0m                                       sort_topics=False)\n",
      "\u001b[1;31mNameError\u001b[0m: name 'lda' is not defined"
     ]
    }
   ],
   "source": [
    "import pyLDAvis.sklearn\n",
    "lda_viz = pyLDAvis.sklearn.prepare(lda_model=lda,\n",
    "                                   dtm=X,\n",
    "                                   vectorizer=vec,\n",
    "                                      sort_topics=False)"
   ]
  },
  {
   "cell_type": "code",
   "execution_count": null,
   "metadata": {},
   "outputs": [],
   "source": [
    "pyLDAvis.display(lda_viz)\n",
    "\n",
    "# pyLDAvis\n",
    "# Left panel: \n",
    "    # global view of topic model\n",
    "    # centers of circle are distance between topics then projected onto two dimensions\n",
    "    # area of circles is the overall prevalence of the topic in the whole topic model\n",
    "    # examine how prevalent each topic is\n",
    "    # examine how topics relate to each other\n",
    "# Right panel:\n",
    "    # Bars represent individual terms that are most useful for interpreting selected topic on left\n",
    "    # Blue bar represents corpus wide frequencies\n",
    "    # Red bar represents topic-specific frequencies\n",
    "    # examine the meaning of each topic"
   ]
  },
  {
   "cell_type": "markdown",
   "metadata": {},
   "source": [
    "# Gensim"
   ]
  },
  {
   "cell_type": "code",
   "execution_count": 3,
   "metadata": {},
   "outputs": [],
   "source": [
    "from nltk.tokenize import word_tokenize\n",
    "from gensim.corpora.dictionary import Dictionary\n",
    "from gensim.models import LdaModel"
   ]
  },
  {
   "cell_type": "code",
   "execution_count": 4,
   "metadata": {},
   "outputs": [],
   "source": [
    "# Remove punctuation\n",
    "text_train[\"policy_views\"] = text_train['policy_views'].str.replace(\"[^\\w\\s]\", '')"
   ]
  },
  {
   "cell_type": "code",
   "execution_count": 10,
   "metadata": {},
   "outputs": [],
   "source": [
    "# Enforce uniform lower casing\n",
    "text_train[\"policy_views\"] = text_train['policy_views'].str.lower()"
   ]
  },
  {
   "cell_type": "code",
   "execution_count": 11,
   "metadata": {},
   "outputs": [],
   "source": [
    "# Tokenize text column\n",
    "text_train[\"tokenized\"] = text_train[\"policy_views\"].apply(word_tokenize)"
   ]
  },
  {
   "cell_type": "code",
   "execution_count": 12,
   "metadata": {},
   "outputs": [],
   "source": [
    "# Remove stopwords\n",
    "from nltk.corpus import stopwords\n",
    "sw = stopwords.words(\"english\")\n",
    "text_train[\"tokenized\"] = text_train['tokenized'].apply(lambda x: [each for each in x if each not in sw])"
   ]
  },
  {
   "cell_type": "code",
   "execution_count": 13,
   "metadata": {},
   "outputs": [],
   "source": [
    "# Create gensim dictionary with tokens and ids\n",
    "dictionary = Dictionary(text_train[\"tokenized\"])"
   ]
  },
  {
   "cell_type": "code",
   "execution_count": 14,
   "metadata": {},
   "outputs": [
    {
     "data": {
      "text/plain": [
       "{'funding': 0,\n",
       " 'like': 1,\n",
       " 'mitigation': 2,\n",
       " 'pollution': 3,\n",
       " 'would': 4,\n",
       " 'environmental': 5,\n",
       " 'important': 6,\n",
       " 'reducing': 7,\n",
       " 'regulation': 8,\n",
       " 'living': 9,\n",
       " 'minimum': 10,\n",
       " 'raising': 11,\n",
       " 'standards': 12,\n",
       " 'wage': 13,\n",
       " 'bargaining': 14,\n",
       " 'collective': 15,\n",
       " 'go': 16,\n",
       " 'increases': 17,\n",
       " 'low': 18,\n",
       " 'need': 19,\n",
       " 'wages': 20,\n",
       " 'whether': 21,\n",
       " 'change': 22,\n",
       " 'climate': 23,\n",
       " 'degredation': 24,\n",
       " 'focus': 25,\n",
       " 'main': 26,\n",
       " 'fuels': 27,\n",
       " 'investing': 28,\n",
       " 'renewable': 29,\n",
       " 'policy': 30,\n",
       " 'chamge': 31,\n",
       " 'environment': 32,\n",
       " 'global': 33,\n",
       " 'power': 34,\n",
       " 'solar': 35,\n",
       " 'warming': 36,\n",
       " 'ensure': 37,\n",
       " 'federal': 38,\n",
       " 'increase': 39,\n",
       " 'level': 40,\n",
       " 'livable': 41,\n",
       " 'nobody': 42,\n",
       " 'poverty': 43}"
      ]
     },
     "execution_count": 14,
     "metadata": {},
     "output_type": "execute_result"
    }
   ],
   "source": [
    "# Dictionary of all tokens and ids\n",
    "dictionary.token2id"
   ]
  },
  {
   "cell_type": "code",
   "execution_count": 15,
   "metadata": {},
   "outputs": [],
   "source": [
    "# Create gensim corpus, uses bag of words with token ids and tf\n",
    "gensim_corpus = [dictionary.doc2bow(doc) for doc in text_train[\"tokenized\"]]"
   ]
  },
  {
   "cell_type": "code",
   "execution_count": 16,
   "metadata": {},
   "outputs": [],
   "source": [
    "# gensim_corpus: Returned in gensim_corpus: series of tuples with (token_id, token_freq_in_doc)"
   ]
  },
  {
   "cell_type": "code",
   "execution_count": 38,
   "metadata": {},
   "outputs": [],
   "source": [
    "# Fit model\n",
    "ldamodel = LdaModel(corpus=gensim_corpus,\n",
    "                   num_topics = 10,\n",
    "                   id2word=dictionary)"
   ]
  },
  {
   "cell_type": "code",
   "execution_count": 39,
   "metadata": {},
   "outputs": [
    {
     "data": {
      "text/plain": [
       "[(0,\n",
       "  '0.023*\"environmental\" + 0.023*\"wage\" + 0.023*\"climate\" + 0.023*\"minimum\" + 0.023*\"regulation\" + 0.023*\"pollution\" + 0.023*\"investing\" + 0.023*\"living\" + 0.023*\"change\" + 0.023*\"funding\"'),\n",
       " (1,\n",
       "  '0.117*\"pollution\" + 0.117*\"would\" + 0.117*\"mitigation\" + 0.117*\"funding\" + 0.117*\"like\" + 0.011*\"environmental\" + 0.011*\"wage\" + 0.011*\"minimum\" + 0.011*\"climate\" + 0.011*\"regulation\"'),\n",
       " (2,\n",
       "  '0.023*\"wage\" + 0.023*\"environmental\" + 0.023*\"climate\" + 0.023*\"minimum\" + 0.023*\"pollution\" + 0.023*\"regulation\" + 0.023*\"change\" + 0.023*\"fuels\" + 0.023*\"living\" + 0.023*\"investing\"'),\n",
       " (3,\n",
       "  '0.023*\"wage\" + 0.023*\"environmental\" + 0.023*\"pollution\" + 0.023*\"minimum\" + 0.023*\"climate\" + 0.023*\"change\" + 0.023*\"regulation\" + 0.023*\"investing\" + 0.023*\"raising\" + 0.023*\"funding\"'),\n",
       " (4,\n",
       "  '0.067*\"climate\" + 0.067*\"power\" + 0.067*\"environment\" + 0.067*\"chamge\" + 0.067*\"environmental\" + 0.067*\"renewable\" + 0.067*\"global\" + 0.067*\"regulation\" + 0.067*\"solar\" + 0.067*\"warming\"'),\n",
       " (5,\n",
       "  '0.128*\"environmental\" + 0.128*\"change\" + 0.128*\"climate\" + 0.067*\"minimum\" + 0.067*\"degredation\" + 0.067*\"wage\" + 0.067*\"main\" + 0.067*\"policy\" + 0.067*\"focus\" + 0.006*\"regulation\"'),\n",
       " (6,\n",
       "  '0.076*\"wage\" + 0.075*\"low\" + 0.075*\"go\" + 0.075*\"bargaining\" + 0.075*\"minimum\" + 0.072*\"collective\" + 0.072*\"wages\" + 0.072*\"need\" + 0.071*\"increases\" + 0.070*\"whether\"'),\n",
       " (7,\n",
       "  '0.099*\"environmental\" + 0.099*\"reducing\" + 0.099*\"regulation\" + 0.099*\"important\" + 0.099*\"pollution\" + 0.027*\"whether\" + 0.027*\"increases\" + 0.026*\"need\" + 0.025*\"wages\" + 0.025*\"collective\"'),\n",
       " (8,\n",
       "  '0.023*\"environmental\" + 0.023*\"minimum\" + 0.023*\"pollution\" + 0.023*\"wage\" + 0.023*\"climate\" + 0.023*\"regulation\" + 0.023*\"change\" + 0.023*\"raising\" + 0.023*\"living\" + 0.023*\"standards\"'),\n",
       " (9,\n",
       "  '0.114*\"minimum\" + 0.114*\"wage\" + 0.060*\"federal\" + 0.060*\"ensure\" + 0.060*\"nobody\" + 0.060*\"level\" + 0.060*\"poverty\" + 0.060*\"increase\" + 0.060*\"livable\" + 0.060*\"standards\"')]"
      ]
     },
     "execution_count": 39,
     "metadata": {},
     "output_type": "execute_result"
    }
   ],
   "source": [
    "# Show topics gensim. Maps \n",
    "ldamodel.show_topics()"
   ]
  },
  {
   "cell_type": "code",
   "execution_count": 40,
   "metadata": {},
   "outputs": [],
   "source": [
    "import pyLDAvis\n",
    "import pyLDAvis.gensim_models as gensim_pyvis\n",
    "pyLDAvis.enable_notebook()"
   ]
  },
  {
   "cell_type": "code",
   "execution_count": 41,
   "metadata": {},
   "outputs": [],
   "source": [
    "vis = gensim_pyvis.prepare(ldamodel,\n",
    "                       gensim_corpus,\n",
    "                       dictionary)"
   ]
  },
  {
   "cell_type": "code",
   "execution_count": 45,
   "metadata": {},
   "outputs": [
    {
     "data": {
      "text/html": [
       "\n",
       "<link rel=\"stylesheet\" type=\"text/css\" href=\"https://cdn.jsdelivr.net/gh/bmabey/pyLDAvis@3.3.1/pyLDAvis/js/ldavis.v1.0.0.css\">\n",
       "\n",
       "\n",
       "<div id=\"ldavis_el272491405228867496488370822493\"></div>\n",
       "<script type=\"text/javascript\">\n",
       "\n",
       "var ldavis_el272491405228867496488370822493_data = {\"mdsDat\": {\"x\": [-0.1825385392968882, 0.1819784891942082, 0.02042572965534995, -0.08756543569838318, 0.0381365525050648, 0.02488249709650528, 0.001170036296295432, 0.0011699474266327404, 0.0011698354775267438, 0.0011708873436880578], \"y\": [0.04381958285951526, 0.03910948000419417, 0.1619974875344092, -0.03462001883970375, -0.048297463381234564, -0.14453572295416392, -0.004368969479693596, -0.004368551529281084, -0.004367454314012988, -0.004368369900028774], \"topics\": [1, 2, 3, 4, 5, 6, 7, 8, 9, 10], \"cluster\": [1, 1, 1, 1, 1, 1, 1, 1, 1, 1], \"Freq\": [22.482501606452114, 19.077249561553113, 19.067051512212448, 17.007030348782667, 8.516973942939504, 8.516966161579044, 1.3330567166202778, 1.3330567166202778, 1.3330567166202778, 1.3330567166202778]}, \"tinfo\": {\"Term\": [\"environmental\", \"change\", \"pollution\", \"climate\", \"regulation\", \"funding\", \"would\", \"mitigation\", \"like\", \"reducing\", \"important\", \"wage\", \"minimum\", \"low\", \"go\", \"bargaining\", \"collective\", \"wages\", \"need\", \"investing\", \"environment\", \"global\", \"warming\", \"chamge\", \"renewable\", \"fuels\", \"solar\", \"power\", \"degredation\", \"main\", \"federal\", \"ensure\", \"nobody\", \"poverty\", \"level\", \"increase\", \"livable\", \"standards\", \"raising\", \"living\", \"minimum\", \"wage\", \"reducing\", \"important\", \"like\", \"funding\", \"mitigation\", \"would\", \"focus\", \"policy\", \"main\", \"degredation\", \"fuels\", \"investing\", \"solar\", \"warming\", \"chamge\", \"renewable\", \"global\", \"environment\", \"environmental\", \"pollution\", \"regulation\", \"climate\", \"change\", \"power\", \"environment\", \"chamge\", \"global\", \"renewable\", \"solar\", \"warming\", \"fuels\", \"investing\", \"regulation\", \"climate\", \"environmental\", \"important\", \"reducing\", \"mitigation\", \"would\", \"funding\", \"like\", \"policy\", \"focus\", \"main\", \"degredation\", \"whether\", \"raising\", \"living\", \"standards\", \"livable\", \"level\", \"nobody\", \"increase\", \"wage\", \"pollution\", \"minimum\", \"change\", \"change\", \"degredation\", \"main\", \"focus\", \"policy\", \"climate\", \"environmental\", \"minimum\", \"wage\", \"important\", \"reducing\", \"mitigation\", \"like\", \"would\", \"funding\", \"investing\", \"fuels\", \"warming\", \"renewable\", \"solar\", \"power\", \"global\", \"environment\", \"chamge\", \"whether\", \"living\", \"raising\", \"standards\", \"livable\", \"increase\", \"regulation\", \"pollution\", \"collective\", \"need\", \"low\", \"go\", \"bargaining\", \"collective\", \"wages\", \"need\", \"increases\", \"whether\", \"wage\", \"minimum\", \"reducing\", \"important\", \"would\", \"like\", \"funding\", \"mitigation\", \"policy\", \"focus\", \"main\", \"degredation\", \"investing\", \"fuels\", \"solar\", \"warming\", \"renewable\", \"environment\", \"global\", \"chamge\", \"power\", \"living\", \"environmental\", \"climate\", \"pollution\", \"regulation\", \"change\", \"raising\", \"standards\", \"reducing\", \"important\", \"pollution\", \"regulation\", \"environmental\", \"whether\", \"increases\", \"need\", \"wages\", \"collective\", \"bargaining\", \"go\", \"low\", \"funding\", \"mitigation\", \"would\", \"like\", \"focus\", \"policy\", \"main\", \"degredation\", \"investing\", \"fuels\", \"warming\", \"solar\", \"global\", \"chamge\", \"renewable\", \"power\", \"environment\", \"minimum\", \"wage\", \"climate\", \"living\", \"change\", \"standards\", \"raising\", \"funding\", \"would\", \"mitigation\", \"like\", \"pollution\", \"reducing\", \"important\", \"policy\", \"focus\", \"main\", \"degredation\", \"investing\", \"warming\", \"fuels\", \"solar\", \"global\", \"renewable\", \"chamge\", \"power\", \"environment\", \"whether\", \"living\", \"raising\", \"standards\", \"livable\", \"poverty\", \"nobody\", \"increase\", \"ensure\", \"federal\", \"environmental\", \"wage\", \"minimum\", \"climate\", \"regulation\", \"change\", \"reducing\", \"important\", \"funding\", \"would\", \"like\", \"mitigation\", \"policy\", \"focus\", \"main\", \"degredation\", \"fuels\", \"investing\", \"global\", \"warming\", \"renewable\", \"chamge\", \"solar\", \"power\", \"environment\", \"whether\", \"raising\", \"living\", \"standards\", \"livable\", \"level\", \"nobody\", \"increase\", \"poverty\", \"ensure\", \"federal\", \"environmental\", \"minimum\", \"pollution\", \"wage\", \"climate\", \"regulation\", \"change\", \"collective\", \"need\", \"important\", \"reducing\", \"funding\", \"would\", \"like\", \"mitigation\", \"focus\", \"policy\", \"main\", \"degredation\", \"investing\", \"warming\", \"global\", \"chamge\", \"renewable\", \"fuels\", \"solar\", \"environment\", \"power\", \"whether\", \"raising\", \"living\", \"standards\", \"livable\", \"level\", \"increase\", \"poverty\", \"ensure\", \"federal\", \"nobody\", \"increases\", \"wage\", \"environmental\", \"pollution\", \"minimum\", \"climate\", \"change\", \"regulation\", \"need\", \"important\", \"reducing\", \"like\", \"mitigation\", \"would\", \"funding\", \"focus\", \"policy\", \"main\", \"degredation\", \"fuels\", \"investing\", \"solar\", \"warming\", \"environment\", \"renewable\", \"global\", \"power\", \"chamge\", \"whether\", \"living\", \"standards\", \"raising\", \"livable\", \"poverty\", \"nobody\", \"increase\", \"level\", \"federal\", \"ensure\", \"wage\", \"environmental\", \"climate\", \"minimum\", \"pollution\", \"regulation\", \"change\", \"need\", \"important\", \"reducing\", \"funding\", \"like\", \"mitigation\", \"would\", \"focus\", \"policy\", \"main\", \"degredation\", \"investing\", \"solar\", \"warming\", \"fuels\", \"global\", \"renewable\", \"chamge\", \"environment\", \"power\", \"whether\", \"living\", \"standards\", \"raising\", \"livable\", \"poverty\", \"level\", \"increase\", \"nobody\", \"ensure\", \"federal\", \"environmental\", \"wage\", \"climate\", \"minimum\", \"regulation\", \"pollution\", \"change\", \"need\"], \"Freq\": [2.0, 1.0, 1.0, 2.0, 1.0, 0.0, 0.0, 0.0, 0.0, 0.0, 0.0, 3.0, 3.0, 1.0, 1.0, 1.0, 1.0, 1.0, 1.0, 1.0, 1.0, 1.0, 1.0, 1.0, 1.0, 1.0, 1.0, 1.0, 1.0, 1.0, 0.779553859030192, 0.7795531303717187, 0.7795501671605934, 0.7795488069981098, 0.7795493899248885, 0.7795483212257942, 0.7795422004946176, 0.7795339423652524, 0.7795261700082028, 0.7795186405373109, 1.4882343144497838, 1.4881943839654415, 0.07087451481477221, 0.0708738408056843, 0.0708755531530968, 0.07087466054646689, 0.07087413834122762, 0.07087404725891844, 0.07087498844277992, 0.07087442373246303, 0.07087410190830394, 0.07087305142567145, 0.07087660970788323, 0.07087590533802561, 0.0708748244946234, 0.07087405940322633, 0.07087429621723018, 0.07087401689814872, 0.07087376186768302, 0.0708738408056843, 0.07088444278647232, 0.07088106666887889, 0.0708798825988596, 0.07087818846790894, 0.0708759296266414, 0.7421433493292241, 0.7421418654232297, 0.7421414532271202, 0.7421365893130276, 0.7421370839483591, 0.7421322200342666, 0.7421304888106065, 0.7421252951396263, 0.7421175458527671, 0.74213452833248, 0.742155880090954, 0.742140793713345, 0.06747513257907357, 0.06747373111230115, 0.06747468431580446, 0.06747436486381957, 0.067474091783897, 0.06747404541183467, 0.06747495224327565, 0.06747432879665999, 0.06747398358241824, 0.0674728036710547, 0.06747264394506225, 0.06747466885845035, 0.0674744112358819, 0.0674733395259971, 0.06747338074560805, 0.06747321586716423, 0.06747250482887529, 0.06747218022443903, 0.06748286640857876, 0.0674794967053833, 0.0674788938685731, 0.06747624035611796, 1.4160477084427523, 0.7417472838750923, 0.7417392091501276, 0.7417306400542467, 0.7417312992154683, 1.416036502701985, 1.416052487361609, 0.7417530515357813, 0.7417417633998613, 0.06743814602003412, 0.06743653931455645, 0.06743872793580007, 0.06743831081033952, 0.0674378267388174, 0.06743643632061558, 0.06743900601944043, 0.06743868158852667, 0.06743865584004145, 0.06743842410367448, 0.06743768254730018, 0.0674375795533593, 0.06743702338607857, 0.0674367092545589, 0.06743656506304167, 0.0674367092545589, 0.06744013895279007, 0.06743851679822127, 0.0674370388351697, 0.06743709548183718, 0.06743685859577317, 0.06744352745344488, 0.06744190014917904, 0.06743752290669182, 0.06743692554183474, 0.7408085372128499, 0.7394787529294665, 0.7381452204976111, 0.7150541271443794, 0.7147766906643434, 0.7080784553724317, 0.7015366869059497, 0.6942077337672382, 0.7451893143524497, 0.7350767362818587, 0.07740350098732107, 0.07740278442952496, 0.07740385926621914, 0.07740362041362042, 0.07740285792263225, 0.0774029681622932, 0.07740501678265901, 0.07740337237438331, 0.07740171877946919, 0.07740194844542948, 0.07740564147407103, 0.07740504434257425, 0.07740314270842302, 0.07740290385582431, 0.07740277524288655, 0.07740194844542948, 0.07740151667342413, 0.07740171877946919, 0.07740153504670096, 0.07740559554087896, 0.07741156685584663, 0.0774099775674014, 0.07740878330440785, 0.07740781870737462, 0.07740520970206567, 0.0774047595567835, 0.07740338156102172, 0.49148786245265613, 0.491484881270861, 0.4914795445874006, 0.4914863534594018, 0.49149492895765196, 0.13540623405657526, 0.1311773264672456, 0.12739739957814528, 0.1235362998933768, 0.12337111113792107, 0.11004549534793984, 0.10927719695321168, 0.10850553092719646, 0.044685665420627095, 0.04468548599764868, 0.04468544919293516, 0.044685163956405385, 0.0446862588966326, 0.044685702225340615, 0.044685223764064856, 0.04468442326154579, 0.04468620829015151, 0.0446852927729027, 0.04468528357172433, 0.04468532037643784, 0.04468519616052971, 0.044684943128124266, 0.04468476830573505, 0.04468475450396747, 0.04468464869041611, 0.111823319430984, 0.1059969308548577, 0.044688651203011395, 0.044687160612113835, 0.04468619448838394, 0.044685518201773015, 0.04468546759529192, 0.5780382187705427, 0.5780390652781804, 0.5780386236220216, 0.5780367097786672, 0.578040942316855, 0.05255563830499094, 0.05255483320261825, 0.05255499422309279, 0.05255485620554319, 0.05255504482952764, 0.052553894683280956, 0.052555325465211834, 0.05255493901607295, 0.052554920613733, 0.05255494821724292, 0.05255486080612817, 0.05255481480027831, 0.05255425812949491, 0.05255421212364504, 0.05255357264233188, 0.05255355884057692, 0.05255535306872176, 0.052554971220167855, 0.052554419149969445, 0.0525540188990756, 0.052553784269241274, 0.05255380727216621, 0.05255362324876674, 0.05255373826339141, 0.05255373366280642, 0.05256316026144428, 0.05256142124031928, 0.05255985704142379, 0.052558463064172806, 0.052557335920851045, 0.052557151897451575, 0.01757194667444153, 0.017571853064900514, 0.0175722620665874, 0.017572097889853932, 0.017572033083248617, 0.01757202876280826, 0.017572030202955044, 0.017571997079578995, 0.017571886188276563, 0.017571709050222033, 0.017572156935872107, 0.017571986998551503, 0.017572017241633982, 0.01757195387517545, 0.01757183434299231, 0.01757176521594664, 0.01757167880713955, 0.0175716932086074, 0.017571664405671705, 0.017571589518038895, 0.01757251985286188, 0.017572322552752363, 0.017572313911871654, 0.017571755134919147, 0.01757173785315773, 0.01757165144435064, 0.017571602479359957, 0.017571575116571043, 0.017571449823800767, 0.017571433982186135, 0.01757434163854467, 0.01757390815436244, 0.0175737886221793, 0.017573712294399704, 0.017573466029299503, 0.01757312039407115, 0.017572751716494237, 0.017571886188276563, 0.017571796899175908, 0.017572164136606033, 0.01757172633198345, 0.017572485289339045, 0.017572149735138185, 0.01757194811458831, 0.017571871786808718, 0.017572067646771453, 0.01757173209257059, 0.01757174217359808, 0.017571589518038895, 0.017572666747833934, 0.017572063326331096, 0.017571933713120463, 0.01757187034666193, 0.0175718545050473, 0.017571762335653072, 0.017571730652423803, 0.017571782497708056, 0.01757154919392892, 0.017571589518038895, 0.017572528493742592, 0.017572322552752363, 0.017572066206624666, 0.017571776737120917, 0.01757165720493778, 0.017571593838479248, 0.017571494468351094, 0.017571521831140007, 0.01757149878879145, 0.017571419580718284, 0.0175717407334513, 0.017574972422836416, 0.017574762161405834, 0.017573695012638287, 0.01757341130372168, 0.01757329177153854, 0.01757292021366806, 0.01757279780119135, 0.01757166584581849, 0.017572164136606033, 0.017571783937854843, 0.017572254865853475, 0.017572066206624666, 0.017571986998551503, 0.017571675926845984, 0.017572110851174993, 0.01757212813293641, 0.017571917871505832, 0.01757164280346993, 0.017572449285669426, 0.017572257746147048, 0.01757205900589074, 0.01757195963576259, 0.017571896269304058, 0.01757182282181803, 0.017571621201268157, 0.017571631282295653, 0.017571444063213627, 0.01757175369477236, 0.017572421922880513, 0.017572067646771453, 0.017572005720459704, 0.01757175369477236, 0.01757177385682735, 0.017571781057561273, 0.01757172633198345, 0.017571566475690338, 0.017571599599066387, 0.017571433982186135, 0.017575580164779607, 0.017574403564856414, 0.017574161620196566, 0.01757304406629155, 0.01757302246408978, 0.01757276179752173, 0.017572758917228162, 0.01757174217359808, 0.017571988438698286, 0.017571932272973677, 0.017572299510403806, 0.017572250545413122, 0.01757222606291778, 0.01757192939268011, 0.017571867466368362, 0.017571830022551957, 0.017571758015212716, 0.017571688888167045, 0.017572846766182034, 0.017572131013229984, 0.017572073407358592, 0.017572024442367905, 0.017571913551065476, 0.017571713370662385, 0.017571724891836664, 0.01757166584581849, 0.01757151751069965, 0.01757172057139631, 0.017572313911871654, 0.017572247665119552, 0.017571917871505832, 0.017571664405671705, 0.017571569355983904, 0.01757151751069965, 0.017571484387323602, 0.017571464225268615, 0.01757145990482826, 0.01757144838365398, 0.017575166842652368, 0.017574343078691455, 0.017573892312747807, 0.017573726695867556, 0.017573394021960263, 0.01757325576786892, 0.0175723095914313, 0.017571671606405628], \"Total\": [2.0, 1.0, 1.0, 2.0, 1.0, 0.0, 0.0, 0.0, 0.0, 0.0, 0.0, 3.0, 3.0, 1.0, 1.0, 1.0, 1.0, 1.0, 1.0, 1.0, 1.0, 1.0, 1.0, 1.0, 1.0, 1.0, 1.0, 1.0, 1.0, 1.0, 1.1593866336922194, 1.1593864926036557, 1.1593843731574667, 1.1593831949743822, 1.1593842988929768, 1.159383734755239, 1.1593806061033143, 1.1593763350695707, 1.1593735259756879, 1.1593706808879547, 3.267220262828648, 3.271465288182215, 0.8975191762038515, 0.897517788084607, 0.9762018901330675, 0.9762006535579578, 0.9762028211939551, 0.976202776615114, 1.1250124878141394, 1.1250141088733132, 1.1250165862625048, 1.1250200356219724, 1.1253742371648088, 1.125369390698382, 1.1253757378569782, 1.1253743807421235, 1.125380039062139, 1.1253791083396023, 1.1253764339139594, 1.1253795942801526, 2.9208460541438286, 1.4230254955988813, 1.5722015204871562, 2.474022474829216, 1.7993391749522343, 1.1253808185287144, 1.1253795942801526, 1.125380039062139, 1.1253764339139594, 1.1253791083396023, 1.1253757378569782, 1.1253743807421235, 1.1253742371648088, 1.125369390698382, 1.5722015204871562, 2.474022474829216, 2.9208460541438286, 0.897517788084607, 0.8975191762038515, 0.9762028211939551, 0.976202776615114, 0.9762006535579578, 0.9762018901330675, 1.1250141088733132, 1.1250124878141394, 1.1250165862625048, 1.1250200356219724, 1.1582369185603962, 1.1593735259756879, 1.1593706808879547, 1.1593763350695707, 1.1593806061033143, 1.1593842988929768, 1.1593843731574667, 1.159383734755239, 3.271465288182215, 1.4230254955988813, 3.267220262828648, 1.7993391749522343, 1.7993391749522343, 1.1250200356219724, 1.1250165862625048, 1.1250124878141394, 1.1250141088733132, 2.474022474829216, 2.9208460541438286, 3.267220262828648, 3.271465288182215, 0.897517788084607, 0.8975191762038515, 0.9762028211939551, 0.9762018901330675, 0.976202776615114, 0.9762006535579578, 1.125369390698382, 1.1253742371648088, 1.1253743807421235, 1.1253791083396023, 1.1253757378569782, 1.1253808185287144, 1.1253764339139594, 1.1253795942801526, 1.125380039062139, 1.1582369185603962, 1.1593706808879547, 1.1593735259756879, 1.1593763350695707, 1.1593806061033143, 1.159383734755239, 1.5722015204871562, 1.4230254955988813, 1.1670489953260148, 1.164099062676493, 1.1779352210767957, 1.1773743324052703, 1.1768103698827925, 1.1670489953260148, 1.166932332957555, 1.164099062676493, 1.1613353509879256, 1.1582369185603962, 3.271465288182215, 3.267220262828648, 0.8975191762038515, 0.897517788084607, 0.976202776615114, 0.9762018901330675, 0.9762006535579578, 0.9762028211939551, 1.1250141088733132, 1.1250124878141394, 1.1250165862625048, 1.1250200356219724, 1.125369390698382, 1.1253742371648088, 1.1253757378569782, 1.1253743807421235, 1.1253791083396023, 1.1253795942801526, 1.1253764339139594, 1.125380039062139, 1.1253808185287144, 1.1593706808879547, 2.9208460541438286, 2.474022474829216, 1.4230254955988813, 1.5722015204871562, 1.7993391749522343, 1.1593735259756879, 1.1593763350695707, 0.8975191762038515, 0.897517788084607, 1.4230254955988813, 1.5722015204871562, 2.9208460541438286, 1.1582369185603962, 1.1613353509879256, 1.164099062676493, 1.166932332957555, 1.1670489953260148, 1.1768103698827925, 1.1773743324052703, 1.1779352210767957, 0.9762006535579578, 0.9762028211939551, 0.976202776615114, 0.9762018901330675, 1.1250124878141394, 1.1250141088733132, 1.1250165862625048, 1.1250200356219724, 1.125369390698382, 1.1253742371648088, 1.1253743807421235, 1.1253757378569782, 1.1253764339139594, 1.125380039062139, 1.1253791083396023, 1.1253808185287144, 1.1253795942801526, 3.267220262828648, 3.271465288182215, 2.474022474829216, 1.1593706808879547, 1.7993391749522343, 1.1593763350695707, 1.1593735259756879, 0.9762006535579578, 0.976202776615114, 0.9762028211939551, 0.9762018901330675, 1.4230254955988813, 0.8975191762038515, 0.897517788084607, 1.1250141088733132, 1.1250124878141394, 1.1250165862625048, 1.1250200356219724, 1.125369390698382, 1.1253743807421235, 1.1253742371648088, 1.1253757378569782, 1.1253764339139594, 1.1253791083396023, 1.125380039062139, 1.1253808185287144, 1.1253795942801526, 1.1582369185603962, 1.1593706808879547, 1.1593735259756879, 1.1593763350695707, 1.1593806061033143, 1.1593831949743822, 1.1593843731574667, 1.159383734755239, 1.1593864926036557, 1.1593866336922194, 2.9208460541438286, 3.271465288182215, 3.267220262828648, 2.474022474829216, 1.5722015204871562, 1.7993391749522343, 0.8975191762038515, 0.897517788084607, 0.9762006535579578, 0.976202776615114, 0.9762018901330675, 0.9762028211939551, 1.1250141088733132, 1.1250124878141394, 1.1250165862625048, 1.1250200356219724, 1.1253742371648088, 1.125369390698382, 1.1253764339139594, 1.1253743807421235, 1.1253791083396023, 1.125380039062139, 1.1253757378569782, 1.1253808185287144, 1.1253795942801526, 1.1582369185603962, 1.1593735259756879, 1.1593706808879547, 1.1593763350695707, 1.1593806061033143, 1.1593842988929768, 1.1593843731574667, 1.159383734755239, 1.1593831949743822, 1.1593864926036557, 1.1593866336922194, 2.9208460541438286, 3.267220262828648, 1.4230254955988813, 3.271465288182215, 2.474022474829216, 1.5722015204871562, 1.7993391749522343, 1.1670489953260148, 1.164099062676493, 0.897517788084607, 0.8975191762038515, 0.9762006535579578, 0.976202776615114, 0.9762018901330675, 0.9762028211939551, 1.1250124878141394, 1.1250141088733132, 1.1250165862625048, 1.1250200356219724, 1.125369390698382, 1.1253743807421235, 1.1253764339139594, 1.125380039062139, 1.1253791083396023, 1.1253742371648088, 1.1253757378569782, 1.1253795942801526, 1.1253808185287144, 1.1582369185603962, 1.1593735259756879, 1.1593706808879547, 1.1593763350695707, 1.1593806061033143, 1.1593842988929768, 1.159383734755239, 1.1593831949743822, 1.1593864926036557, 1.1593866336922194, 1.1593843731574667, 1.1613353509879256, 3.271465288182215, 2.9208460541438286, 1.4230254955988813, 3.267220262828648, 2.474022474829216, 1.7993391749522343, 1.5722015204871562, 1.164099062676493, 0.897517788084607, 0.8975191762038515, 0.9762018901330675, 0.9762028211939551, 0.976202776615114, 0.9762006535579578, 1.1250124878141394, 1.1250141088733132, 1.1250165862625048, 1.1250200356219724, 1.1253742371648088, 1.125369390698382, 1.1253757378569782, 1.1253743807421235, 1.1253795942801526, 1.1253791083396023, 1.1253764339139594, 1.1253808185287144, 1.125380039062139, 1.1582369185603962, 1.1593706808879547, 1.1593763350695707, 1.1593735259756879, 1.1593806061033143, 1.1593831949743822, 1.1593843731574667, 1.159383734755239, 1.1593842988929768, 1.1593866336922194, 1.1593864926036557, 3.271465288182215, 2.9208460541438286, 2.474022474829216, 3.267220262828648, 1.4230254955988813, 1.5722015204871562, 1.7993391749522343, 1.164099062676493, 0.897517788084607, 0.8975191762038515, 0.9762006535579578, 0.9762018901330675, 0.9762028211939551, 0.976202776615114, 1.1250124878141394, 1.1250141088733132, 1.1250165862625048, 1.1250200356219724, 1.125369390698382, 1.1253757378569782, 1.1253743807421235, 1.1253742371648088, 1.1253764339139594, 1.1253791083396023, 1.125380039062139, 1.1253795942801526, 1.1253808185287144, 1.1582369185603962, 1.1593706808879547, 1.1593763350695707, 1.1593735259756879, 1.1593806061033143, 1.1593831949743822, 1.1593842988929768, 1.159383734755239, 1.1593843731574667, 1.1593864926036557, 1.1593866336922194, 2.9208460541438286, 3.271465288182215, 2.474022474829216, 3.267220262828648, 1.5722015204871562, 1.4230254955988813, 1.7993391749522343, 1.164099062676493], \"Category\": [\"Default\", \"Default\", \"Default\", \"Default\", \"Default\", \"Default\", \"Default\", \"Default\", \"Default\", \"Default\", \"Default\", \"Default\", \"Default\", \"Default\", \"Default\", \"Default\", \"Default\", \"Default\", \"Default\", \"Default\", \"Default\", \"Default\", \"Default\", \"Default\", \"Default\", \"Default\", \"Default\", \"Default\", \"Default\", \"Default\", \"Topic1\", \"Topic1\", \"Topic1\", \"Topic1\", \"Topic1\", \"Topic1\", \"Topic1\", \"Topic1\", \"Topic1\", \"Topic1\", \"Topic1\", \"Topic1\", \"Topic1\", \"Topic1\", \"Topic1\", \"Topic1\", \"Topic1\", \"Topic1\", \"Topic1\", \"Topic1\", \"Topic1\", \"Topic1\", \"Topic1\", \"Topic1\", \"Topic1\", \"Topic1\", \"Topic1\", \"Topic1\", \"Topic1\", \"Topic1\", \"Topic1\", \"Topic1\", \"Topic1\", \"Topic1\", \"Topic1\", \"Topic2\", \"Topic2\", \"Topic2\", \"Topic2\", \"Topic2\", \"Topic2\", \"Topic2\", \"Topic2\", \"Topic2\", \"Topic2\", \"Topic2\", \"Topic2\", \"Topic2\", \"Topic2\", \"Topic2\", \"Topic2\", \"Topic2\", \"Topic2\", \"Topic2\", \"Topic2\", \"Topic2\", \"Topic2\", \"Topic2\", \"Topic2\", \"Topic2\", \"Topic2\", \"Topic2\", \"Topic2\", \"Topic2\", \"Topic2\", \"Topic2\", \"Topic2\", \"Topic2\", \"Topic2\", \"Topic3\", \"Topic3\", \"Topic3\", \"Topic3\", \"Topic3\", \"Topic3\", \"Topic3\", \"Topic3\", \"Topic3\", \"Topic3\", \"Topic3\", \"Topic3\", \"Topic3\", \"Topic3\", \"Topic3\", \"Topic3\", \"Topic3\", \"Topic3\", \"Topic3\", \"Topic3\", \"Topic3\", \"Topic3\", \"Topic3\", \"Topic3\", \"Topic3\", \"Topic3\", \"Topic3\", \"Topic3\", \"Topic3\", \"Topic3\", \"Topic3\", \"Topic3\", \"Topic3\", \"Topic3\", \"Topic4\", \"Topic4\", \"Topic4\", \"Topic4\", \"Topic4\", \"Topic4\", \"Topic4\", \"Topic4\", \"Topic4\", \"Topic4\", \"Topic4\", \"Topic4\", \"Topic4\", \"Topic4\", \"Topic4\", \"Topic4\", \"Topic4\", \"Topic4\", \"Topic4\", \"Topic4\", \"Topic4\", \"Topic4\", \"Topic4\", \"Topic4\", \"Topic4\", \"Topic4\", \"Topic4\", \"Topic4\", \"Topic4\", \"Topic4\", \"Topic4\", \"Topic4\", \"Topic4\", \"Topic4\", \"Topic4\", \"Topic4\", \"Topic4\", \"Topic5\", \"Topic5\", \"Topic5\", \"Topic5\", \"Topic5\", \"Topic5\", \"Topic5\", \"Topic5\", \"Topic5\", \"Topic5\", \"Topic5\", \"Topic5\", \"Topic5\", \"Topic5\", \"Topic5\", \"Topic5\", \"Topic5\", \"Topic5\", \"Topic5\", \"Topic5\", \"Topic5\", \"Topic5\", \"Topic5\", \"Topic5\", \"Topic5\", \"Topic5\", \"Topic5\", \"Topic5\", \"Topic5\", \"Topic5\", \"Topic5\", \"Topic5\", \"Topic5\", \"Topic5\", \"Topic5\", \"Topic5\", \"Topic5\", \"Topic6\", \"Topic6\", \"Topic6\", \"Topic6\", \"Topic6\", \"Topic6\", \"Topic6\", \"Topic6\", \"Topic6\", \"Topic6\", \"Topic6\", \"Topic6\", \"Topic6\", \"Topic6\", \"Topic6\", \"Topic6\", \"Topic6\", \"Topic6\", \"Topic6\", \"Topic6\", \"Topic6\", \"Topic6\", \"Topic6\", \"Topic6\", \"Topic6\", \"Topic6\", \"Topic6\", \"Topic6\", \"Topic6\", \"Topic6\", \"Topic6\", \"Topic6\", \"Topic6\", \"Topic6\", \"Topic6\", \"Topic6\", \"Topic7\", \"Topic7\", \"Topic7\", \"Topic7\", \"Topic7\", \"Topic7\", \"Topic7\", \"Topic7\", \"Topic7\", \"Topic7\", \"Topic7\", \"Topic7\", \"Topic7\", \"Topic7\", \"Topic7\", \"Topic7\", \"Topic7\", \"Topic7\", \"Topic7\", \"Topic7\", \"Topic7\", \"Topic7\", \"Topic7\", \"Topic7\", \"Topic7\", \"Topic7\", \"Topic7\", \"Topic7\", \"Topic7\", \"Topic7\", \"Topic7\", \"Topic7\", \"Topic7\", \"Topic7\", \"Topic7\", \"Topic7\", \"Topic7\", \"Topic7\", \"Topic7\", \"Topic8\", \"Topic8\", \"Topic8\", \"Topic8\", \"Topic8\", \"Topic8\", \"Topic8\", \"Topic8\", \"Topic8\", \"Topic8\", \"Topic8\", \"Topic8\", \"Topic8\", \"Topic8\", \"Topic8\", \"Topic8\", \"Topic8\", \"Topic8\", \"Topic8\", \"Topic8\", \"Topic8\", \"Topic8\", \"Topic8\", \"Topic8\", \"Topic8\", \"Topic8\", \"Topic8\", \"Topic8\", \"Topic8\", \"Topic8\", \"Topic8\", \"Topic8\", \"Topic8\", \"Topic8\", \"Topic8\", \"Topic8\", \"Topic8\", \"Topic8\", \"Topic8\", \"Topic9\", \"Topic9\", \"Topic9\", \"Topic9\", \"Topic9\", \"Topic9\", \"Topic9\", \"Topic9\", \"Topic9\", \"Topic9\", \"Topic9\", \"Topic9\", \"Topic9\", \"Topic9\", \"Topic9\", \"Topic9\", \"Topic9\", \"Topic9\", \"Topic9\", \"Topic9\", \"Topic9\", \"Topic9\", \"Topic9\", \"Topic9\", \"Topic9\", \"Topic9\", \"Topic9\", \"Topic9\", \"Topic9\", \"Topic9\", \"Topic9\", \"Topic9\", \"Topic9\", \"Topic9\", \"Topic9\", \"Topic9\", \"Topic9\", \"Topic9\", \"Topic10\", \"Topic10\", \"Topic10\", \"Topic10\", \"Topic10\", \"Topic10\", \"Topic10\", \"Topic10\", \"Topic10\", \"Topic10\", \"Topic10\", \"Topic10\", \"Topic10\", \"Topic10\", \"Topic10\", \"Topic10\", \"Topic10\", \"Topic10\", \"Topic10\", \"Topic10\", \"Topic10\", \"Topic10\", \"Topic10\", \"Topic10\", \"Topic10\", \"Topic10\", \"Topic10\", \"Topic10\", \"Topic10\", \"Topic10\", \"Topic10\", \"Topic10\", \"Topic10\", \"Topic10\", \"Topic10\", \"Topic10\", \"Topic10\", \"Topic10\"], \"logprob\": [30.0, 29.0, 28.0, 27.0, 26.0, 25.0, 24.0, 23.0, 22.0, 21.0, 20.0, 19.0, 18.0, 17.0, 16.0, 15.0, 14.0, 13.0, 12.0, 11.0, 10.0, 9.0, 8.0, 7.0, 6.0, 5.0, 4.0, 3.0, 2.0, 1.0, -2.817, -2.817, -2.817, -2.8171, -2.817, -2.8171, -2.8171, -2.8171, -2.8171, -2.8171, -2.1704, -2.1704, -5.2149, -5.2149, -5.2148, -5.2149, -5.2149, -5.2149, -5.2148, -5.2149, -5.2149, -5.2149, -5.2148, -5.2148, -5.2149, -5.2149, -5.2149, -5.2149, -5.2149, -5.2149, -5.2147, -5.2148, -5.2148, -5.2148, -5.2148, -2.702, -2.702, -2.702, -2.702, -2.702, -2.702, -2.702, -2.702, -2.702, -2.702, -2.702, -2.702, -5.0998, -5.0998, -5.0998, -5.0998, -5.0998, -5.0998, -5.0998, -5.0998, -5.0998, -5.0998, -5.0998, -5.0998, -5.0998, -5.0998, -5.0998, -5.0998, -5.0998, -5.0998, -5.0997, -5.0997, -5.0997, -5.0997, -2.0554, -2.702, -2.702, -2.702, -2.702, -2.0554, -2.0554, -2.702, -2.702, -5.0998, -5.0998, -5.0998, -5.0998, -5.0998, -5.0998, -5.0998, -5.0998, -5.0998, -5.0998, -5.0998, -5.0998, -5.0998, -5.0998, -5.0998, -5.0998, -5.0997, -5.0998, -5.0998, -5.0998, -5.0998, -5.0997, -5.0997, -5.0998, -5.0998, -2.5889, -2.5907, -2.5925, -2.6243, -2.6247, -2.6341, -2.6434, -2.6539, -2.583, -2.5967, -4.8476, -4.8476, -4.8476, -4.8476, -4.8476, -4.8476, -4.8476, -4.8476, -4.8476, -4.8476, -4.8476, -4.8476, -4.8476, -4.8476, -4.8476, -4.8476, -4.8476, -4.8476, -4.8476, -4.8476, -4.8475, -4.8475, -4.8476, -4.8476, -4.8476, -4.8476, -4.8476, -2.3077, -2.3077, -2.3077, -2.3077, -2.3076, -3.5968, -3.6285, -3.6578, -3.6886, -3.6899, -3.8042, -3.8112, -3.8183, -4.7054, -4.7054, -4.7054, -4.7054, -4.7054, -4.7054, -4.7054, -4.7055, -4.7054, -4.7054, -4.7054, -4.7054, -4.7054, -4.7055, -4.7055, -4.7055, -4.7055, -3.7882, -3.8417, -4.7054, -4.7054, -4.7054, -4.7054, -4.7054, -2.1454, -2.1454, -2.1454, -2.1455, -2.1454, -4.5432, -4.5432, -4.5432, -4.5432, -4.5432, -4.5432, -4.5432, -4.5432, -4.5432, -4.5432, -4.5432, -4.5432, -4.5432, -4.5432, -4.5433, -4.5433, -4.5432, -4.5432, -4.5432, -4.5432, -4.5433, -4.5433, -4.5433, -4.5433, -4.5433, -4.5431, -4.5431, -4.5431, -4.5432, -4.5432, -4.5432, -3.7842, -3.7842, -3.7842, -3.7842, -3.7842, -3.7842, -3.7842, -3.7842, -3.7842, -3.7842, -3.7842, -3.7842, -3.7842, -3.7842, -3.7842, -3.7842, -3.7842, -3.7842, -3.7842, -3.7842, -3.7842, -3.7842, -3.7842, -3.7842, -3.7842, -3.7842, -3.7842, -3.7842, -3.7842, -3.7842, -3.7841, -3.7841, -3.7841, -3.7841, -3.7841, -3.7841, -3.7842, -3.7842, -3.7842, -3.7842, -3.7842, -3.7842, -3.7842, -3.7842, -3.7842, -3.7842, -3.7842, -3.7842, -3.7842, -3.7842, -3.7842, -3.7842, -3.7842, -3.7842, -3.7842, -3.7842, -3.7842, -3.7842, -3.7842, -3.7842, -3.7842, -3.7842, -3.7842, -3.7842, -3.7842, -3.7842, -3.7842, -3.7842, -3.7842, -3.7842, -3.784, -3.784, -3.7841, -3.7841, -3.7841, -3.7841, -3.7842, -3.7842, -3.7842, -3.7842, -3.7842, -3.7842, -3.7842, -3.7842, -3.7842, -3.7842, -3.7842, -3.7842, -3.7842, -3.7842, -3.7842, -3.7842, -3.7842, -3.7842, -3.7842, -3.7842, -3.7842, -3.7842, -3.7842, -3.7842, -3.7842, -3.7842, -3.7842, -3.7842, -3.7842, -3.7842, -3.7842, -3.7842, -3.784, -3.7841, -3.7841, -3.7841, -3.7841, -3.7842, -3.7842, -3.7842, -3.7842, -3.7842, -3.7842, -3.7842, -3.7842, -3.7842, -3.7842, -3.7842, -3.7842, -3.7842, -3.7841, -3.7842, -3.7842, -3.7842, -3.7842, -3.7842, -3.7842, -3.7842, -3.7842, -3.7842, -3.7842, -3.7842, -3.7842, -3.7842, -3.7842, -3.7842, -3.7842, -3.7842, -3.7842, -3.7842, -3.784, -3.7841, -3.7841, -3.7841, -3.7841, -3.7841, -3.7842, -3.7842], \"loglift\": [30.0, 29.0, 28.0, 27.0, 26.0, 25.0, 24.0, 23.0, 22.0, 21.0, 20.0, 19.0, 18.0, 17.0, 16.0, 15.0, 14.0, 13.0, 12.0, 11.0, 10.0, 9.0, 8.0, 7.0, 6.0, 5.0, 4.0, 3.0, 2.0, 1.0, 1.0955, 1.0955, 1.0955, 1.0955, 1.0955, 1.0955, 1.0955, 1.0955, 1.0955, 1.0955, 0.7061, 0.7048, -1.0463, -1.0463, -1.1303, -1.1303, -1.1303, -1.1303, -1.2722, -1.2722, -1.2722, -1.2722, -1.2725, -1.2725, -1.2725, -1.2725, -1.2725, -1.2725, -1.2725, -1.2725, -2.2261, -1.5071, -1.6068, -2.0602, -1.7418, 1.2403, 1.2403, 1.2403, 1.2403, 1.2403, 1.2403, 1.2403, 1.2403, 1.2403, 0.906, 0.4526, 0.2866, -0.9312, -0.9312, -1.0152, -1.0152, -1.0153, -1.0153, -1.1571, -1.1571, -1.1571, -1.1572, -1.1863, -1.1872, -1.1872, -1.1872, -1.1872, -1.1872, -1.1873, -1.1873, -2.2244, -1.392, -2.2232, -1.6267, 1.4177, 1.2407, 1.2407, 1.2406, 1.2406, 1.0992, 0.9332, 0.1745, 0.1732, -0.9312, -0.9312, -1.0152, -1.0152, -1.0153, -1.0153, -1.1574, -1.1574, -1.1574, -1.1575, -1.1575, -1.1575, -1.1575, -1.1575, -1.1575, -1.1863, -1.1872, -1.1872, -1.1872, -1.1872, -1.1872, -1.4917, -1.3921, -1.1938, -1.1913, 1.3078, 1.3064, 1.3051, 1.2817, 1.2814, 1.2744, 1.2675, 1.2597, 0.2922, 0.2798, -0.6791, -0.6791, -0.7631, -0.7631, -0.7631, -0.7631, -0.905, -0.905, -0.905, -0.905, -0.9053, -0.9053, -0.9053, -0.9053, -0.9053, -0.9053, -0.9053, -0.9053, -0.9053, -0.935, -1.8589, -1.6929, -1.1399, -1.2396, -1.3746, -0.935, -0.9351, 1.8609, 1.8609, 1.4, 1.3003, 0.6809, 0.3167, 0.2823, 0.2507, 0.2175, 0.2161, 0.0934, 0.086, 0.0784, -0.6209, -0.6209, -0.6209, -0.6209, -0.7628, -0.7628, -0.7628, -0.7628, -0.7631, -0.7631, -0.7631, -0.7631, -0.7631, -0.7631, -0.7631, -0.7631, -0.7631, -0.9117, -0.9665, -1.5508, -0.7928, -1.2324, -0.7929, -0.7929, 1.9391, 1.9391, 1.9391, 1.9391, 1.5622, -0.3747, -0.3747, -0.6006, -0.6006, -0.6006, -0.6006, -0.6009, -0.6009, -0.6009, -0.6009, -0.6009, -0.6009, -0.6009, -0.6009, -0.6009, -0.6297, -0.6307, -0.6307, -0.6307, -0.6307, -0.6307, -0.6307, -0.6307, -0.6307, -0.6307, -1.5545, -1.6679, -1.6666, -1.3886, -0.9352, -1.0702, 0.3844, 0.3844, 0.3003, 0.3003, 0.3003, 0.3003, 0.1585, 0.1585, 0.1584, 0.1584, 0.1581, 0.1581, 0.1581, 0.1581, 0.1581, 0.1581, 0.1581, 0.1581, 0.1581, 0.1293, 0.1284, 0.1284, 0.1284, 0.1283, 0.1283, 0.1283, 0.1283, 0.1283, 0.1283, 0.1283, -0.7955, -0.9076, -0.0764, -0.9089, -0.6295, -0.1762, -0.3111, 0.1218, 0.1243, 0.3844, 0.3844, 0.3004, 0.3003, 0.3003, 0.3003, 0.1585, 0.1584, 0.1584, 0.1584, 0.1582, 0.1581, 0.1581, 0.1581, 0.1581, 0.1581, 0.1581, 0.1581, 0.1581, 0.1293, 0.1284, 0.1284, 0.1284, 0.1283, 0.1283, 0.1283, 0.1283, 0.1283, 0.1283, 0.1283, 0.1267, -0.9088, -0.7955, -0.0764, -0.9076, -0.6295, -0.3111, -0.1762, 0.1243, 0.3844, 0.3844, 0.3003, 0.3003, 0.3003, 0.3003, 0.1585, 0.1585, 0.1584, 0.1584, 0.1582, 0.1582, 0.1581, 0.1581, 0.1581, 0.1581, 0.1581, 0.1581, 0.1581, 0.1293, 0.1284, 0.1284, 0.1284, 0.1283, 0.1283, 0.1283, 0.1283, 0.1283, 0.1283, 0.1283, -0.9088, -0.7955, -0.6295, -0.9076, -0.0765, -0.1762, -0.3111, 0.1243, 0.3844, 0.3844, 0.3004, 0.3003, 0.3003, 0.3003, 0.1584, 0.1584, 0.1584, 0.1584, 0.1582, 0.1581, 0.1581, 0.1581, 0.1581, 0.1581, 0.1581, 0.1581, 0.1581, 0.1293, 0.1284, 0.1284, 0.1284, 0.1283, 0.1283, 0.1283, 0.1283, 0.1283, 0.1283, 0.1283, -0.7954, -0.9089, -0.6295, -0.9076, -0.1762, -0.0765, -0.3112, 0.1243]}, \"token.table\": {\"Topic\": [4, 2, 3, 2, 3, 4, 3, 1, 2, 2, 3, 1, 3, 2, 6, 2, 4, 1, 4, 2, 1, 6, 1, 1, 4, 3, 1, 3, 4, 6, 4, 1, 3, 6, 1, 2, 1, 2, 2, 2, 1, 1, 3, 4, 4, 2, 4, 6], \"Freq\": [0.8497545786409051, 0.8885887125147277, 0.5557595888093451, 0.4042000467554487, 0.4042000467554487, 0.8568620546394886, 0.8888730585559265, 0.8625251427194753, 0.8885890637102306, 0.3423665545745869, 0.3423665545745869, 0.8625250377567044, 0.8888790220835376, 0.8885932936578785, 1.0243795641349969, 0.8885915591124374, 0.8493475460409347, 0.8625271944246424, 0.8610777232858013, 0.8885971204347577, 0.8625267747327933, 1.0243782665322319, 0.8625295220014129, 0.862536905999819, 0.8489431185238367, 0.8888757838870349, 0.30607057974543594, 0.30607057974543594, 0.30607057974543594, 1.0243772895236458, 0.8590334208334495, 0.8625267194835485, 0.8888777412769399, 0.7027280980508008, 0.862527595996504, 0.8885880970562186, 0.8625347893453366, 0.6360507778227716, 0.8885894474044501, 0.8885921087158608, 0.8625326994793222, 0.3056734251811819, 0.3056734251811819, 0.3056734251811819, 0.8569477181813362, 0.8885931802895265, 0.8633812167228505, 1.0243773363024027], \"Term\": [\"bargaining\", \"chamge\", \"change\", \"climate\", \"climate\", \"collective\", \"degredation\", \"ensure\", \"environment\", \"environmental\", \"environmental\", \"federal\", \"focus\", \"fuels\", \"funding\", \"global\", \"go\", \"increase\", \"increases\", \"investing\", \"level\", \"like\", \"livable\", \"living\", \"low\", \"main\", \"minimum\", \"minimum\", \"minimum\", \"mitigation\", \"need\", \"nobody\", \"policy\", \"pollution\", \"poverty\", \"power\", \"raising\", \"regulation\", \"renewable\", \"solar\", \"standards\", \"wage\", \"wage\", \"wage\", \"wages\", \"warming\", \"whether\", \"would\"]}, \"R\": 30, \"lambda.step\": 0.01, \"plot.opts\": {\"xlab\": \"PC1\", \"ylab\": \"PC2\"}, \"topic.order\": [10, 5, 6, 7, 8, 2, 9, 4, 3, 1]};\n",
       "\n",
       "function LDAvis_load_lib(url, callback){\n",
       "  var s = document.createElement('script');\n",
       "  s.src = url;\n",
       "  s.async = true;\n",
       "  s.onreadystatechange = s.onload = callback;\n",
       "  s.onerror = function(){console.warn(\"failed to load library \" + url);};\n",
       "  document.getElementsByTagName(\"head\")[0].appendChild(s);\n",
       "}\n",
       "\n",
       "if(typeof(LDAvis) !== \"undefined\"){\n",
       "   // already loaded: just create the visualization\n",
       "   !function(LDAvis){\n",
       "       new LDAvis(\"#\" + \"ldavis_el272491405228867496488370822493\", ldavis_el272491405228867496488370822493_data);\n",
       "   }(LDAvis);\n",
       "}else if(typeof define === \"function\" && define.amd){\n",
       "   // require.js is available: use it to load d3/LDAvis\n",
       "   require.config({paths: {d3: \"https://d3js.org/d3.v5\"}});\n",
       "   require([\"d3\"], function(d3){\n",
       "      window.d3 = d3;\n",
       "      LDAvis_load_lib(\"https://cdn.jsdelivr.net/gh/bmabey/pyLDAvis@3.3.1/pyLDAvis/js/ldavis.v3.0.0.js\", function(){\n",
       "        new LDAvis(\"#\" + \"ldavis_el272491405228867496488370822493\", ldavis_el272491405228867496488370822493_data);\n",
       "      });\n",
       "    });\n",
       "}else{\n",
       "    // require.js not available: dynamically load d3 & LDAvis\n",
       "    LDAvis_load_lib(\"https://d3js.org/d3.v5.js\", function(){\n",
       "         LDAvis_load_lib(\"https://cdn.jsdelivr.net/gh/bmabey/pyLDAvis@3.3.1/pyLDAvis/js/ldavis.v3.0.0.js\", function(){\n",
       "                 new LDAvis(\"#\" + \"ldavis_el272491405228867496488370822493\", ldavis_el272491405228867496488370822493_data);\n",
       "            })\n",
       "         });\n",
       "}\n",
       "</script>"
      ],
      "text/plain": [
       "PreparedData(topic_coordinates=              x         y  topics  cluster       Freq\n",
       "topic                                                \n",
       "9     -0.182539  0.043820       1        1  22.482502\n",
       "4      0.181978  0.039109       2        1  19.077250\n",
       "5      0.020426  0.161997       3        1  19.067052\n",
       "6     -0.087565 -0.034620       4        1  17.007030\n",
       "7      0.038137 -0.048297       5        1   8.516974\n",
       "1      0.024882 -0.144536       6        1   8.516966\n",
       "8      0.001170 -0.004369       7        1   1.333057\n",
       "3      0.001170 -0.004369       8        1   1.333057\n",
       "2      0.001170 -0.004367       9        1   1.333057\n",
       "0      0.001171 -0.004368      10        1   1.333057, topic_info=             Term      Freq     Total Category  logprob  loglift\n",
       "5   environmental  2.000000  2.000000  Default  30.0000  30.0000\n",
       "22         change  1.000000  1.000000  Default  29.0000  29.0000\n",
       "3       pollution  1.000000  1.000000  Default  28.0000  28.0000\n",
       "23        climate  2.000000  2.000000  Default  27.0000  27.0000\n",
       "8      regulation  1.000000  1.000000  Default  26.0000  26.0000\n",
       "..            ...       ...       ...      ...      ...      ...\n",
       "10        minimum  0.017574  3.267220  Topic10  -3.7841  -0.9076\n",
       "8      regulation  0.017573  1.572202  Topic10  -3.7841  -0.1762\n",
       "3       pollution  0.017573  1.423025  Topic10  -3.7841  -0.0765\n",
       "22         change  0.017572  1.799339  Topic10  -3.7842  -0.3112\n",
       "19           need  0.017572  1.164099  Topic10  -3.7842   0.1243\n",
       "\n",
       "[397 rows x 6 columns], token_table=      Topic      Freq           Term\n",
       "term                                \n",
       "14        4  0.849755     bargaining\n",
       "31        2  0.888589         chamge\n",
       "22        3  0.555760         change\n",
       "23        2  0.404200        climate\n",
       "23        3  0.404200        climate\n",
       "15        4  0.856862     collective\n",
       "24        3  0.888873    degredation\n",
       "37        1  0.862525         ensure\n",
       "32        2  0.888589    environment\n",
       "5         2  0.342367  environmental\n",
       "5         3  0.342367  environmental\n",
       "38        1  0.862525        federal\n",
       "25        3  0.888879          focus\n",
       "27        2  0.888593          fuels\n",
       "0         6  1.024380        funding\n",
       "33        2  0.888592         global\n",
       "16        4  0.849348             go\n",
       "39        1  0.862527       increase\n",
       "17        4  0.861078      increases\n",
       "28        2  0.888597      investing\n",
       "40        1  0.862527          level\n",
       "1         6  1.024378           like\n",
       "41        1  0.862530        livable\n",
       "9         1  0.862537         living\n",
       "18        4  0.848943            low\n",
       "26        3  0.888876           main\n",
       "10        1  0.306071        minimum\n",
       "10        3  0.306071        minimum\n",
       "10        4  0.306071        minimum\n",
       "2         6  1.024377     mitigation\n",
       "19        4  0.859033           need\n",
       "42        1  0.862527         nobody\n",
       "30        3  0.888878         policy\n",
       "3         6  0.702728      pollution\n",
       "43        1  0.862528        poverty\n",
       "34        2  0.888588          power\n",
       "11        1  0.862535        raising\n",
       "8         2  0.636051     regulation\n",
       "29        2  0.888589      renewable\n",
       "35        2  0.888592          solar\n",
       "12        1  0.862533      standards\n",
       "13        1  0.305673           wage\n",
       "13        3  0.305673           wage\n",
       "13        4  0.305673           wage\n",
       "20        4  0.856948          wages\n",
       "36        2  0.888593        warming\n",
       "21        4  0.863381        whether\n",
       "4         6  1.024377          would, R=30, lambda_step=0.01, plot_opts={'xlab': 'PC1', 'ylab': 'PC2'}, topic_order=[10, 5, 6, 7, 8, 2, 9, 4, 3, 1])"
      ]
     },
     "execution_count": 45,
     "metadata": {},
     "output_type": "execute_result"
    }
   ],
   "source": [
    "vis"
   ]
  },
  {
   "cell_type": "code",
   "execution_count": 42,
   "metadata": {},
   "outputs": [],
   "source": [
    "from gensim.models import CoherenceModel"
   ]
  },
  {
   "cell_type": "code",
   "execution_count": 43,
   "metadata": {},
   "outputs": [],
   "source": [
    "# Calculate coherence\n",
    "coh = CoherenceModel(model=ldamodel,\n",
    "                     texts=text_train[\"tokenized\"],\n",
    "                    corpus=gensim_corpus,\n",
    "                    coherence=\"c_v\").get_coherence()"
   ]
  },
  {
   "cell_type": "code",
   "execution_count": 44,
   "metadata": {},
   "outputs": [
    {
     "data": {
      "text/plain": [
       "0.5079802147422494"
      ]
     },
     "execution_count": 44,
     "metadata": {},
     "output_type": "execute_result"
    },
    {
     "name": "stderr",
     "output_type": "stream",
     "text": [
      "/Users/gl598/opt/anaconda3/lib/python3.8/site-packages/past/builtins/misc.py:45: DeprecationWarning: the imp module is deprecated in favour of importlib; see the module's documentation for alternative uses\n",
      "  from imp import reload\n",
      "/Users/gl598/opt/anaconda3/lib/python3.8/site-packages/sklearn/linear_model/_least_angle.py:34: DeprecationWarning: `np.float` is a deprecated alias for the builtin `float`. To silence this warning, use `float` by itself. Doing this will not modify any behavior and is safe. If you specifically wanted the numpy scalar type, use `np.float64` here.\n",
      "Deprecated in NumPy 1.20; for more details and guidance: https://numpy.org/devdocs/release/1.20.0-notes.html#deprecations\n",
      "  method='lar', copy_X=True, eps=np.finfo(np.float).eps,\n",
      "/Users/gl598/opt/anaconda3/lib/python3.8/site-packages/sklearn/linear_model/_least_angle.py:164: DeprecationWarning: `np.float` is a deprecated alias for the builtin `float`. To silence this warning, use `float` by itself. Doing this will not modify any behavior and is safe. If you specifically wanted the numpy scalar type, use `np.float64` here.\n",
      "Deprecated in NumPy 1.20; for more details and guidance: https://numpy.org/devdocs/release/1.20.0-notes.html#deprecations\n",
      "  method='lar', copy_X=True, eps=np.finfo(np.float).eps,\n",
      "/Users/gl598/opt/anaconda3/lib/python3.8/site-packages/sklearn/linear_model/_least_angle.py:281: DeprecationWarning: `np.float` is a deprecated alias for the builtin `float`. To silence this warning, use `float` by itself. Doing this will not modify any behavior and is safe. If you specifically wanted the numpy scalar type, use `np.float64` here.\n",
      "Deprecated in NumPy 1.20; for more details and guidance: https://numpy.org/devdocs/release/1.20.0-notes.html#deprecations\n",
      "  eps=np.finfo(np.float).eps, copy_Gram=True, verbose=0,\n",
      "/Users/gl598/opt/anaconda3/lib/python3.8/site-packages/sklearn/linear_model/_least_angle.py:865: DeprecationWarning: `np.float` is a deprecated alias for the builtin `float`. To silence this warning, use `float` by itself. Doing this will not modify any behavior and is safe. If you specifically wanted the numpy scalar type, use `np.float64` here.\n",
      "Deprecated in NumPy 1.20; for more details and guidance: https://numpy.org/devdocs/release/1.20.0-notes.html#deprecations\n",
      "  eps=np.finfo(np.float).eps, copy_X=True, fit_path=True,\n",
      "/Users/gl598/opt/anaconda3/lib/python3.8/site-packages/sklearn/linear_model/_least_angle.py:1121: DeprecationWarning: `np.float` is a deprecated alias for the builtin `float`. To silence this warning, use `float` by itself. Doing this will not modify any behavior and is safe. If you specifically wanted the numpy scalar type, use `np.float64` here.\n",
      "Deprecated in NumPy 1.20; for more details and guidance: https://numpy.org/devdocs/release/1.20.0-notes.html#deprecations\n",
      "  eps=np.finfo(np.float).eps, copy_X=True, fit_path=True,\n",
      "/Users/gl598/opt/anaconda3/lib/python3.8/site-packages/sklearn/linear_model/_least_angle.py:1149: DeprecationWarning: `np.float` is a deprecated alias for the builtin `float`. To silence this warning, use `float` by itself. Doing this will not modify any behavior and is safe. If you specifically wanted the numpy scalar type, use `np.float64` here.\n",
      "Deprecated in NumPy 1.20; for more details and guidance: https://numpy.org/devdocs/release/1.20.0-notes.html#deprecations\n",
      "  eps=np.finfo(np.float).eps, positive=False):\n",
      "/Users/gl598/opt/anaconda3/lib/python3.8/site-packages/sklearn/linear_model/_least_angle.py:1379: DeprecationWarning: `np.float` is a deprecated alias for the builtin `float`. To silence this warning, use `float` by itself. Doing this will not modify any behavior and is safe. If you specifically wanted the numpy scalar type, use `np.float64` here.\n",
      "Deprecated in NumPy 1.20; for more details and guidance: https://numpy.org/devdocs/release/1.20.0-notes.html#deprecations\n",
      "  max_n_alphas=1000, n_jobs=None, eps=np.finfo(np.float).eps,\n",
      "/Users/gl598/opt/anaconda3/lib/python3.8/site-packages/sklearn/linear_model/_least_angle.py:1621: DeprecationWarning: `np.float` is a deprecated alias for the builtin `float`. To silence this warning, use `float` by itself. Doing this will not modify any behavior and is safe. If you specifically wanted the numpy scalar type, use `np.float64` here.\n",
      "Deprecated in NumPy 1.20; for more details and guidance: https://numpy.org/devdocs/release/1.20.0-notes.html#deprecations\n",
      "  max_n_alphas=1000, n_jobs=None, eps=np.finfo(np.float).eps,\n",
      "/Users/gl598/opt/anaconda3/lib/python3.8/site-packages/sklearn/linear_model/_least_angle.py:1755: DeprecationWarning: `np.float` is a deprecated alias for the builtin `float`. To silence this warning, use `float` by itself. Doing this will not modify any behavior and is safe. If you specifically wanted the numpy scalar type, use `np.float64` here.\n",
      "Deprecated in NumPy 1.20; for more details and guidance: https://numpy.org/devdocs/release/1.20.0-notes.html#deprecations\n",
      "  eps=np.finfo(np.float).eps, copy_X=True, positive=False):\n",
      "/Users/gl598/opt/anaconda3/lib/python3.8/site-packages/sklearn/decomposition/_lda.py:28: DeprecationWarning: `np.float` is a deprecated alias for the builtin `float`. To silence this warning, use `float` by itself. Doing this will not modify any behavior and is safe. If you specifically wanted the numpy scalar type, use `np.float64` here.\n",
      "Deprecated in NumPy 1.20; for more details and guidance: https://numpy.org/devdocs/release/1.20.0-notes.html#deprecations\n",
      "  EPS = np.finfo(np.float).eps\n",
      "/Users/gl598/opt/anaconda3/lib/python3.8/site-packages/past/builtins/misc.py:45: DeprecationWarning: the imp module is deprecated in favour of importlib; see the module's documentation for alternative uses\n",
      "  from imp import reload\n",
      "/Users/gl598/opt/anaconda3/lib/python3.8/site-packages/sklearn/linear_model/_least_angle.py:34: DeprecationWarning: `np.float` is a deprecated alias for the builtin `float`. To silence this warning, use `float` by itself. Doing this will not modify any behavior and is safe. If you specifically wanted the numpy scalar type, use `np.float64` here.\n",
      "Deprecated in NumPy 1.20; for more details and guidance: https://numpy.org/devdocs/release/1.20.0-notes.html#deprecations\n",
      "  method='lar', copy_X=True, eps=np.finfo(np.float).eps,\n",
      "/Users/gl598/opt/anaconda3/lib/python3.8/site-packages/sklearn/linear_model/_least_angle.py:164: DeprecationWarning: `np.float` is a deprecated alias for the builtin `float`. To silence this warning, use `float` by itself. Doing this will not modify any behavior and is safe. If you specifically wanted the numpy scalar type, use `np.float64` here.\n",
      "Deprecated in NumPy 1.20; for more details and guidance: https://numpy.org/devdocs/release/1.20.0-notes.html#deprecations\n",
      "  method='lar', copy_X=True, eps=np.finfo(np.float).eps,\n",
      "/Users/gl598/opt/anaconda3/lib/python3.8/site-packages/sklearn/linear_model/_least_angle.py:281: DeprecationWarning: `np.float` is a deprecated alias for the builtin `float`. To silence this warning, use `float` by itself. Doing this will not modify any behavior and is safe. If you specifically wanted the numpy scalar type, use `np.float64` here.\n",
      "Deprecated in NumPy 1.20; for more details and guidance: https://numpy.org/devdocs/release/1.20.0-notes.html#deprecations\n",
      "  eps=np.finfo(np.float).eps, copy_Gram=True, verbose=0,\n",
      "/Users/gl598/opt/anaconda3/lib/python3.8/site-packages/sklearn/linear_model/_least_angle.py:865: DeprecationWarning: `np.float` is a deprecated alias for the builtin `float`. To silence this warning, use `float` by itself. Doing this will not modify any behavior and is safe. If you specifically wanted the numpy scalar type, use `np.float64` here.\n",
      "Deprecated in NumPy 1.20; for more details and guidance: https://numpy.org/devdocs/release/1.20.0-notes.html#deprecations\n",
      "  eps=np.finfo(np.float).eps, copy_X=True, fit_path=True,\n",
      "/Users/gl598/opt/anaconda3/lib/python3.8/site-packages/sklearn/linear_model/_least_angle.py:1121: DeprecationWarning: `np.float` is a deprecated alias for the builtin `float`. To silence this warning, use `float` by itself. Doing this will not modify any behavior and is safe. If you specifically wanted the numpy scalar type, use `np.float64` here.\n",
      "Deprecated in NumPy 1.20; for more details and guidance: https://numpy.org/devdocs/release/1.20.0-notes.html#deprecations\n",
      "  eps=np.finfo(np.float).eps, copy_X=True, fit_path=True,\n",
      "/Users/gl598/opt/anaconda3/lib/python3.8/site-packages/sklearn/linear_model/_least_angle.py:1149: DeprecationWarning: `np.float` is a deprecated alias for the builtin `float`. To silence this warning, use `float` by itself. Doing this will not modify any behavior and is safe. If you specifically wanted the numpy scalar type, use `np.float64` here.\n",
      "Deprecated in NumPy 1.20; for more details and guidance: https://numpy.org/devdocs/release/1.20.0-notes.html#deprecations\n",
      "  eps=np.finfo(np.float).eps, positive=False):\n",
      "/Users/gl598/opt/anaconda3/lib/python3.8/site-packages/sklearn/linear_model/_least_angle.py:1379: DeprecationWarning: `np.float` is a deprecated alias for the builtin `float`. To silence this warning, use `float` by itself. Doing this will not modify any behavior and is safe. If you specifically wanted the numpy scalar type, use `np.float64` here.\n",
      "Deprecated in NumPy 1.20; for more details and guidance: https://numpy.org/devdocs/release/1.20.0-notes.html#deprecations\n",
      "  max_n_alphas=1000, n_jobs=None, eps=np.finfo(np.float).eps,\n",
      "/Users/gl598/opt/anaconda3/lib/python3.8/site-packages/sklearn/linear_model/_least_angle.py:1621: DeprecationWarning: `np.float` is a deprecated alias for the builtin `float`. To silence this warning, use `float` by itself. Doing this will not modify any behavior and is safe. If you specifically wanted the numpy scalar type, use `np.float64` here.\n",
      "Deprecated in NumPy 1.20; for more details and guidance: https://numpy.org/devdocs/release/1.20.0-notes.html#deprecations\n",
      "  max_n_alphas=1000, n_jobs=None, eps=np.finfo(np.float).eps,\n",
      "/Users/gl598/opt/anaconda3/lib/python3.8/site-packages/sklearn/linear_model/_least_angle.py:1755: DeprecationWarning: `np.float` is a deprecated alias for the builtin `float`. To silence this warning, use `float` by itself. Doing this will not modify any behavior and is safe. If you specifically wanted the numpy scalar type, use `np.float64` here.\n",
      "Deprecated in NumPy 1.20; for more details and guidance: https://numpy.org/devdocs/release/1.20.0-notes.html#deprecations\n",
      "  eps=np.finfo(np.float).eps, copy_X=True, positive=False):\n",
      "/Users/gl598/opt/anaconda3/lib/python3.8/site-packages/sklearn/decomposition/_lda.py:28: DeprecationWarning: `np.float` is a deprecated alias for the builtin `float`. To silence this warning, use `float` by itself. Doing this will not modify any behavior and is safe. If you specifically wanted the numpy scalar type, use `np.float64` here.\n",
      "Deprecated in NumPy 1.20; for more details and guidance: https://numpy.org/devdocs/release/1.20.0-notes.html#deprecations\n",
      "  EPS = np.finfo(np.float).eps\n",
      "/Users/gl598/opt/anaconda3/lib/python3.8/site-packages/past/builtins/misc.py:45: DeprecationWarning: the imp module is deprecated in favour of importlib; see the module's documentation for alternative uses\n",
      "  from imp import reload\n",
      "/Users/gl598/opt/anaconda3/lib/python3.8/site-packages/sklearn/linear_model/_least_angle.py:34: DeprecationWarning: `np.float` is a deprecated alias for the builtin `float`. To silence this warning, use `float` by itself. Doing this will not modify any behavior and is safe. If you specifically wanted the numpy scalar type, use `np.float64` here.\n",
      "Deprecated in NumPy 1.20; for more details and guidance: https://numpy.org/devdocs/release/1.20.0-notes.html#deprecations\n",
      "  method='lar', copy_X=True, eps=np.finfo(np.float).eps,\n",
      "/Users/gl598/opt/anaconda3/lib/python3.8/site-packages/sklearn/linear_model/_least_angle.py:164: DeprecationWarning: `np.float` is a deprecated alias for the builtin `float`. To silence this warning, use `float` by itself. Doing this will not modify any behavior and is safe. If you specifically wanted the numpy scalar type, use `np.float64` here.\n",
      "Deprecated in NumPy 1.20; for more details and guidance: https://numpy.org/devdocs/release/1.20.0-notes.html#deprecations\n",
      "  method='lar', copy_X=True, eps=np.finfo(np.float).eps,\n",
      "/Users/gl598/opt/anaconda3/lib/python3.8/site-packages/sklearn/linear_model/_least_angle.py:281: DeprecationWarning: `np.float` is a deprecated alias for the builtin `float`. To silence this warning, use `float` by itself. Doing this will not modify any behavior and is safe. If you specifically wanted the numpy scalar type, use `np.float64` here.\n",
      "Deprecated in NumPy 1.20; for more details and guidance: https://numpy.org/devdocs/release/1.20.0-notes.html#deprecations\n",
      "  eps=np.finfo(np.float).eps, copy_Gram=True, verbose=0,\n",
      "/Users/gl598/opt/anaconda3/lib/python3.8/site-packages/sklearn/linear_model/_least_angle.py:865: DeprecationWarning: `np.float` is a deprecated alias for the builtin `float`. To silence this warning, use `float` by itself. Doing this will not modify any behavior and is safe. If you specifically wanted the numpy scalar type, use `np.float64` here.\n",
      "Deprecated in NumPy 1.20; for more details and guidance: https://numpy.org/devdocs/release/1.20.0-notes.html#deprecations\n",
      "  eps=np.finfo(np.float).eps, copy_X=True, fit_path=True,\n",
      "/Users/gl598/opt/anaconda3/lib/python3.8/site-packages/sklearn/linear_model/_least_angle.py:1121: DeprecationWarning: `np.float` is a deprecated alias for the builtin `float`. To silence this warning, use `float` by itself. Doing this will not modify any behavior and is safe. If you specifically wanted the numpy scalar type, use `np.float64` here.\n",
      "Deprecated in NumPy 1.20; for more details and guidance: https://numpy.org/devdocs/release/1.20.0-notes.html#deprecations\n",
      "  eps=np.finfo(np.float).eps, copy_X=True, fit_path=True,\n",
      "/Users/gl598/opt/anaconda3/lib/python3.8/site-packages/sklearn/linear_model/_least_angle.py:1149: DeprecationWarning: `np.float` is a deprecated alias for the builtin `float`. To silence this warning, use `float` by itself. Doing this will not modify any behavior and is safe. If you specifically wanted the numpy scalar type, use `np.float64` here.\n",
      "Deprecated in NumPy 1.20; for more details and guidance: https://numpy.org/devdocs/release/1.20.0-notes.html#deprecations\n",
      "  eps=np.finfo(np.float).eps, positive=False):\n",
      "/Users/gl598/opt/anaconda3/lib/python3.8/site-packages/sklearn/linear_model/_least_angle.py:1379: DeprecationWarning: `np.float` is a deprecated alias for the builtin `float`. To silence this warning, use `float` by itself. Doing this will not modify any behavior and is safe. If you specifically wanted the numpy scalar type, use `np.float64` here.\n",
      "Deprecated in NumPy 1.20; for more details and guidance: https://numpy.org/devdocs/release/1.20.0-notes.html#deprecations\n",
      "  max_n_alphas=1000, n_jobs=None, eps=np.finfo(np.float).eps,\n",
      "/Users/gl598/opt/anaconda3/lib/python3.8/site-packages/sklearn/linear_model/_least_angle.py:1621: DeprecationWarning: `np.float` is a deprecated alias for the builtin `float`. To silence this warning, use `float` by itself. Doing this will not modify any behavior and is safe. If you specifically wanted the numpy scalar type, use `np.float64` here.\n",
      "Deprecated in NumPy 1.20; for more details and guidance: https://numpy.org/devdocs/release/1.20.0-notes.html#deprecations\n",
      "  max_n_alphas=1000, n_jobs=None, eps=np.finfo(np.float).eps,\n",
      "/Users/gl598/opt/anaconda3/lib/python3.8/site-packages/sklearn/linear_model/_least_angle.py:1755: DeprecationWarning: `np.float` is a deprecated alias for the builtin `float`. To silence this warning, use `float` by itself. Doing this will not modify any behavior and is safe. If you specifically wanted the numpy scalar type, use `np.float64` here.\n",
      "Deprecated in NumPy 1.20; for more details and guidance: https://numpy.org/devdocs/release/1.20.0-notes.html#deprecations\n",
      "  eps=np.finfo(np.float).eps, copy_X=True, positive=False):\n",
      "/Users/gl598/opt/anaconda3/lib/python3.8/site-packages/sklearn/decomposition/_lda.py:28: DeprecationWarning: `np.float` is a deprecated alias for the builtin `float`. To silence this warning, use `float` by itself. Doing this will not modify any behavior and is safe. If you specifically wanted the numpy scalar type, use `np.float64` here.\n",
      "Deprecated in NumPy 1.20; for more details and guidance: https://numpy.org/devdocs/release/1.20.0-notes.html#deprecations\n",
      "  EPS = np.finfo(np.float).eps\n",
      "/Users/gl598/opt/anaconda3/lib/python3.8/site-packages/past/builtins/misc.py:45: DeprecationWarning: the imp module is deprecated in favour of importlib; see the module's documentation for alternative uses\n",
      "  from imp import reload\n",
      "/Users/gl598/opt/anaconda3/lib/python3.8/site-packages/sklearn/linear_model/_least_angle.py:34: DeprecationWarning: `np.float` is a deprecated alias for the builtin `float`. To silence this warning, use `float` by itself. Doing this will not modify any behavior and is safe. If you specifically wanted the numpy scalar type, use `np.float64` here.\n",
      "Deprecated in NumPy 1.20; for more details and guidance: https://numpy.org/devdocs/release/1.20.0-notes.html#deprecations\n",
      "  method='lar', copy_X=True, eps=np.finfo(np.float).eps,\n",
      "/Users/gl598/opt/anaconda3/lib/python3.8/site-packages/sklearn/linear_model/_least_angle.py:164: DeprecationWarning: `np.float` is a deprecated alias for the builtin `float`. To silence this warning, use `float` by itself. Doing this will not modify any behavior and is safe. If you specifically wanted the numpy scalar type, use `np.float64` here.\n",
      "Deprecated in NumPy 1.20; for more details and guidance: https://numpy.org/devdocs/release/1.20.0-notes.html#deprecations\n",
      "  method='lar', copy_X=True, eps=np.finfo(np.float).eps,\n",
      "/Users/gl598/opt/anaconda3/lib/python3.8/site-packages/sklearn/linear_model/_least_angle.py:281: DeprecationWarning: `np.float` is a deprecated alias for the builtin `float`. To silence this warning, use `float` by itself. Doing this will not modify any behavior and is safe. If you specifically wanted the numpy scalar type, use `np.float64` here.\n",
      "Deprecated in NumPy 1.20; for more details and guidance: https://numpy.org/devdocs/release/1.20.0-notes.html#deprecations\n",
      "  eps=np.finfo(np.float).eps, copy_Gram=True, verbose=0,\n",
      "/Users/gl598/opt/anaconda3/lib/python3.8/site-packages/sklearn/linear_model/_least_angle.py:865: DeprecationWarning: `np.float` is a deprecated alias for the builtin `float`. To silence this warning, use `float` by itself. Doing this will not modify any behavior and is safe. If you specifically wanted the numpy scalar type, use `np.float64` here.\n",
      "Deprecated in NumPy 1.20; for more details and guidance: https://numpy.org/devdocs/release/1.20.0-notes.html#deprecations\n",
      "  eps=np.finfo(np.float).eps, copy_X=True, fit_path=True,\n",
      "/Users/gl598/opt/anaconda3/lib/python3.8/site-packages/sklearn/linear_model/_least_angle.py:1121: DeprecationWarning: `np.float` is a deprecated alias for the builtin `float`. To silence this warning, use `float` by itself. Doing this will not modify any behavior and is safe. If you specifically wanted the numpy scalar type, use `np.float64` here.\n",
      "Deprecated in NumPy 1.20; for more details and guidance: https://numpy.org/devdocs/release/1.20.0-notes.html#deprecations\n",
      "  eps=np.finfo(np.float).eps, copy_X=True, fit_path=True,\n",
      "/Users/gl598/opt/anaconda3/lib/python3.8/site-packages/sklearn/linear_model/_least_angle.py:1149: DeprecationWarning: `np.float` is a deprecated alias for the builtin `float`. To silence this warning, use `float` by itself. Doing this will not modify any behavior and is safe. If you specifically wanted the numpy scalar type, use `np.float64` here.\n",
      "Deprecated in NumPy 1.20; for more details and guidance: https://numpy.org/devdocs/release/1.20.0-notes.html#deprecations\n",
      "  eps=np.finfo(np.float).eps, positive=False):\n",
      "/Users/gl598/opt/anaconda3/lib/python3.8/site-packages/sklearn/linear_model/_least_angle.py:1379: DeprecationWarning: `np.float` is a deprecated alias for the builtin `float`. To silence this warning, use `float` by itself. Doing this will not modify any behavior and is safe. If you specifically wanted the numpy scalar type, use `np.float64` here.\n",
      "Deprecated in NumPy 1.20; for more details and guidance: https://numpy.org/devdocs/release/1.20.0-notes.html#deprecations\n",
      "  max_n_alphas=1000, n_jobs=None, eps=np.finfo(np.float).eps,\n",
      "/Users/gl598/opt/anaconda3/lib/python3.8/site-packages/sklearn/linear_model/_least_angle.py:1621: DeprecationWarning: `np.float` is a deprecated alias for the builtin `float`. To silence this warning, use `float` by itself. Doing this will not modify any behavior and is safe. If you specifically wanted the numpy scalar type, use `np.float64` here.\n",
      "Deprecated in NumPy 1.20; for more details and guidance: https://numpy.org/devdocs/release/1.20.0-notes.html#deprecations\n",
      "  max_n_alphas=1000, n_jobs=None, eps=np.finfo(np.float).eps,\n",
      "/Users/gl598/opt/anaconda3/lib/python3.8/site-packages/sklearn/linear_model/_least_angle.py:1755: DeprecationWarning: `np.float` is a deprecated alias for the builtin `float`. To silence this warning, use `float` by itself. Doing this will not modify any behavior and is safe. If you specifically wanted the numpy scalar type, use `np.float64` here.\n",
      "Deprecated in NumPy 1.20; for more details and guidance: https://numpy.org/devdocs/release/1.20.0-notes.html#deprecations\n",
      "  eps=np.finfo(np.float).eps, copy_X=True, positive=False):\n",
      "/Users/gl598/opt/anaconda3/lib/python3.8/site-packages/sklearn/decomposition/_lda.py:28: DeprecationWarning: `np.float` is a deprecated alias for the builtin `float`. To silence this warning, use `float` by itself. Doing this will not modify any behavior and is safe. If you specifically wanted the numpy scalar type, use `np.float64` here.\n",
      "Deprecated in NumPy 1.20; for more details and guidance: https://numpy.org/devdocs/release/1.20.0-notes.html#deprecations\n",
      "  EPS = np.finfo(np.float).eps\n",
      "/Users/gl598/opt/anaconda3/lib/python3.8/site-packages/past/builtins/misc.py:45: DeprecationWarning: the imp module is deprecated in favour of importlib; see the module's documentation for alternative uses\n",
      "  from imp import reload\n",
      "/Users/gl598/opt/anaconda3/lib/python3.8/site-packages/sklearn/linear_model/_least_angle.py:34: DeprecationWarning: `np.float` is a deprecated alias for the builtin `float`. To silence this warning, use `float` by itself. Doing this will not modify any behavior and is safe. If you specifically wanted the numpy scalar type, use `np.float64` here.\n",
      "Deprecated in NumPy 1.20; for more details and guidance: https://numpy.org/devdocs/release/1.20.0-notes.html#deprecations\n",
      "  method='lar', copy_X=True, eps=np.finfo(np.float).eps,\n",
      "/Users/gl598/opt/anaconda3/lib/python3.8/site-packages/sklearn/linear_model/_least_angle.py:164: DeprecationWarning: `np.float` is a deprecated alias for the builtin `float`. To silence this warning, use `float` by itself. Doing this will not modify any behavior and is safe. If you specifically wanted the numpy scalar type, use `np.float64` here.\n",
      "Deprecated in NumPy 1.20; for more details and guidance: https://numpy.org/devdocs/release/1.20.0-notes.html#deprecations\n",
      "  method='lar', copy_X=True, eps=np.finfo(np.float).eps,\n",
      "/Users/gl598/opt/anaconda3/lib/python3.8/site-packages/sklearn/linear_model/_least_angle.py:281: DeprecationWarning: `np.float` is a deprecated alias for the builtin `float`. To silence this warning, use `float` by itself. Doing this will not modify any behavior and is safe. If you specifically wanted the numpy scalar type, use `np.float64` here.\n",
      "Deprecated in NumPy 1.20; for more details and guidance: https://numpy.org/devdocs/release/1.20.0-notes.html#deprecations\n",
      "  eps=np.finfo(np.float).eps, copy_Gram=True, verbose=0,\n",
      "/Users/gl598/opt/anaconda3/lib/python3.8/site-packages/sklearn/linear_model/_least_angle.py:865: DeprecationWarning: `np.float` is a deprecated alias for the builtin `float`. To silence this warning, use `float` by itself. Doing this will not modify any behavior and is safe. If you specifically wanted the numpy scalar type, use `np.float64` here.\n",
      "Deprecated in NumPy 1.20; for more details and guidance: https://numpy.org/devdocs/release/1.20.0-notes.html#deprecations\n",
      "  eps=np.finfo(np.float).eps, copy_X=True, fit_path=True,\n",
      "/Users/gl598/opt/anaconda3/lib/python3.8/site-packages/sklearn/linear_model/_least_angle.py:1121: DeprecationWarning: `np.float` is a deprecated alias for the builtin `float`. To silence this warning, use `float` by itself. Doing this will not modify any behavior and is safe. If you specifically wanted the numpy scalar type, use `np.float64` here.\n",
      "Deprecated in NumPy 1.20; for more details and guidance: https://numpy.org/devdocs/release/1.20.0-notes.html#deprecations\n",
      "  eps=np.finfo(np.float).eps, copy_X=True, fit_path=True,\n",
      "/Users/gl598/opt/anaconda3/lib/python3.8/site-packages/sklearn/linear_model/_least_angle.py:1149: DeprecationWarning: `np.float` is a deprecated alias for the builtin `float`. To silence this warning, use `float` by itself. Doing this will not modify any behavior and is safe. If you specifically wanted the numpy scalar type, use `np.float64` here.\n",
      "Deprecated in NumPy 1.20; for more details and guidance: https://numpy.org/devdocs/release/1.20.0-notes.html#deprecations\n",
      "  eps=np.finfo(np.float).eps, positive=False):\n",
      "/Users/gl598/opt/anaconda3/lib/python3.8/site-packages/sklearn/linear_model/_least_angle.py:1379: DeprecationWarning: `np.float` is a deprecated alias for the builtin `float`. To silence this warning, use `float` by itself. Doing this will not modify any behavior and is safe. If you specifically wanted the numpy scalar type, use `np.float64` here.\n",
      "Deprecated in NumPy 1.20; for more details and guidance: https://numpy.org/devdocs/release/1.20.0-notes.html#deprecations\n",
      "  max_n_alphas=1000, n_jobs=None, eps=np.finfo(np.float).eps,\n",
      "/Users/gl598/opt/anaconda3/lib/python3.8/site-packages/sklearn/linear_model/_least_angle.py:1621: DeprecationWarning: `np.float` is a deprecated alias for the builtin `float`. To silence this warning, use `float` by itself. Doing this will not modify any behavior and is safe. If you specifically wanted the numpy scalar type, use `np.float64` here.\n",
      "Deprecated in NumPy 1.20; for more details and guidance: https://numpy.org/devdocs/release/1.20.0-notes.html#deprecations\n",
      "  max_n_alphas=1000, n_jobs=None, eps=np.finfo(np.float).eps,\n",
      "/Users/gl598/opt/anaconda3/lib/python3.8/site-packages/sklearn/linear_model/_least_angle.py:1755: DeprecationWarning: `np.float` is a deprecated alias for the builtin `float`. To silence this warning, use `float` by itself. Doing this will not modify any behavior and is safe. If you specifically wanted the numpy scalar type, use `np.float64` here.\n",
      "Deprecated in NumPy 1.20; for more details and guidance: https://numpy.org/devdocs/release/1.20.0-notes.html#deprecations\n",
      "  eps=np.finfo(np.float).eps, copy_X=True, positive=False):\n",
      "/Users/gl598/opt/anaconda3/lib/python3.8/site-packages/sklearn/decomposition/_lda.py:28: DeprecationWarning: `np.float` is a deprecated alias for the builtin `float`. To silence this warning, use `float` by itself. Doing this will not modify any behavior and is safe. If you specifically wanted the numpy scalar type, use `np.float64` here.\n",
      "Deprecated in NumPy 1.20; for more details and guidance: https://numpy.org/devdocs/release/1.20.0-notes.html#deprecations\n",
      "  EPS = np.finfo(np.float).eps\n",
      "/Users/gl598/opt/anaconda3/lib/python3.8/site-packages/past/builtins/misc.py:45: DeprecationWarning: the imp module is deprecated in favour of importlib; see the module's documentation for alternative uses\n",
      "  from imp import reload\n",
      "/Users/gl598/opt/anaconda3/lib/python3.8/site-packages/sklearn/linear_model/_least_angle.py:34: DeprecationWarning: `np.float` is a deprecated alias for the builtin `float`. To silence this warning, use `float` by itself. Doing this will not modify any behavior and is safe. If you specifically wanted the numpy scalar type, use `np.float64` here.\n",
      "Deprecated in NumPy 1.20; for more details and guidance: https://numpy.org/devdocs/release/1.20.0-notes.html#deprecations\n",
      "  method='lar', copy_X=True, eps=np.finfo(np.float).eps,\n",
      "/Users/gl598/opt/anaconda3/lib/python3.8/site-packages/sklearn/linear_model/_least_angle.py:164: DeprecationWarning: `np.float` is a deprecated alias for the builtin `float`. To silence this warning, use `float` by itself. Doing this will not modify any behavior and is safe. If you specifically wanted the numpy scalar type, use `np.float64` here.\n",
      "Deprecated in NumPy 1.20; for more details and guidance: https://numpy.org/devdocs/release/1.20.0-notes.html#deprecations\n",
      "  method='lar', copy_X=True, eps=np.finfo(np.float).eps,\n",
      "/Users/gl598/opt/anaconda3/lib/python3.8/site-packages/sklearn/linear_model/_least_angle.py:281: DeprecationWarning: `np.float` is a deprecated alias for the builtin `float`. To silence this warning, use `float` by itself. Doing this will not modify any behavior and is safe. If you specifically wanted the numpy scalar type, use `np.float64` here.\n",
      "Deprecated in NumPy 1.20; for more details and guidance: https://numpy.org/devdocs/release/1.20.0-notes.html#deprecations\n",
      "  eps=np.finfo(np.float).eps, copy_Gram=True, verbose=0,\n",
      "/Users/gl598/opt/anaconda3/lib/python3.8/site-packages/sklearn/linear_model/_least_angle.py:865: DeprecationWarning: `np.float` is a deprecated alias for the builtin `float`. To silence this warning, use `float` by itself. Doing this will not modify any behavior and is safe. If you specifically wanted the numpy scalar type, use `np.float64` here.\n",
      "Deprecated in NumPy 1.20; for more details and guidance: https://numpy.org/devdocs/release/1.20.0-notes.html#deprecations\n",
      "  eps=np.finfo(np.float).eps, copy_X=True, fit_path=True,\n",
      "/Users/gl598/opt/anaconda3/lib/python3.8/site-packages/sklearn/linear_model/_least_angle.py:1121: DeprecationWarning: `np.float` is a deprecated alias for the builtin `float`. To silence this warning, use `float` by itself. Doing this will not modify any behavior and is safe. If you specifically wanted the numpy scalar type, use `np.float64` here.\n",
      "Deprecated in NumPy 1.20; for more details and guidance: https://numpy.org/devdocs/release/1.20.0-notes.html#deprecations\n",
      "  eps=np.finfo(np.float).eps, copy_X=True, fit_path=True,\n",
      "/Users/gl598/opt/anaconda3/lib/python3.8/site-packages/sklearn/linear_model/_least_angle.py:1149: DeprecationWarning: `np.float` is a deprecated alias for the builtin `float`. To silence this warning, use `float` by itself. Doing this will not modify any behavior and is safe. If you specifically wanted the numpy scalar type, use `np.float64` here.\n",
      "Deprecated in NumPy 1.20; for more details and guidance: https://numpy.org/devdocs/release/1.20.0-notes.html#deprecations\n",
      "  eps=np.finfo(np.float).eps, positive=False):\n",
      "/Users/gl598/opt/anaconda3/lib/python3.8/site-packages/sklearn/linear_model/_least_angle.py:1379: DeprecationWarning: `np.float` is a deprecated alias for the builtin `float`. To silence this warning, use `float` by itself. Doing this will not modify any behavior and is safe. If you specifically wanted the numpy scalar type, use `np.float64` here.\n",
      "Deprecated in NumPy 1.20; for more details and guidance: https://numpy.org/devdocs/release/1.20.0-notes.html#deprecations\n",
      "  max_n_alphas=1000, n_jobs=None, eps=np.finfo(np.float).eps,\n",
      "/Users/gl598/opt/anaconda3/lib/python3.8/site-packages/sklearn/linear_model/_least_angle.py:1621: DeprecationWarning: `np.float` is a deprecated alias for the builtin `float`. To silence this warning, use `float` by itself. Doing this will not modify any behavior and is safe. If you specifically wanted the numpy scalar type, use `np.float64` here.\n",
      "Deprecated in NumPy 1.20; for more details and guidance: https://numpy.org/devdocs/release/1.20.0-notes.html#deprecations\n",
      "  max_n_alphas=1000, n_jobs=None, eps=np.finfo(np.float).eps,\n",
      "/Users/gl598/opt/anaconda3/lib/python3.8/site-packages/sklearn/linear_model/_least_angle.py:1755: DeprecationWarning: `np.float` is a deprecated alias for the builtin `float`. To silence this warning, use `float` by itself. Doing this will not modify any behavior and is safe. If you specifically wanted the numpy scalar type, use `np.float64` here.\n",
      "Deprecated in NumPy 1.20; for more details and guidance: https://numpy.org/devdocs/release/1.20.0-notes.html#deprecations\n",
      "  eps=np.finfo(np.float).eps, copy_X=True, positive=False):\n",
      "/Users/gl598/opt/anaconda3/lib/python3.8/site-packages/sklearn/decomposition/_lda.py:28: DeprecationWarning: `np.float` is a deprecated alias for the builtin `float`. To silence this warning, use `float` by itself. Doing this will not modify any behavior and is safe. If you specifically wanted the numpy scalar type, use `np.float64` here.\n",
      "Deprecated in NumPy 1.20; for more details and guidance: https://numpy.org/devdocs/release/1.20.0-notes.html#deprecations\n",
      "  EPS = np.finfo(np.float).eps\n",
      "/Users/gl598/opt/anaconda3/lib/python3.8/site-packages/past/builtins/misc.py:45: DeprecationWarning: the imp module is deprecated in favour of importlib; see the module's documentation for alternative uses\n",
      "  from imp import reload\n",
      "/Users/gl598/opt/anaconda3/lib/python3.8/site-packages/sklearn/linear_model/_least_angle.py:34: DeprecationWarning: `np.float` is a deprecated alias for the builtin `float`. To silence this warning, use `float` by itself. Doing this will not modify any behavior and is safe. If you specifically wanted the numpy scalar type, use `np.float64` here.\n",
      "Deprecated in NumPy 1.20; for more details and guidance: https://numpy.org/devdocs/release/1.20.0-notes.html#deprecations\n",
      "  method='lar', copy_X=True, eps=np.finfo(np.float).eps,\n",
      "/Users/gl598/opt/anaconda3/lib/python3.8/site-packages/sklearn/linear_model/_least_angle.py:164: DeprecationWarning: `np.float` is a deprecated alias for the builtin `float`. To silence this warning, use `float` by itself. Doing this will not modify any behavior and is safe. If you specifically wanted the numpy scalar type, use `np.float64` here.\n",
      "Deprecated in NumPy 1.20; for more details and guidance: https://numpy.org/devdocs/release/1.20.0-notes.html#deprecations\n",
      "  method='lar', copy_X=True, eps=np.finfo(np.float).eps,\n",
      "/Users/gl598/opt/anaconda3/lib/python3.8/site-packages/sklearn/linear_model/_least_angle.py:281: DeprecationWarning: `np.float` is a deprecated alias for the builtin `float`. To silence this warning, use `float` by itself. Doing this will not modify any behavior and is safe. If you specifically wanted the numpy scalar type, use `np.float64` here.\n",
      "Deprecated in NumPy 1.20; for more details and guidance: https://numpy.org/devdocs/release/1.20.0-notes.html#deprecations\n",
      "  eps=np.finfo(np.float).eps, copy_Gram=True, verbose=0,\n",
      "/Users/gl598/opt/anaconda3/lib/python3.8/site-packages/sklearn/linear_model/_least_angle.py:865: DeprecationWarning: `np.float` is a deprecated alias for the builtin `float`. To silence this warning, use `float` by itself. Doing this will not modify any behavior and is safe. If you specifically wanted the numpy scalar type, use `np.float64` here.\n",
      "Deprecated in NumPy 1.20; for more details and guidance: https://numpy.org/devdocs/release/1.20.0-notes.html#deprecations\n",
      "  eps=np.finfo(np.float).eps, copy_X=True, fit_path=True,\n",
      "/Users/gl598/opt/anaconda3/lib/python3.8/site-packages/sklearn/linear_model/_least_angle.py:1121: DeprecationWarning: `np.float` is a deprecated alias for the builtin `float`. To silence this warning, use `float` by itself. Doing this will not modify any behavior and is safe. If you specifically wanted the numpy scalar type, use `np.float64` here.\n",
      "Deprecated in NumPy 1.20; for more details and guidance: https://numpy.org/devdocs/release/1.20.0-notes.html#deprecations\n",
      "  eps=np.finfo(np.float).eps, copy_X=True, fit_path=True,\n",
      "/Users/gl598/opt/anaconda3/lib/python3.8/site-packages/sklearn/linear_model/_least_angle.py:1149: DeprecationWarning: `np.float` is a deprecated alias for the builtin `float`. To silence this warning, use `float` by itself. Doing this will not modify any behavior and is safe. If you specifically wanted the numpy scalar type, use `np.float64` here.\n",
      "Deprecated in NumPy 1.20; for more details and guidance: https://numpy.org/devdocs/release/1.20.0-notes.html#deprecations\n",
      "  eps=np.finfo(np.float).eps, positive=False):\n",
      "/Users/gl598/opt/anaconda3/lib/python3.8/site-packages/sklearn/linear_model/_least_angle.py:1379: DeprecationWarning: `np.float` is a deprecated alias for the builtin `float`. To silence this warning, use `float` by itself. Doing this will not modify any behavior and is safe. If you specifically wanted the numpy scalar type, use `np.float64` here.\n",
      "Deprecated in NumPy 1.20; for more details and guidance: https://numpy.org/devdocs/release/1.20.0-notes.html#deprecations\n",
      "  max_n_alphas=1000, n_jobs=None, eps=np.finfo(np.float).eps,\n",
      "/Users/gl598/opt/anaconda3/lib/python3.8/site-packages/sklearn/linear_model/_least_angle.py:1621: DeprecationWarning: `np.float` is a deprecated alias for the builtin `float`. To silence this warning, use `float` by itself. Doing this will not modify any behavior and is safe. If you specifically wanted the numpy scalar type, use `np.float64` here.\n",
      "Deprecated in NumPy 1.20; for more details and guidance: https://numpy.org/devdocs/release/1.20.0-notes.html#deprecations\n",
      "  max_n_alphas=1000, n_jobs=None, eps=np.finfo(np.float).eps,\n",
      "/Users/gl598/opt/anaconda3/lib/python3.8/site-packages/sklearn/linear_model/_least_angle.py:1755: DeprecationWarning: `np.float` is a deprecated alias for the builtin `float`. To silence this warning, use `float` by itself. Doing this will not modify any behavior and is safe. If you specifically wanted the numpy scalar type, use `np.float64` here.\n",
      "Deprecated in NumPy 1.20; for more details and guidance: https://numpy.org/devdocs/release/1.20.0-notes.html#deprecations\n",
      "  eps=np.finfo(np.float).eps, copy_X=True, positive=False):\n",
      "/Users/gl598/opt/anaconda3/lib/python3.8/site-packages/sklearn/decomposition/_lda.py:28: DeprecationWarning: `np.float` is a deprecated alias for the builtin `float`. To silence this warning, use `float` by itself. Doing this will not modify any behavior and is safe. If you specifically wanted the numpy scalar type, use `np.float64` here.\n",
      "Deprecated in NumPy 1.20; for more details and guidance: https://numpy.org/devdocs/release/1.20.0-notes.html#deprecations\n",
      "  EPS = np.finfo(np.float).eps\n",
      "/Users/gl598/opt/anaconda3/lib/python3.8/site-packages/past/builtins/misc.py:45: DeprecationWarning: the imp module is deprecated in favour of importlib; see the module's documentation for alternative uses\n",
      "  from imp import reload\n",
      "/Users/gl598/opt/anaconda3/lib/python3.8/site-packages/sklearn/linear_model/_least_angle.py:34: DeprecationWarning: `np.float` is a deprecated alias for the builtin `float`. To silence this warning, use `float` by itself. Doing this will not modify any behavior and is safe. If you specifically wanted the numpy scalar type, use `np.float64` here.\n",
      "Deprecated in NumPy 1.20; for more details and guidance: https://numpy.org/devdocs/release/1.20.0-notes.html#deprecations\n",
      "  method='lar', copy_X=True, eps=np.finfo(np.float).eps,\n",
      "/Users/gl598/opt/anaconda3/lib/python3.8/site-packages/sklearn/linear_model/_least_angle.py:164: DeprecationWarning: `np.float` is a deprecated alias for the builtin `float`. To silence this warning, use `float` by itself. Doing this will not modify any behavior and is safe. If you specifically wanted the numpy scalar type, use `np.float64` here.\n",
      "Deprecated in NumPy 1.20; for more details and guidance: https://numpy.org/devdocs/release/1.20.0-notes.html#deprecations\n",
      "  method='lar', copy_X=True, eps=np.finfo(np.float).eps,\n",
      "/Users/gl598/opt/anaconda3/lib/python3.8/site-packages/sklearn/linear_model/_least_angle.py:281: DeprecationWarning: `np.float` is a deprecated alias for the builtin `float`. To silence this warning, use `float` by itself. Doing this will not modify any behavior and is safe. If you specifically wanted the numpy scalar type, use `np.float64` here.\n",
      "Deprecated in NumPy 1.20; for more details and guidance: https://numpy.org/devdocs/release/1.20.0-notes.html#deprecations\n",
      "  eps=np.finfo(np.float).eps, copy_Gram=True, verbose=0,\n",
      "/Users/gl598/opt/anaconda3/lib/python3.8/site-packages/sklearn/linear_model/_least_angle.py:865: DeprecationWarning: `np.float` is a deprecated alias for the builtin `float`. To silence this warning, use `float` by itself. Doing this will not modify any behavior and is safe. If you specifically wanted the numpy scalar type, use `np.float64` here.\n",
      "Deprecated in NumPy 1.20; for more details and guidance: https://numpy.org/devdocs/release/1.20.0-notes.html#deprecations\n",
      "  eps=np.finfo(np.float).eps, copy_X=True, fit_path=True,\n",
      "/Users/gl598/opt/anaconda3/lib/python3.8/site-packages/sklearn/linear_model/_least_angle.py:1121: DeprecationWarning: `np.float` is a deprecated alias for the builtin `float`. To silence this warning, use `float` by itself. Doing this will not modify any behavior and is safe. If you specifically wanted the numpy scalar type, use `np.float64` here.\n",
      "Deprecated in NumPy 1.20; for more details and guidance: https://numpy.org/devdocs/release/1.20.0-notes.html#deprecations\n",
      "  eps=np.finfo(np.float).eps, copy_X=True, fit_path=True,\n",
      "/Users/gl598/opt/anaconda3/lib/python3.8/site-packages/sklearn/linear_model/_least_angle.py:1149: DeprecationWarning: `np.float` is a deprecated alias for the builtin `float`. To silence this warning, use `float` by itself. Doing this will not modify any behavior and is safe. If you specifically wanted the numpy scalar type, use `np.float64` here.\n",
      "Deprecated in NumPy 1.20; for more details and guidance: https://numpy.org/devdocs/release/1.20.0-notes.html#deprecations\n",
      "  eps=np.finfo(np.float).eps, positive=False):\n",
      "/Users/gl598/opt/anaconda3/lib/python3.8/site-packages/sklearn/linear_model/_least_angle.py:1379: DeprecationWarning: `np.float` is a deprecated alias for the builtin `float`. To silence this warning, use `float` by itself. Doing this will not modify any behavior and is safe. If you specifically wanted the numpy scalar type, use `np.float64` here.\n",
      "Deprecated in NumPy 1.20; for more details and guidance: https://numpy.org/devdocs/release/1.20.0-notes.html#deprecations\n",
      "  max_n_alphas=1000, n_jobs=None, eps=np.finfo(np.float).eps,\n",
      "/Users/gl598/opt/anaconda3/lib/python3.8/site-packages/sklearn/linear_model/_least_angle.py:1621: DeprecationWarning: `np.float` is a deprecated alias for the builtin `float`. To silence this warning, use `float` by itself. Doing this will not modify any behavior and is safe. If you specifically wanted the numpy scalar type, use `np.float64` here.\n",
      "Deprecated in NumPy 1.20; for more details and guidance: https://numpy.org/devdocs/release/1.20.0-notes.html#deprecations\n",
      "  max_n_alphas=1000, n_jobs=None, eps=np.finfo(np.float).eps,\n",
      "/Users/gl598/opt/anaconda3/lib/python3.8/site-packages/sklearn/linear_model/_least_angle.py:1755: DeprecationWarning: `np.float` is a deprecated alias for the builtin `float`. To silence this warning, use `float` by itself. Doing this will not modify any behavior and is safe. If you specifically wanted the numpy scalar type, use `np.float64` here.\n",
      "Deprecated in NumPy 1.20; for more details and guidance: https://numpy.org/devdocs/release/1.20.0-notes.html#deprecations\n",
      "  eps=np.finfo(np.float).eps, copy_X=True, positive=False):\n",
      "/Users/gl598/opt/anaconda3/lib/python3.8/site-packages/sklearn/decomposition/_lda.py:28: DeprecationWarning: `np.float` is a deprecated alias for the builtin `float`. To silence this warning, use `float` by itself. Doing this will not modify any behavior and is safe. If you specifically wanted the numpy scalar type, use `np.float64` here.\n",
      "Deprecated in NumPy 1.20; for more details and guidance: https://numpy.org/devdocs/release/1.20.0-notes.html#deprecations\n",
      "  EPS = np.finfo(np.float).eps\n"
     ]
    }
   ],
   "source": [
    "coh"
   ]
  },
  {
   "cell_type": "code",
   "execution_count": null,
   "metadata": {},
   "outputs": [],
   "source": [
    "### Ways to evluate model\n",
    "# Look at it\n",
    "# Perplexity\n",
    "# Coherence: \n",
    "    # measure of the degree of semantic similarity between words in topics\n",
    "    # more similar words are in topic -> higher coherence score\n",
    "    # gensim four stages: segmentation -> probability estimation -> confirmation measure -> aggregation"
   ]
  }
 ],
 "metadata": {
  "kernelspec": {
   "display_name": "Python 3 (ipykernel)",
   "language": "python",
   "name": "python3"
  },
  "language_info": {
   "codemirror_mode": {
    "name": "ipython",
    "version": 3
   },
   "file_extension": ".py",
   "mimetype": "text/x-python",
   "name": "python",
   "nbconvert_exporter": "python",
   "pygments_lexer": "ipython3",
   "version": "3.8.12"
  }
 },
 "nbformat": 4,
 "nbformat_minor": 4
}
