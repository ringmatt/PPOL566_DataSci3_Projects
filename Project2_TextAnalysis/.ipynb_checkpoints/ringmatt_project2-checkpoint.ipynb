{
 "cells": [
  {
   "cell_type": "markdown",
   "id": "a25e5c4c-456e-4e4d-b0fd-b1db2697018e",
   "metadata": {},
   "source": [
    "# Project 2: Text Analysis of UN Speeches\n",
    "by Matt Ring"
   ]
  },
  {
   "cell_type": "markdown",
   "id": "d6f19e44-2aa7-407f-bba0-b8f004d144af",
   "metadata": {},
   "source": [
    "# Setup\n",
    "\n",
    "1. Load Packages"
   ]
  },
  {
   "cell_type": "code",
   "execution_count": 161,
   "id": "02b28f08-51b7-4a1f-8188-d225f94ab520",
   "metadata": {},
   "outputs": [],
   "source": [
    "## Packages\n",
    "from sklearn.feature_extraction import text\n",
    "from sklearn.feature_extraction.text import CountVectorizer\n",
    "from sklearn.decomposition import LatentDirichletAllocation\n",
    "import pandas as pd\n",
    "import numpy as np"
   ]
  },
  {
   "cell_type": "markdown",
   "id": "18f0d9eb-7036-4753-aa39-290537b0b6a6",
   "metadata": {},
   "source": [
    "2. Import Data"
   ]
  },
  {
   "cell_type": "code",
   "execution_count": 140,
   "id": "66ee3df8-d6b2-4aca-89fc-fc3e23911f0c",
   "metadata": {},
   "outputs": [],
   "source": [
    "## Data\n",
    "\n",
    "df = pd.read_csv(\"data/un_gen_debates_text.csv\")"
   ]
  },
  {
   "cell_type": "code",
   "execution_count": 141,
   "id": "3d4694d0-1b82-47df-88e0-3dc71a30a39c",
   "metadata": {},
   "outputs": [
    {
     "data": {
      "text/html": [
       "<div>\n",
       "<style scoped>\n",
       "    .dataframe tbody tr th:only-of-type {\n",
       "        vertical-align: middle;\n",
       "    }\n",
       "\n",
       "    .dataframe tbody tr th {\n",
       "        vertical-align: top;\n",
       "    }\n",
       "\n",
       "    .dataframe thead th {\n",
       "        text-align: right;\n",
       "    }\n",
       "</style>\n",
       "<table border=\"1\" class=\"dataframe\">\n",
       "  <thead>\n",
       "    <tr style=\"text-align: right;\">\n",
       "      <th></th>\n",
       "      <th>session</th>\n",
       "      <th>year</th>\n",
       "      <th>country</th>\n",
       "      <th>country_name</th>\n",
       "      <th>speaker</th>\n",
       "      <th>position</th>\n",
       "      <th>text</th>\n",
       "    </tr>\n",
       "  </thead>\n",
       "  <tbody>\n",
       "    <tr>\n",
       "      <th>3696</th>\n",
       "      <td>50</td>\n",
       "      <td>1995</td>\n",
       "      <td>PER</td>\n",
       "      <td>Peru</td>\n",
       "      <td>Mr. Tudela</td>\n",
       "      <td>Minister for Foreign Affairs</td>\n",
       "      <td>Mr. President, on this important occasion, all...</td>\n",
       "    </tr>\n",
       "    <tr>\n",
       "      <th>1075</th>\n",
       "      <td>33</td>\n",
       "      <td>1978</td>\n",
       "      <td>SLE</td>\n",
       "      <td>Sierra Leone</td>\n",
       "      <td>Conteh</td>\n",
       "      <td>NaN</td>\n",
       "      <td>﻿160.\\tI should like, on behalf of the Sierra ...</td>\n",
       "    </tr>\n",
       "    <tr>\n",
       "      <th>3102</th>\n",
       "      <td>47</td>\n",
       "      <td>1992</td>\n",
       "      <td>FRA</td>\n",
       "      <td>France</td>\n",
       "      <td>Mr Pumas</td>\n",
       "      <td>NaN</td>\n",
       "      <td>Allow me to \\ncongratulate you. Sir, on your e...</td>\n",
       "    </tr>\n",
       "    <tr>\n",
       "      <th>4253</th>\n",
       "      <td>53</td>\n",
       "      <td>1998</td>\n",
       "      <td>SYC</td>\n",
       "      <td>Seychelles</td>\n",
       "      <td>James Michel</td>\n",
       "      <td>Vice-President</td>\n",
       "      <td>eychelles is pleased to see\\nMr. Opertti at th...</td>\n",
       "    </tr>\n",
       "    <tr>\n",
       "      <th>171</th>\n",
       "      <td>26</td>\n",
       "      <td>1971</td>\n",
       "      <td>THA</td>\n",
       "      <td>Thailand</td>\n",
       "      <td>Mr. KHOMAN</td>\n",
       "      <td>NaN</td>\n",
       "      <td>30.\\t Mr. President, it augurs well for the tw...</td>\n",
       "    </tr>\n",
       "    <tr>\n",
       "      <th>50</th>\n",
       "      <td>25</td>\n",
       "      <td>1970</td>\n",
       "      <td>PRY</td>\n",
       "      <td>Paraguay</td>\n",
       "      <td>Mr. SOLANO LOPEZ</td>\n",
       "      <td>NaN</td>\n",
       "      <td>226.\\t  Before I begin my statement in the gen...</td>\n",
       "    </tr>\n",
       "    <tr>\n",
       "      <th>3613</th>\n",
       "      <td>50</td>\n",
       "      <td>1995</td>\n",
       "      <td>ECU</td>\n",
       "      <td>Ecuador</td>\n",
       "      <td>Mr. Leoro Franco</td>\n",
       "      <td>Minister for Foreign Affairs</td>\n",
       "      <td>First of all I should like to extend my warmes...</td>\n",
       "    </tr>\n",
       "    <tr>\n",
       "      <th>4198</th>\n",
       "      <td>53</td>\n",
       "      <td>1998</td>\n",
       "      <td>LUX</td>\n",
       "      <td>Luxembourg</td>\n",
       "      <td>Jacques Poos</td>\n",
       "      <td>Deputy Prime Minister</td>\n",
       "      <td>As previous speakers have done, I would like t...</td>\n",
       "    </tr>\n",
       "    <tr>\n",
       "      <th>1759</th>\n",
       "      <td>38</td>\n",
       "      <td>1983</td>\n",
       "      <td>JPN</td>\n",
       "      <td>Japan</td>\n",
       "      <td>Abe</td>\n",
       "      <td>NaN</td>\n",
       "      <td>﻿91.\\t On behalf of the Government and people ...</td>\n",
       "    </tr>\n",
       "    <tr>\n",
       "      <th>4944</th>\n",
       "      <td>57</td>\n",
       "      <td>2002</td>\n",
       "      <td>MUS</td>\n",
       "      <td>Mauritius</td>\n",
       "      <td>Anerood Jugnauth</td>\n",
       "      <td>Prime Minister</td>\n",
       "      <td>﻿It gives me\\nimmense pleasure to address the ...</td>\n",
       "    </tr>\n",
       "  </tbody>\n",
       "</table>\n",
       "</div>"
      ],
      "text/plain": [
       "      session  year country  country_name           speaker  \\\n",
       "3696       50  1995     PER          Peru        Mr. Tudela   \n",
       "1075       33  1978     SLE  Sierra Leone            Conteh   \n",
       "3102       47  1992     FRA        France          Mr Pumas   \n",
       "4253       53  1998     SYC    Seychelles      James Michel   \n",
       "171        26  1971     THA      Thailand        Mr. KHOMAN   \n",
       "50         25  1970     PRY      Paraguay  Mr. SOLANO LOPEZ   \n",
       "3613       50  1995     ECU       Ecuador  Mr. Leoro Franco   \n",
       "4198       53  1998     LUX    Luxembourg      Jacques Poos   \n",
       "1759       38  1983     JPN         Japan               Abe   \n",
       "4944       57  2002     MUS     Mauritius  Anerood Jugnauth   \n",
       "\n",
       "                          position  \\\n",
       "3696  Minister for Foreign Affairs   \n",
       "1075                           NaN   \n",
       "3102                           NaN   \n",
       "4253               Vice-President    \n",
       "171                            NaN   \n",
       "50                             NaN   \n",
       "3613  Minister for Foreign Affairs   \n",
       "4198         Deputy Prime Minister   \n",
       "1759                           NaN   \n",
       "4944                Prime Minister   \n",
       "\n",
       "                                                   text  \n",
       "3696  Mr. President, on this important occasion, all...  \n",
       "1075  ﻿160.\\tI should like, on behalf of the Sierra ...  \n",
       "3102  Allow me to \\ncongratulate you. Sir, on your e...  \n",
       "4253  eychelles is pleased to see\\nMr. Opertti at th...  \n",
       "171   30.\\t Mr. President, it augurs well for the tw...  \n",
       "50    226.\\t  Before I begin my statement in the gen...  \n",
       "3613  First of all I should like to extend my warmes...  \n",
       "4198  As previous speakers have done, I would like t...  \n",
       "1759  ﻿91.\\t On behalf of the Government and people ...  \n",
       "4944  ﻿It gives me\\nimmense pleasure to address the ...  "
      ]
     },
     "execution_count": 141,
     "metadata": {},
     "output_type": "execute_result"
    }
   ],
   "source": [
    "# Display the data\n",
    "df.sample(10)"
   ]
  },
  {
   "cell_type": "markdown",
   "id": "876a743e-a951-42b7-a03b-fd7715090cea",
   "metadata": {},
   "source": [
    "3. Clean Data"
   ]
  },
  {
   "cell_type": "code",
   "execution_count": 142,
   "id": "ff09e1c7-cfd3-48ea-8dda-82928d1a8252",
   "metadata": {},
   "outputs": [],
   "source": [
    "# Remove newline and tab characters\n",
    "df[\"text\"] = df[\"text\"].replace({\"\\n\":\" \",\n",
    "                                 \"\\t\":\" \"}, regex = True)"
   ]
  },
  {
   "cell_type": "markdown",
   "id": "0466f4b9-3765-439b-9be8-bf0d5d6c79f4",
   "metadata": {},
   "source": [
    "4. Subset Data\n",
    "\n",
    "Political transitions in the Former Soviet Union (FSU) and other socialist states will be assessed. This was selected as I noticed Yugoslavia still present even in 2015. I had originally intended to look at other political transitions, but considered that too broad. As such, I've selected all modern states which were once or are Marxist-Leninist. States which only reference socialism in their constitution are not included, such as India, Portugal, Algeria, etc..."
   ]
  },
  {
   "cell_type": "markdown",
   "id": "4597080f-92a8-4f2c-a12e-7f5c4a581b73",
   "metadata": {},
   "source": [
    "Some adjustments need to be made and noted here:\n",
    "1. Germany is not included, as it is difficult to handle reunification here when each state had separate speaches.\n",
    "2. Former Yugoslavic states will be noted as such. Yugoslavia is recorded until 1991, then representing Serbia from 2001 onwards. The other states include Slovenia, North Macedonia, Bosnia and Herzegovina, Croatia, and Montenegro.\n",
    "3. Former USSR states will be noted as such. These include Russia, Armenia, Azerbeijan, Belarus, Estonia, Georgia, Kazakhstan, Kyrgyzstan, Latvia, Lithuania, Moldova, Tajikistan, Turkmenistan, Ukraine, and Uzbekistan.\n",
    "4. Czechloslovakia becomes Chezia in the data around the year of 1992. These countries will be considered the same and continuous."
   ]
  },
  {
   "cell_type": "code",
   "execution_count": 144,
   "id": "ea0a9c13-0cb4-40ff-a76d-f5893a3a49bb",
   "metadata": {},
   "outputs": [],
   "source": [
    "# Reassign all CSK to CZE (Czechia)\n",
    "df[\"country\"] = np.where(df[\"country\"] == \"CSK\", \"CZE\", df[\"country\"])"
   ]
  },
  {
   "cell_type": "code",
   "execution_count": 145,
   "id": "e64efcdb-f0d6-49c0-a2f9-ce81011e5ed1",
   "metadata": {},
   "outputs": [],
   "source": [
    "# Create a list of former (and present) soviet states\n",
    "fss = [\"RUS\", \"CHN\", \"YUG\", \"POL\", \"CUB\", \n",
    "       \"AFG\", \"ALB\", \"AGO\", \"ARM\", \"AZE\",\n",
    "       \"BLR\", \"BEN\", \"BGR\", \"KHM\", \"COG\", \n",
    "       \"CZE\", \"EST\", \"ETH\", \"GRD\", \n",
    "       \"GEO\", \"HUN\", \"KAZ\", \"KGZ\", \"LVA\",\n",
    "       \"LTU\", \"MDA\", \"MNG\", \"MOZ\", \"ROU\", \n",
    "       \"SOM\", \"TJK\", \"TKM\", \"TUV\", \"UKR\", \n",
    "       \"UZB\", \"VNM\", \"YEM\", \"LAO\", \"PRK\"]"
   ]
  },
  {
   "cell_type": "markdown",
   "id": "3136ba5b-3c49-4a32-bd7d-0f62c8f05f73",
   "metadata": {},
   "source": [
    "Now, we'll classify countries over time as socialist or not based on [this](https://en.wikipedia.org/wiki/List_of_socialist_states#Marxist%E2%80%93Leninist_states_2) list. Any not on this list will be research independently. Republics within the USSR will be classified based on information found [here](https://en.wikipedia.org/wiki/Republics_of_the_Soviet_Union)."
   ]
  },
  {
   "cell_type": "code",
   "execution_count": 146,
   "id": "022487cc-80b4-4eb0-a707-24d72f4d26a0",
   "metadata": {},
   "outputs": [],
   "source": [
    "df_fss = df.loc[df[\"country\"].isin(fss)]"
   ]
  },
  {
   "cell_type": "code",
   "execution_count": 147,
   "id": "552780a1-1677-4328-9499-c2a3933b3901",
   "metadata": {},
   "outputs": [
    {
     "data": {
      "text/html": [
       "<div>\n",
       "<style scoped>\n",
       "    .dataframe tbody tr th:only-of-type {\n",
       "        vertical-align: middle;\n",
       "    }\n",
       "\n",
       "    .dataframe tbody tr th {\n",
       "        vertical-align: top;\n",
       "    }\n",
       "\n",
       "    .dataframe thead th {\n",
       "        text-align: right;\n",
       "    }\n",
       "</style>\n",
       "<table border=\"1\" class=\"dataframe\">\n",
       "  <thead>\n",
       "    <tr style=\"text-align: right;\">\n",
       "      <th></th>\n",
       "      <th>session</th>\n",
       "      <th>year</th>\n",
       "      <th>country</th>\n",
       "      <th>country_name</th>\n",
       "      <th>speaker</th>\n",
       "      <th>position</th>\n",
       "      <th>text</th>\n",
       "    </tr>\n",
       "  </thead>\n",
       "  <tbody>\n",
       "    <tr>\n",
       "      <th>2657</th>\n",
       "      <td>44</td>\n",
       "      <td>1989</td>\n",
       "      <td>LAO</td>\n",
       "      <td>Lao People's Democratic Republic</td>\n",
       "      <td>SRITHIRATH</td>\n",
       "      <td>NaN</td>\n",
       "      <td>﻿ Allow me first on behalf of the delegation o...</td>\n",
       "    </tr>\n",
       "    <tr>\n",
       "      <th>4098</th>\n",
       "      <td>53</td>\n",
       "      <td>1998</td>\n",
       "      <td>AGO</td>\n",
       "      <td>Angola</td>\n",
       "      <td>João Bernardo Miranda</td>\n",
       "      <td>Minister for Foreign Affairs</td>\n",
       "      <td>Allow me to begin by congratulating Mr. Didier...</td>\n",
       "    </tr>\n",
       "    <tr>\n",
       "      <th>6574</th>\n",
       "      <td>66</td>\n",
       "      <td>2011</td>\n",
       "      <td>COG</td>\n",
       "      <td>Congo</td>\n",
       "      <td>Basile Ikouebe</td>\n",
       "      <td>Minister for Foreign Affairs</td>\n",
       "      <td>I am  honoured to take the floor from this ros...</td>\n",
       "    </tr>\n",
       "    <tr>\n",
       "      <th>7182</th>\n",
       "      <td>69</td>\n",
       "      <td>2014</td>\n",
       "      <td>GEO</td>\n",
       "      <td>Georgia</td>\n",
       "      <td>Irakli Garibashvili</td>\n",
       "      <td>Prime Minister</td>\n",
       "      <td>It is a great honour for  me to represent my c...</td>\n",
       "    </tr>\n",
       "    <tr>\n",
       "      <th>5593</th>\n",
       "      <td>61</td>\n",
       "      <td>2006</td>\n",
       "      <td>BEN</td>\n",
       "      <td>Benin</td>\n",
       "      <td>Dr. Boni Yayi</td>\n",
       "      <td>President</td>\n",
       "      <td>I am taking  part personally in this session o...</td>\n",
       "    </tr>\n",
       "    <tr>\n",
       "      <th>7276</th>\n",
       "      <td>69</td>\n",
       "      <td>2014</td>\n",
       "      <td>SOM</td>\n",
       "      <td>Somalia</td>\n",
       "      <td>Hassan Sheikh Mohamud</td>\n",
       "      <td>President</td>\n",
       "      <td>It is a pleasure to join the  Assembly today. ...</td>\n",
       "    </tr>\n",
       "    <tr>\n",
       "      <th>4599</th>\n",
       "      <td>55</td>\n",
       "      <td>2000</td>\n",
       "      <td>ROU</td>\n",
       "      <td>Romania</td>\n",
       "      <td>Petre Roman</td>\n",
       "      <td>Deputy Prime Minister</td>\n",
       "      <td>I am delighted to extend to Mr. Harri Holkeri,...</td>\n",
       "    </tr>\n",
       "    <tr>\n",
       "      <th>1950</th>\n",
       "      <td>39</td>\n",
       "      <td>1984</td>\n",
       "      <td>ROU</td>\n",
       "      <td>Romania</td>\n",
       "      <td>Andrei</td>\n",
       "      <td>NaN</td>\n",
       "      <td>﻿I have the greatest pleasure in conveying to ...</td>\n",
       "    </tr>\n",
       "    <tr>\n",
       "      <th>302</th>\n",
       "      <td>27</td>\n",
       "      <td>1972</td>\n",
       "      <td>UKR</td>\n",
       "      <td>Ukraine</td>\n",
       "      <td>Mr. Shevel</td>\n",
       "      <td>NaN</td>\n",
       "      <td>Mr. President, permit me on behalf of the dele...</td>\n",
       "    </tr>\n",
       "    <tr>\n",
       "      <th>7417</th>\n",
       "      <td>70</td>\n",
       "      <td>2015</td>\n",
       "      <td>LTU</td>\n",
       "      <td>Lithuania</td>\n",
       "      <td>Mrs. Dalia Grybauskaitė</td>\n",
       "      <td>President</td>\n",
       "      <td>The seventieth anniversary of the United Natio...</td>\n",
       "    </tr>\n",
       "  </tbody>\n",
       "</table>\n",
       "</div>"
      ],
      "text/plain": [
       "      session  year country                      country_name  \\\n",
       "2657       44  1989     LAO  Lao People's Democratic Republic   \n",
       "4098       53  1998     AGO                            Angola   \n",
       "6574       66  2011     COG                             Congo   \n",
       "7182       69  2014     GEO                           Georgia   \n",
       "5593       61  2006     BEN                             Benin   \n",
       "7276       69  2014     SOM                           Somalia   \n",
       "4599       55  2000     ROU                           Romania   \n",
       "1950       39  1984     ROU                           Romania   \n",
       "302        27  1972     UKR                           Ukraine   \n",
       "7417       70  2015     LTU                         Lithuania   \n",
       "\n",
       "                      speaker                      position  \\\n",
       "2657              SRITHIRATH                            NaN   \n",
       "4098    João Bernardo Miranda  Minister for Foreign Affairs   \n",
       "6574           Basile Ikouebe  Minister for Foreign Affairs   \n",
       "7182      Irakli Garibashvili                Prime Minister   \n",
       "5593            Dr. Boni Yayi                     President   \n",
       "7276    Hassan Sheikh Mohamud                     President   \n",
       "4599              Petre Roman         Deputy Prime Minister   \n",
       "1950                   Andrei                           NaN   \n",
       "302               Mr. Shevel                            NaN   \n",
       "7417  Mrs. Dalia Grybauskaitė                     President   \n",
       "\n",
       "                                                   text  \n",
       "2657  ﻿ Allow me first on behalf of the delegation o...  \n",
       "4098  Allow me to begin by congratulating Mr. Didier...  \n",
       "6574  I am  honoured to take the floor from this ros...  \n",
       "7182  It is a great honour for  me to represent my c...  \n",
       "5593  I am taking  part personally in this session o...  \n",
       "7276  It is a pleasure to join the  Assembly today. ...  \n",
       "4599  I am delighted to extend to Mr. Harri Holkeri,...  \n",
       "1950  ﻿I have the greatest pleasure in conveying to ...  \n",
       "302   Mr. President, permit me on behalf of the dele...  \n",
       "7417  The seventieth anniversary of the United Natio...  "
      ]
     },
     "execution_count": 147,
     "metadata": {},
     "output_type": "execute_result"
    }
   ],
   "source": [
    "df_fss.sample(10)"
   ]
  },
  {
   "cell_type": "code",
   "execution_count": 152,
   "id": "54f76b52-1700-4c58-83ac-61f8e69bfb6c",
   "metadata": {},
   "outputs": [
    {
     "data": {
      "text/plain": [
       "1450"
      ]
     },
     "execution_count": 152,
     "metadata": {},
     "output_type": "execute_result"
    }
   ],
   "source": [
    "len(df_fss)"
   ]
  },
  {
   "cell_type": "markdown",
   "id": "d096a9bf-0d86-4771-9407-2fb8d28f6204",
   "metadata": {},
   "source": [
    "# LDA Model"
   ]
  },
  {
   "cell_type": "code",
   "execution_count": 222,
   "id": "531ed036-8e7e-4088-8420-f15161b92ff9",
   "metadata": {},
   "outputs": [],
   "source": [
    "# Add stopwords related to institutions, such as UN councils, country names, etc.\n",
    "# Also including words found across topics: peace, new, development\n",
    "\n",
    "additional_stop_words = [\"international\", \"united\", \"nations\", \"nation\", \"national\", \"countries\", \"country\", \"world\", \"states\",\n",
    "                         \"council\", \"government\", \"people\", \"peoples\", \"republic\", \"general\", \"security\",\n",
    "                         \"economic\", \"social\", \"assembly\", \"peace\"]"
   ]
  },
  {
   "cell_type": "code",
   "execution_count": 223,
   "id": "b71525c4-8045-48c9-b26a-b18c3da7700a",
   "metadata": {},
   "outputs": [],
   "source": [
    "# Create a vectorizer\n",
    "vec = CountVectorizer(stop_words=text.ENGLISH_STOP_WORDS.union(additional_stop_words))"
   ]
  },
  {
   "cell_type": "code",
   "execution_count": 224,
   "id": "89d4704c-c71d-4dee-9285-5e4891ac19bc",
   "metadata": {},
   "outputs": [],
   "source": [
    "# Create dtm\n",
    "X = vec.fit_transform(df_fss[\"text\"])"
   ]
  },
  {
   "cell_type": "code",
   "execution_count": 225,
   "id": "1e5436d6-f022-4095-8b68-609d6f24f2dc",
   "metadata": {},
   "outputs": [],
   "source": [
    "# Create lda\n",
    "lda = LatentDirichletAllocation(n_components=5)"
   ]
  },
  {
   "cell_type": "code",
   "execution_count": 226,
   "id": "eaf28110-783d-4cdd-8f61-eb6d8dd9b387",
   "metadata": {},
   "outputs": [],
   "source": [
    "# Fit lda\n",
    "doc_topics = lda.fit_transform(X)"
   ]
  },
  {
   "cell_type": "code",
   "execution_count": 227,
   "id": "21e57450-f624-477d-801a-df8deb5607a2",
   "metadata": {},
   "outputs": [
    {
     "name": "stdout",
     "output_type": "stream",
     "text": [
      "There are 5 topics and 29498 words\n"
     ]
    }
   ],
   "source": [
    "print(f\"There are {lda.components_.shape[0]} topics and {lda.components_.shape[1]} words\")"
   ]
  },
  {
   "cell_type": "markdown",
   "id": "41cce51c-c5a1-48fe-b7a4-1ad56db8aca6",
   "metadata": {},
   "source": [
    "# Interpretting Topics"
   ]
  },
  {
   "cell_type": "code",
   "execution_count": 228,
   "id": "8b01be3c-c45d-4368-acde-2f47092499e8",
   "metadata": {},
   "outputs": [],
   "source": [
    "## Get feature names (vocabulary)\n",
    "voc = np.array(vec.get_feature_names())"
   ]
  },
  {
   "cell_type": "code",
   "execution_count": 229,
   "id": "5820219e-649a-4f44-aa61-01e551e650d9",
   "metadata": {},
   "outputs": [],
   "source": [
    "# Set number of top words you want\n",
    "n_words=10\n",
    "\n",
    "# Create lambda function to extra top words from voc\n",
    "imp_words = lambda x: [voc[each] for each in np.argsort(x)[:-n_words-1:-1]]"
   ]
  },
  {
   "cell_type": "code",
   "execution_count": 230,
   "id": "c5298e52-9da8-4bf1-b505-402bd1371b7c",
   "metadata": {},
   "outputs": [],
   "source": [
    "# Use imp_words to extract words with the highest weights from our lda model\n",
    "words_in_topic = ([imp_words(x) for x in lda.components_])"
   ]
  },
  {
   "cell_type": "code",
   "execution_count": 231,
   "id": "b0555ee4-dd68-4acc-9cc0-785d39d1639a",
   "metadata": {
    "collapsed": true,
    "jupyter": {
     "outputs_hidden": true
    },
    "tags": []
   },
   "outputs": [
    {
     "data": {
      "text/plain": [
       "[['human',\n",
       "  'rights',\n",
       "  'afghanistan',\n",
       "  'new',\n",
       "  'state',\n",
       "  'today',\n",
       "  'years',\n",
       "  'azerbaijan',\n",
       "  'war',\n",
       "  'law'],\n",
       " ['development',\n",
       "  'global',\n",
       "  'cooperation',\n",
       "  'community',\n",
       "  'efforts',\n",
       "  'support',\n",
       "  'new',\n",
       "  'terrorism',\n",
       "  'challenges',\n",
       "  'sustainable'],\n",
       " ['africa',\n",
       "  'community',\n",
       "  'development',\n",
       "  'political',\n",
       "  'organization',\n",
       "  'new',\n",
       "  'african',\n",
       "  'efforts',\n",
       "  'human',\n",
       "  'rights'],\n",
       " ['nuclear',\n",
       "  'new',\n",
       "  'relations',\n",
       "  'political',\n",
       "  'europe',\n",
       "  'weapons',\n",
       "  'disarmament',\n",
       "  'problems',\n",
       "  'development',\n",
       "  'efforts'],\n",
       " ['struggle',\n",
       "  'south',\n",
       "  'independence',\n",
       "  'war',\n",
       "  'soviet',\n",
       "  'situation',\n",
       "  'support',\n",
       "  'relations',\n",
       "  'military',\n",
       "  'africa']]"
      ]
     },
     "execution_count": 231,
     "metadata": {},
     "output_type": "execute_result"
    }
   ],
   "source": [
    "# Examine words\n",
    "words_in_topic"
   ]
  },
  {
   "cell_type": "markdown",
   "id": "e6c966e4-1f71-4475-a5ad-d8451d956150",
   "metadata": {},
   "source": [
    "# Visualizations"
   ]
  },
  {
   "cell_type": "markdown",
   "id": "dde8403a-f00b-4310-a577-4ef0af9fb574",
   "metadata": {},
   "source": [
    "## 1. Defining Each Topic"
   ]
  },
  {
   "cell_type": "code",
   "execution_count": null,
   "id": "d15b2afd-0214-4ecc-a340-f322fc8d22ee",
   "metadata": {},
   "outputs": [],
   "source": []
  },
  {
   "cell_type": "markdown",
   "id": "845fc5ee-15b0-41d4-bbd8-9e4a6ba6bab7",
   "metadata": {},
   "source": [
    "## 2. Bloc Trends/All Countries Shown (by one or all topics)"
   ]
  },
  {
   "cell_type": "code",
   "execution_count": null,
   "id": "6522ceeb-ea42-4def-8e2d-9c7381c0dad2",
   "metadata": {},
   "outputs": [],
   "source": []
  },
  {
   "cell_type": "markdown",
   "id": "e13691ba-0a46-4530-96e8-f8ed1e3a9c66",
   "metadata": {},
   "source": [
    "## 3. Important/Interesting Countries"
   ]
  },
  {
   "cell_type": "code",
   "execution_count": null,
   "id": "ffbeb61b-7334-4da6-bcf8-bff91e522021",
   "metadata": {},
   "outputs": [],
   "source": []
  }
 ],
 "metadata": {
  "kernelspec": {
   "display_name": "Python 3 (ipykernel)",
   "language": "python",
   "name": "python3"
  },
  "language_info": {
   "codemirror_mode": {
    "name": "ipython",
    "version": 3
   },
   "file_extension": ".py",
   "mimetype": "text/x-python",
   "name": "python",
   "nbconvert_exporter": "python",
   "pygments_lexer": "ipython3",
   "version": "3.8.12"
  }
 },
 "nbformat": 4,
 "nbformat_minor": 5
}
