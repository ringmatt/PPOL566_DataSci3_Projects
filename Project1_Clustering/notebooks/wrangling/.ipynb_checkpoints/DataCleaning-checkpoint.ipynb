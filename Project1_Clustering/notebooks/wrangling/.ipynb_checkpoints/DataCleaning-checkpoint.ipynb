{
 "cells": [
  {
   "cell_type": "code",
   "execution_count": 1,
   "id": "e71838f5",
   "metadata": {},
   "outputs": [],
   "source": [
    "# Package Imports\n",
    "import pandas as pd\n",
    "import numpy as np\n",
    "import missingno as msno"
   ]
  },
  {
   "cell_type": "code",
   "execution_count": 2,
   "id": "f4d1fbb4",
   "metadata": {},
   "outputs": [],
   "source": [
    "# Data import\n",
    "df = pd.read_stata(\"../../data/raw/ESS9e03_1.dta\", convert_categoricals = False)"
   ]
  },
  {
   "cell_type": "markdown",
   "id": "65ba2ecc",
   "metadata": {},
   "source": [
    "# Subsetting Columns\n",
    "\n",
    "All columns of the themes on Media & Social Trust, Politics, Human Values, Justice & Fairness, and Timing of Life will be selected. Features link political, social, and moral views to try to cluster the data."
   ]
  },
  {
   "cell_type": "code",
   "execution_count": 3,
   "id": "5ea5aacf",
   "metadata": {},
   "outputs": [],
   "source": [
    "# Creates an array of column indicies to extract\n",
    "# First array is for Media and Politics themes combined,\n",
    "# Second array is for Human Values and Justice & Fairness,\n",
    "# and the third is for Timing of Life\n",
    "cols = np.concatenate([np.arange(6, 114), np.arange(497, 551), np.arange(200, 236)])\n",
    "df_final = df.iloc[:, cols]"
   ]
  },
  {
   "cell_type": "code",
   "execution_count": 4,
   "id": "c003e016",
   "metadata": {},
   "outputs": [
    {
     "data": {
      "text/html": [
       "<div>\n",
       "<style scoped>\n",
       "    .dataframe tbody tr th:only-of-type {\n",
       "        vertical-align: middle;\n",
       "    }\n",
       "\n",
       "    .dataframe tbody tr th {\n",
       "        vertical-align: top;\n",
       "    }\n",
       "\n",
       "    .dataframe thead th {\n",
       "        text-align: right;\n",
       "    }\n",
       "</style>\n",
       "<table border=\"1\" class=\"dataframe\">\n",
       "  <thead>\n",
       "    <tr style=\"text-align: right;\">\n",
       "      <th></th>\n",
       "      <th>nwspol</th>\n",
       "      <th>netusoft</th>\n",
       "      <th>netustm</th>\n",
       "      <th>ppltrst</th>\n",
       "      <th>pplfair</th>\n",
       "      <th>pplhlp</th>\n",
       "      <th>polintr</th>\n",
       "      <th>psppsgva</th>\n",
       "      <th>actrolga</th>\n",
       "      <th>psppipla</th>\n",
       "      <th>...</th>\n",
       "      <th>tygrtr</th>\n",
       "      <th>tolvpnt</th>\n",
       "      <th>tochld</th>\n",
       "      <th>towkht</th>\n",
       "      <th>anvcld</th>\n",
       "      <th>alvgptn</th>\n",
       "      <th>acldnmr</th>\n",
       "      <th>aftjbyc</th>\n",
       "      <th>advcyc</th>\n",
       "      <th>plnftr</th>\n",
       "    </tr>\n",
       "  </thead>\n",
       "  <tbody>\n",
       "    <tr>\n",
       "      <th>0</th>\n",
       "      <td>60.0</td>\n",
       "      <td>5.0</td>\n",
       "      <td>180.0</td>\n",
       "      <td>2.0</td>\n",
       "      <td>2.0</td>\n",
       "      <td>2.0</td>\n",
       "      <td>3.0</td>\n",
       "      <td>3.0</td>\n",
       "      <td>2.0</td>\n",
       "      <td>2.0</td>\n",
       "      <td>...</td>\n",
       "      <td>111.0</td>\n",
       "      <td>30.0</td>\n",
       "      <td>45.0</td>\n",
       "      <td>0.0</td>\n",
       "      <td>4.0</td>\n",
       "      <td>4.0</td>\n",
       "      <td>4.0</td>\n",
       "      <td>4.0</td>\n",
       "      <td>4.0</td>\n",
       "      <td>2.0</td>\n",
       "    </tr>\n",
       "    <tr>\n",
       "      <th>1</th>\n",
       "      <td>10.0</td>\n",
       "      <td>5.0</td>\n",
       "      <td>20.0</td>\n",
       "      <td>7.0</td>\n",
       "      <td>8.0</td>\n",
       "      <td>7.0</td>\n",
       "      <td>2.0</td>\n",
       "      <td>3.0</td>\n",
       "      <td>2.0</td>\n",
       "      <td>3.0</td>\n",
       "      <td>...</td>\n",
       "      <td>55.0</td>\n",
       "      <td>30.0</td>\n",
       "      <td>45.0</td>\n",
       "      <td>60.0</td>\n",
       "      <td>4.0</td>\n",
       "      <td>4.0</td>\n",
       "      <td>4.0</td>\n",
       "      <td>2.0</td>\n",
       "      <td>2.0</td>\n",
       "      <td>4.0</td>\n",
       "    </tr>\n",
       "    <tr>\n",
       "      <th>2</th>\n",
       "      <td>60.0</td>\n",
       "      <td>4.0</td>\n",
       "      <td>180.0</td>\n",
       "      <td>5.0</td>\n",
       "      <td>7.0</td>\n",
       "      <td>7.0</td>\n",
       "      <td>4.0</td>\n",
       "      <td>2.0</td>\n",
       "      <td>1.0</td>\n",
       "      <td>3.0</td>\n",
       "      <td>...</td>\n",
       "      <td>0.0</td>\n",
       "      <td>0.0</td>\n",
       "      <td>55.0</td>\n",
       "      <td>57.0</td>\n",
       "      <td>3.0</td>\n",
       "      <td>3.0</td>\n",
       "      <td>3.0</td>\n",
       "      <td>3.0</td>\n",
       "      <td>3.0</td>\n",
       "      <td>2.0</td>\n",
       "    </tr>\n",
       "    <tr>\n",
       "      <th>3</th>\n",
       "      <td>45.0</td>\n",
       "      <td>5.0</td>\n",
       "      <td>120.0</td>\n",
       "      <td>3.0</td>\n",
       "      <td>9.0</td>\n",
       "      <td>5.0</td>\n",
       "      <td>3.0</td>\n",
       "      <td>2.0</td>\n",
       "      <td>2.0</td>\n",
       "      <td>3.0</td>\n",
       "      <td>...</td>\n",
       "      <td>45.0</td>\n",
       "      <td>30.0</td>\n",
       "      <td>65.0</td>\n",
       "      <td>NaN</td>\n",
       "      <td>3.0</td>\n",
       "      <td>4.0</td>\n",
       "      <td>4.0</td>\n",
       "      <td>3.0</td>\n",
       "      <td>4.0</td>\n",
       "      <td>1.0</td>\n",
       "    </tr>\n",
       "    <tr>\n",
       "      <th>4</th>\n",
       "      <td>30.0</td>\n",
       "      <td>1.0</td>\n",
       "      <td>NaN</td>\n",
       "      <td>5.0</td>\n",
       "      <td>8.0</td>\n",
       "      <td>4.0</td>\n",
       "      <td>2.0</td>\n",
       "      <td>1.0</td>\n",
       "      <td>1.0</td>\n",
       "      <td>1.0</td>\n",
       "      <td>...</td>\n",
       "      <td>20.0</td>\n",
       "      <td>25.0</td>\n",
       "      <td>40.0</td>\n",
       "      <td>60.0</td>\n",
       "      <td>2.0</td>\n",
       "      <td>2.0</td>\n",
       "      <td>2.0</td>\n",
       "      <td>2.0</td>\n",
       "      <td>2.0</td>\n",
       "      <td>7.0</td>\n",
       "    </tr>\n",
       "  </tbody>\n",
       "</table>\n",
       "<p>5 rows × 198 columns</p>\n",
       "</div>"
      ],
      "text/plain": [
       "   nwspol  netusoft  netustm  ppltrst  pplfair  pplhlp  polintr  psppsgva  \\\n",
       "0    60.0       5.0    180.0      2.0      2.0     2.0      3.0       3.0   \n",
       "1    10.0       5.0     20.0      7.0      8.0     7.0      2.0       3.0   \n",
       "2    60.0       4.0    180.0      5.0      7.0     7.0      4.0       2.0   \n",
       "3    45.0       5.0    120.0      3.0      9.0     5.0      3.0       2.0   \n",
       "4    30.0       1.0      NaN      5.0      8.0     4.0      2.0       1.0   \n",
       "\n",
       "   actrolga  psppipla  ...  tygrtr  tolvpnt  tochld  towkht  anvcld  alvgptn  \\\n",
       "0       2.0       2.0  ...   111.0     30.0    45.0     0.0     4.0      4.0   \n",
       "1       2.0       3.0  ...    55.0     30.0    45.0    60.0     4.0      4.0   \n",
       "2       1.0       3.0  ...     0.0      0.0    55.0    57.0     3.0      3.0   \n",
       "3       2.0       3.0  ...    45.0     30.0    65.0     NaN     3.0      4.0   \n",
       "4       1.0       1.0  ...    20.0     25.0    40.0    60.0     2.0      2.0   \n",
       "\n",
       "   acldnmr  aftjbyc  advcyc  plnftr  \n",
       "0      4.0      4.0     4.0     2.0  \n",
       "1      4.0      2.0     2.0     4.0  \n",
       "2      3.0      3.0     3.0     2.0  \n",
       "3      4.0      3.0     4.0     1.0  \n",
       "4      2.0      2.0     2.0     7.0  \n",
       "\n",
       "[5 rows x 198 columns]"
      ]
     },
     "execution_count": 4,
     "metadata": {},
     "output_type": "execute_result"
    }
   ],
   "source": [
    "df_final.head()"
   ]
  },
  {
   "cell_type": "markdown",
   "id": "dee1ca89",
   "metadata": {},
   "source": [
    "Checking for Refusal, Don't Know, and No Answer values which would show as some number of 7's, 8's, or 9's. For example, 77, 88, or 99 for a scale of 0-10"
   ]
  },
  {
   "cell_type": "code",
   "execution_count": 5,
   "id": "1c6923b2",
   "metadata": {},
   "outputs": [
    {
     "data": {
      "text/html": [
       "<div>\n",
       "<style scoped>\n",
       "    .dataframe tbody tr th:only-of-type {\n",
       "        vertical-align: middle;\n",
       "    }\n",
       "\n",
       "    .dataframe tbody tr th {\n",
       "        vertical-align: top;\n",
       "    }\n",
       "\n",
       "    .dataframe thead th {\n",
       "        text-align: right;\n",
       "    }\n",
       "</style>\n",
       "<table border=\"1\" class=\"dataframe\">\n",
       "  <thead>\n",
       "    <tr style=\"text-align: right;\">\n",
       "      <th></th>\n",
       "      <th>nwspol</th>\n",
       "      <th>polintr</th>\n",
       "      <th>ipcrtiv</th>\n",
       "      <th>frprtpl</th>\n",
       "      <th>tygrtr</th>\n",
       "    </tr>\n",
       "  </thead>\n",
       "  <tbody>\n",
       "    <tr>\n",
       "      <th>count</th>\n",
       "      <td>48947.000000</td>\n",
       "      <td>49421.000000</td>\n",
       "      <td>48365.000000</td>\n",
       "      <td>46833.000000</td>\n",
       "      <td>45066.000000</td>\n",
       "    </tr>\n",
       "    <tr>\n",
       "      <th>mean</th>\n",
       "      <td>85.477394</td>\n",
       "      <td>2.661743</td>\n",
       "      <td>2.691988</td>\n",
       "      <td>2.719300</td>\n",
       "      <td>49.388808</td>\n",
       "    </tr>\n",
       "    <tr>\n",
       "      <th>std</th>\n",
       "      <td>137.591927</td>\n",
       "      <td>0.924052</td>\n",
       "      <td>1.268780</td>\n",
       "      <td>1.050992</td>\n",
       "      <td>19.650299</td>\n",
       "    </tr>\n",
       "    <tr>\n",
       "      <th>min</th>\n",
       "      <td>0.000000</td>\n",
       "      <td>1.000000</td>\n",
       "      <td>1.000000</td>\n",
       "      <td>1.000000</td>\n",
       "      <td>0.000000</td>\n",
       "    </tr>\n",
       "    <tr>\n",
       "      <th>25%</th>\n",
       "      <td>30.000000</td>\n",
       "      <td>2.000000</td>\n",
       "      <td>2.000000</td>\n",
       "      <td>2.000000</td>\n",
       "      <td>45.000000</td>\n",
       "    </tr>\n",
       "    <tr>\n",
       "      <th>50%</th>\n",
       "      <td>60.000000</td>\n",
       "      <td>3.000000</td>\n",
       "      <td>2.000000</td>\n",
       "      <td>3.000000</td>\n",
       "      <td>50.000000</td>\n",
       "    </tr>\n",
       "    <tr>\n",
       "      <th>75%</th>\n",
       "      <td>90.000000</td>\n",
       "      <td>3.000000</td>\n",
       "      <td>3.000000</td>\n",
       "      <td>3.000000</td>\n",
       "      <td>60.000000</td>\n",
       "    </tr>\n",
       "    <tr>\n",
       "      <th>max</th>\n",
       "      <td>1440.000000</td>\n",
       "      <td>4.000000</td>\n",
       "      <td>6.000000</td>\n",
       "      <td>5.000000</td>\n",
       "      <td>222.000000</td>\n",
       "    </tr>\n",
       "  </tbody>\n",
       "</table>\n",
       "</div>"
      ],
      "text/plain": [
       "             nwspol       polintr       ipcrtiv       frprtpl        tygrtr\n",
       "count  48947.000000  49421.000000  48365.000000  46833.000000  45066.000000\n",
       "mean      85.477394      2.661743      2.691988      2.719300     49.388808\n",
       "std      137.591927      0.924052      1.268780      1.050992     19.650299\n",
       "min        0.000000      1.000000      1.000000      1.000000      0.000000\n",
       "25%       30.000000      2.000000      2.000000      2.000000     45.000000\n",
       "50%       60.000000      3.000000      2.000000      3.000000     50.000000\n",
       "75%       90.000000      3.000000      3.000000      3.000000     60.000000\n",
       "max     1440.000000      4.000000      6.000000      5.000000    222.000000"
      ]
     },
     "execution_count": 5,
     "metadata": {},
     "output_type": "execute_result"
    }
   ],
   "source": [
    "# Check for non-response values in each of the themes\n",
    "df_final[[\"nwspol\", \"polintr\", \"ipcrtiv\", \"frprtpl\", \"tygrtr\"]].describe()"
   ]
  },
  {
   "cell_type": "markdown",
   "id": "972fcd67",
   "metadata": {},
   "source": [
    "There do not appear to be non-response values, but there are issues with outliers and mixed categorical/numerical variables. \n",
    "\n",
    "**Media & Social Trust**\n",
    "\n",
    "Some values here are extreme outliers, such as 1440 minutes of news per week, whereas the mean is 60. These values will make StandardScaler much less effective and may need to be scaled using RobustScaler.\n",
    "\n",
    "**Timing of Life**\n",
    "\n",
    "`tygrtr` is a variable for the \"appropriate age to retire permanently\". Values of 000 mean \"never too young\", 111 mean \"should never retire permanently\", and 222 mean \"should never be in paid work\". This while there are values representing actual ages. This makes these variables mixed categorical/numerical. \n",
    "\n",
    "To fix this, many columns from the split ballot for Timing of Life will be removed. This goes from `admge` to `towkht`. `lvpntyr` will also be removed as it contains years of \"0000\" and \"1111\" for certain categorical responses."
   ]
  },
  {
   "cell_type": "code",
   "execution_count": 6,
   "id": "e66bd4d5",
   "metadata": {},
   "outputs": [],
   "source": [
    "# Finding locations\n",
    "start = df_final.columns.get_loc(\"admge\")\n",
    "end = df_final.columns.get_loc(\"towkht\") + 1\n",
    "lvpntyr = df_final.columns.get_loc(\"lvpntyr\")"
   ]
  },
  {
   "cell_type": "code",
   "execution_count": 7,
   "id": "3c148f58",
   "metadata": {},
   "outputs": [
    {
     "name": "stderr",
     "output_type": "stream",
     "text": [
      "C:\\Users\\Matt\\AppData\\Local\\Packages\\PythonSoftwareFoundation.Python.3.8_qbz5n2kfra8p0\\LocalCache\\local-packages\\Python38\\site-packages\\pandas\\core\\frame.py:4162: SettingWithCopyWarning: \n",
      "A value is trying to be set on a copy of a slice from a DataFrame\n",
      "\n",
      "See the caveats in the documentation: https://pandas.pydata.org/pandas-docs/stable/user_guide/indexing.html#returning-a-view-versus-a-copy\n",
      "  return super().drop(\n"
     ]
    }
   ],
   "source": [
    "# Removes problem questions\n",
    "drop_cols = np.concatenate([np.arange(start,end), [lvpntyr]])\n",
    "df_final.drop(df_final.columns[drop_cols], axis = 1, inplace = True)"
   ]
  },
  {
   "cell_type": "markdown",
   "id": "626a28b9",
   "metadata": {},
   "source": [
    "The human values variables are ordered from 1-6, with 1 being most like oneself. This is counter to the rest of the data and will therefore be flipped."
   ]
  },
  {
   "cell_type": "code",
   "execution_count": 8,
   "id": "28643271",
   "metadata": {
    "collapsed": true,
    "jupyter": {
     "outputs_hidden": true
    }
   },
   "outputs": [
    {
     "name": "stderr",
     "output_type": "stream",
     "text": [
      "<ipython-input-8-ed516b794a95>:5: SettingWithCopyWarning: \n",
      "A value is trying to be set on a copy of a slice from a DataFrame.\n",
      "Try using .loc[row_indexer,col_indexer] = value instead\n",
      "\n",
      "See the caveats in the documentation: https://pandas.pydata.org/pandas-docs/stable/user_guide/indexing.html#returning-a-view-versus-a-copy\n",
      "  human_vals[col] = np.where(human_vals[col] == 1, 6,\n",
      "<ipython-input-8-ed516b794a95>:5: SettingWithCopyWarning: \n",
      "A value is trying to be set on a copy of a slice from a DataFrame.\n",
      "Try using .loc[row_indexer,col_indexer] = value instead\n",
      "\n",
      "See the caveats in the documentation: https://pandas.pydata.org/pandas-docs/stable/user_guide/indexing.html#returning-a-view-versus-a-copy\n",
      "  human_vals[col] = np.where(human_vals[col] == 1, 6,\n",
      "<ipython-input-8-ed516b794a95>:5: SettingWithCopyWarning: \n",
      "A value is trying to be set on a copy of a slice from a DataFrame.\n",
      "Try using .loc[row_indexer,col_indexer] = value instead\n",
      "\n",
      "See the caveats in the documentation: https://pandas.pydata.org/pandas-docs/stable/user_guide/indexing.html#returning-a-view-versus-a-copy\n",
      "  human_vals[col] = np.where(human_vals[col] == 1, 6,\n",
      "<ipython-input-8-ed516b794a95>:5: SettingWithCopyWarning: \n",
      "A value is trying to be set on a copy of a slice from a DataFrame.\n",
      "Try using .loc[row_indexer,col_indexer] = value instead\n",
      "\n",
      "See the caveats in the documentation: https://pandas.pydata.org/pandas-docs/stable/user_guide/indexing.html#returning-a-view-versus-a-copy\n",
      "  human_vals[col] = np.where(human_vals[col] == 1, 6,\n",
      "<ipython-input-8-ed516b794a95>:5: SettingWithCopyWarning: \n",
      "A value is trying to be set on a copy of a slice from a DataFrame.\n",
      "Try using .loc[row_indexer,col_indexer] = value instead\n",
      "\n",
      "See the caveats in the documentation: https://pandas.pydata.org/pandas-docs/stable/user_guide/indexing.html#returning-a-view-versus-a-copy\n",
      "  human_vals[col] = np.where(human_vals[col] == 1, 6,\n",
      "<ipython-input-8-ed516b794a95>:5: SettingWithCopyWarning: \n",
      "A value is trying to be set on a copy of a slice from a DataFrame.\n",
      "Try using .loc[row_indexer,col_indexer] = value instead\n",
      "\n",
      "See the caveats in the documentation: https://pandas.pydata.org/pandas-docs/stable/user_guide/indexing.html#returning-a-view-versus-a-copy\n",
      "  human_vals[col] = np.where(human_vals[col] == 1, 6,\n",
      "<ipython-input-8-ed516b794a95>:5: SettingWithCopyWarning: \n",
      "A value is trying to be set on a copy of a slice from a DataFrame.\n",
      "Try using .loc[row_indexer,col_indexer] = value instead\n",
      "\n",
      "See the caveats in the documentation: https://pandas.pydata.org/pandas-docs/stable/user_guide/indexing.html#returning-a-view-versus-a-copy\n",
      "  human_vals[col] = np.where(human_vals[col] == 1, 6,\n",
      "<ipython-input-8-ed516b794a95>:5: SettingWithCopyWarning: \n",
      "A value is trying to be set on a copy of a slice from a DataFrame.\n",
      "Try using .loc[row_indexer,col_indexer] = value instead\n",
      "\n",
      "See the caveats in the documentation: https://pandas.pydata.org/pandas-docs/stable/user_guide/indexing.html#returning-a-view-versus-a-copy\n",
      "  human_vals[col] = np.where(human_vals[col] == 1, 6,\n",
      "<ipython-input-8-ed516b794a95>:5: SettingWithCopyWarning: \n",
      "A value is trying to be set on a copy of a slice from a DataFrame.\n",
      "Try using .loc[row_indexer,col_indexer] = value instead\n",
      "\n",
      "See the caveats in the documentation: https://pandas.pydata.org/pandas-docs/stable/user_guide/indexing.html#returning-a-view-versus-a-copy\n",
      "  human_vals[col] = np.where(human_vals[col] == 1, 6,\n",
      "<ipython-input-8-ed516b794a95>:5: SettingWithCopyWarning: \n",
      "A value is trying to be set on a copy of a slice from a DataFrame.\n",
      "Try using .loc[row_indexer,col_indexer] = value instead\n",
      "\n",
      "See the caveats in the documentation: https://pandas.pydata.org/pandas-docs/stable/user_guide/indexing.html#returning-a-view-versus-a-copy\n",
      "  human_vals[col] = np.where(human_vals[col] == 1, 6,\n",
      "<ipython-input-8-ed516b794a95>:5: SettingWithCopyWarning: \n",
      "A value is trying to be set on a copy of a slice from a DataFrame.\n",
      "Try using .loc[row_indexer,col_indexer] = value instead\n",
      "\n",
      "See the caveats in the documentation: https://pandas.pydata.org/pandas-docs/stable/user_guide/indexing.html#returning-a-view-versus-a-copy\n",
      "  human_vals[col] = np.where(human_vals[col] == 1, 6,\n",
      "<ipython-input-8-ed516b794a95>:5: SettingWithCopyWarning: \n",
      "A value is trying to be set on a copy of a slice from a DataFrame.\n",
      "Try using .loc[row_indexer,col_indexer] = value instead\n",
      "\n",
      "See the caveats in the documentation: https://pandas.pydata.org/pandas-docs/stable/user_guide/indexing.html#returning-a-view-versus-a-copy\n",
      "  human_vals[col] = np.where(human_vals[col] == 1, 6,\n",
      "<ipython-input-8-ed516b794a95>:5: SettingWithCopyWarning: \n",
      "A value is trying to be set on a copy of a slice from a DataFrame.\n",
      "Try using .loc[row_indexer,col_indexer] = value instead\n",
      "\n",
      "See the caveats in the documentation: https://pandas.pydata.org/pandas-docs/stable/user_guide/indexing.html#returning-a-view-versus-a-copy\n",
      "  human_vals[col] = np.where(human_vals[col] == 1, 6,\n",
      "<ipython-input-8-ed516b794a95>:5: SettingWithCopyWarning: \n",
      "A value is trying to be set on a copy of a slice from a DataFrame.\n",
      "Try using .loc[row_indexer,col_indexer] = value instead\n",
      "\n",
      "See the caveats in the documentation: https://pandas.pydata.org/pandas-docs/stable/user_guide/indexing.html#returning-a-view-versus-a-copy\n",
      "  human_vals[col] = np.where(human_vals[col] == 1, 6,\n",
      "<ipython-input-8-ed516b794a95>:5: SettingWithCopyWarning: \n",
      "A value is trying to be set on a copy of a slice from a DataFrame.\n",
      "Try using .loc[row_indexer,col_indexer] = value instead\n",
      "\n",
      "See the caveats in the documentation: https://pandas.pydata.org/pandas-docs/stable/user_guide/indexing.html#returning-a-view-versus-a-copy\n",
      "  human_vals[col] = np.where(human_vals[col] == 1, 6,\n",
      "<ipython-input-8-ed516b794a95>:5: SettingWithCopyWarning: \n",
      "A value is trying to be set on a copy of a slice from a DataFrame.\n",
      "Try using .loc[row_indexer,col_indexer] = value instead\n",
      "\n",
      "See the caveats in the documentation: https://pandas.pydata.org/pandas-docs/stable/user_guide/indexing.html#returning-a-view-versus-a-copy\n",
      "  human_vals[col] = np.where(human_vals[col] == 1, 6,\n",
      "<ipython-input-8-ed516b794a95>:5: SettingWithCopyWarning: \n",
      "A value is trying to be set on a copy of a slice from a DataFrame.\n",
      "Try using .loc[row_indexer,col_indexer] = value instead\n",
      "\n",
      "See the caveats in the documentation: https://pandas.pydata.org/pandas-docs/stable/user_guide/indexing.html#returning-a-view-versus-a-copy\n",
      "  human_vals[col] = np.where(human_vals[col] == 1, 6,\n",
      "<ipython-input-8-ed516b794a95>:5: SettingWithCopyWarning: \n",
      "A value is trying to be set on a copy of a slice from a DataFrame.\n",
      "Try using .loc[row_indexer,col_indexer] = value instead\n",
      "\n",
      "See the caveats in the documentation: https://pandas.pydata.org/pandas-docs/stable/user_guide/indexing.html#returning-a-view-versus-a-copy\n",
      "  human_vals[col] = np.where(human_vals[col] == 1, 6,\n",
      "<ipython-input-8-ed516b794a95>:5: SettingWithCopyWarning: \n",
      "A value is trying to be set on a copy of a slice from a DataFrame.\n",
      "Try using .loc[row_indexer,col_indexer] = value instead\n",
      "\n",
      "See the caveats in the documentation: https://pandas.pydata.org/pandas-docs/stable/user_guide/indexing.html#returning-a-view-versus-a-copy\n",
      "  human_vals[col] = np.where(human_vals[col] == 1, 6,\n",
      "<ipython-input-8-ed516b794a95>:5: SettingWithCopyWarning: \n",
      "A value is trying to be set on a copy of a slice from a DataFrame.\n",
      "Try using .loc[row_indexer,col_indexer] = value instead\n",
      "\n",
      "See the caveats in the documentation: https://pandas.pydata.org/pandas-docs/stable/user_guide/indexing.html#returning-a-view-versus-a-copy\n",
      "  human_vals[col] = np.where(human_vals[col] == 1, 6,\n",
      "<ipython-input-8-ed516b794a95>:5: SettingWithCopyWarning: \n",
      "A value is trying to be set on a copy of a slice from a DataFrame.\n",
      "Try using .loc[row_indexer,col_indexer] = value instead\n",
      "\n",
      "See the caveats in the documentation: https://pandas.pydata.org/pandas-docs/stable/user_guide/indexing.html#returning-a-view-versus-a-copy\n",
      "  human_vals[col] = np.where(human_vals[col] == 1, 6,\n"
     ]
    }
   ],
   "source": [
    "# Changes human values data to make higher values mean more in line with that value\n",
    "human_vals = df_final.iloc[:, df_final.columns.get_loc(\"ipcrtiv\"):df_final.columns.get_loc(\"impfun\")+1]\n",
    "\n",
    "for col in human_vals.columns:\n",
    "    human_vals[col] = np.where(human_vals[col] == 1, 6, \n",
    "                               np.where(human_vals[col] == 2, 5, \n",
    "                                        np.where(human_vals[col] == 3, 4, \n",
    "                                                 np.where(human_vals[col] == 4, 3, \n",
    "                                                          np.where(human_vals[col] == 5, 2, \n",
    "                                                                   np.where(human_vals[col] == 6, 1, human_vals[col]))))))"
   ]
  },
  {
   "cell_type": "code",
   "execution_count": 9,
   "id": "d17fd7a6",
   "metadata": {
    "collapsed": true,
    "jupyter": {
     "outputs_hidden": true
    }
   },
   "outputs": [
    {
     "name": "stderr",
     "output_type": "stream",
     "text": [
      "C:\\Users\\Matt\\AppData\\Local\\Packages\\PythonSoftwareFoundation.Python.3.8_qbz5n2kfra8p0\\LocalCache\\local-packages\\Python38\\site-packages\\pandas\\core\\indexing.py:670: SettingWithCopyWarning: \n",
      "A value is trying to be set on a copy of a slice from a DataFrame\n",
      "\n",
      "See the caveats in the documentation: https://pandas.pydata.org/pandas-docs/stable/user_guide/indexing.html#returning-a-view-versus-a-copy\n",
      "  iloc._setitem_with_indexer(indexer, value)\n",
      "<ipython-input-9-ef8fa51d7fc0>:1: SettingWithCopyWarning: \n",
      "A value is trying to be set on a copy of a slice from a DataFrame\n",
      "\n",
      "See the caveats in the documentation: https://pandas.pydata.org/pandas-docs/stable/user_guide/indexing.html#returning-a-view-versus-a-copy\n",
      "  df_final.iloc[:, df_final.columns.get_loc(\"ipcrtiv\"):df_final.columns.get_loc(\"impfun\")+1] = human_vals\n"
     ]
    }
   ],
   "source": [
    "df_final.iloc[:, df_final.columns.get_loc(\"ipcrtiv\"):df_final.columns.get_loc(\"impfun\")+1] = human_vals"
   ]
  },
  {
   "cell_type": "code",
   "execution_count": 10,
   "id": "79ddb025",
   "metadata": {},
   "outputs": [
    {
     "data": {
      "text/html": [
       "<div>\n",
       "<style scoped>\n",
       "    .dataframe tbody tr th:only-of-type {\n",
       "        vertical-align: middle;\n",
       "    }\n",
       "\n",
       "    .dataframe tbody tr th {\n",
       "        vertical-align: top;\n",
       "    }\n",
       "\n",
       "    .dataframe thead th {\n",
       "        text-align: right;\n",
       "    }\n",
       "</style>\n",
       "<table border=\"1\" class=\"dataframe\">\n",
       "  <thead>\n",
       "    <tr style=\"text-align: right;\">\n",
       "      <th></th>\n",
       "      <th>ipcrtiv</th>\n",
       "      <th>imprich</th>\n",
       "      <th>ipeqopt</th>\n",
       "      <th>ipshabt</th>\n",
       "      <th>impsafe</th>\n",
       "      <th>impdiff</th>\n",
       "      <th>ipfrule</th>\n",
       "      <th>ipudrst</th>\n",
       "      <th>ipmodst</th>\n",
       "      <th>ipgdtim</th>\n",
       "      <th>...</th>\n",
       "      <th>iphlppl</th>\n",
       "      <th>ipsuces</th>\n",
       "      <th>ipstrgv</th>\n",
       "      <th>ipadvnt</th>\n",
       "      <th>ipbhprp</th>\n",
       "      <th>iprspot</th>\n",
       "      <th>iplylfr</th>\n",
       "      <th>impenv</th>\n",
       "      <th>imptrad</th>\n",
       "      <th>impfun</th>\n",
       "    </tr>\n",
       "  </thead>\n",
       "  <tbody>\n",
       "    <tr>\n",
       "      <th>0</th>\n",
       "      <td>5.0</td>\n",
       "      <td>5.0</td>\n",
       "      <td>5.0</td>\n",
       "      <td>5.0</td>\n",
       "      <td>5.0</td>\n",
       "      <td>5.0</td>\n",
       "      <td>5.0</td>\n",
       "      <td>4.0</td>\n",
       "      <td>6.0</td>\n",
       "      <td>5.0</td>\n",
       "      <td>...</td>\n",
       "      <td>5.0</td>\n",
       "      <td>5.0</td>\n",
       "      <td>5.0</td>\n",
       "      <td>5.0</td>\n",
       "      <td>5.0</td>\n",
       "      <td>5.0</td>\n",
       "      <td>5.0</td>\n",
       "      <td>4.0</td>\n",
       "      <td>5.0</td>\n",
       "      <td>4.0</td>\n",
       "    </tr>\n",
       "    <tr>\n",
       "      <th>1</th>\n",
       "      <td>4.0</td>\n",
       "      <td>3.0</td>\n",
       "      <td>4.0</td>\n",
       "      <td>4.0</td>\n",
       "      <td>5.0</td>\n",
       "      <td>3.0</td>\n",
       "      <td>3.0</td>\n",
       "      <td>4.0</td>\n",
       "      <td>3.0</td>\n",
       "      <td>4.0</td>\n",
       "      <td>...</td>\n",
       "      <td>4.0</td>\n",
       "      <td>3.0</td>\n",
       "      <td>4.0</td>\n",
       "      <td>2.0</td>\n",
       "      <td>5.0</td>\n",
       "      <td>4.0</td>\n",
       "      <td>5.0</td>\n",
       "      <td>4.0</td>\n",
       "      <td>4.0</td>\n",
       "      <td>4.0</td>\n",
       "    </tr>\n",
       "    <tr>\n",
       "      <th>2</th>\n",
       "      <td>4.0</td>\n",
       "      <td>2.0</td>\n",
       "      <td>4.0</td>\n",
       "      <td>4.0</td>\n",
       "      <td>3.0</td>\n",
       "      <td>3.0</td>\n",
       "      <td>4.0</td>\n",
       "      <td>4.0</td>\n",
       "      <td>4.0</td>\n",
       "      <td>3.0</td>\n",
       "      <td>...</td>\n",
       "      <td>5.0</td>\n",
       "      <td>4.0</td>\n",
       "      <td>5.0</td>\n",
       "      <td>4.0</td>\n",
       "      <td>5.0</td>\n",
       "      <td>4.0</td>\n",
       "      <td>4.0</td>\n",
       "      <td>4.0</td>\n",
       "      <td>4.0</td>\n",
       "      <td>4.0</td>\n",
       "    </tr>\n",
       "    <tr>\n",
       "      <th>3</th>\n",
       "      <td>5.0</td>\n",
       "      <td>2.0</td>\n",
       "      <td>6.0</td>\n",
       "      <td>6.0</td>\n",
       "      <td>6.0</td>\n",
       "      <td>4.0</td>\n",
       "      <td>5.0</td>\n",
       "      <td>6.0</td>\n",
       "      <td>5.0</td>\n",
       "      <td>4.0</td>\n",
       "      <td>...</td>\n",
       "      <td>6.0</td>\n",
       "      <td>6.0</td>\n",
       "      <td>6.0</td>\n",
       "      <td>1.0</td>\n",
       "      <td>6.0</td>\n",
       "      <td>6.0</td>\n",
       "      <td>6.0</td>\n",
       "      <td>6.0</td>\n",
       "      <td>5.0</td>\n",
       "      <td>4.0</td>\n",
       "    </tr>\n",
       "    <tr>\n",
       "      <th>4</th>\n",
       "      <td>5.0</td>\n",
       "      <td>1.0</td>\n",
       "      <td>6.0</td>\n",
       "      <td>3.0</td>\n",
       "      <td>5.0</td>\n",
       "      <td>3.0</td>\n",
       "      <td>5.0</td>\n",
       "      <td>4.0</td>\n",
       "      <td>4.0</td>\n",
       "      <td>5.0</td>\n",
       "      <td>...</td>\n",
       "      <td>5.0</td>\n",
       "      <td>1.0</td>\n",
       "      <td>5.0</td>\n",
       "      <td>1.0</td>\n",
       "      <td>6.0</td>\n",
       "      <td>4.0</td>\n",
       "      <td>5.0</td>\n",
       "      <td>6.0</td>\n",
       "      <td>6.0</td>\n",
       "      <td>4.0</td>\n",
       "    </tr>\n",
       "    <tr>\n",
       "      <th>...</th>\n",
       "      <td>...</td>\n",
       "      <td>...</td>\n",
       "      <td>...</td>\n",
       "      <td>...</td>\n",
       "      <td>...</td>\n",
       "      <td>...</td>\n",
       "      <td>...</td>\n",
       "      <td>...</td>\n",
       "      <td>...</td>\n",
       "      <td>...</td>\n",
       "      <td>...</td>\n",
       "      <td>...</td>\n",
       "      <td>...</td>\n",
       "      <td>...</td>\n",
       "      <td>...</td>\n",
       "      <td>...</td>\n",
       "      <td>...</td>\n",
       "      <td>...</td>\n",
       "      <td>...</td>\n",
       "      <td>...</td>\n",
       "      <td>...</td>\n",
       "    </tr>\n",
       "    <tr>\n",
       "      <th>49514</th>\n",
       "      <td>5.0</td>\n",
       "      <td>5.0</td>\n",
       "      <td>5.0</td>\n",
       "      <td>5.0</td>\n",
       "      <td>5.0</td>\n",
       "      <td>4.0</td>\n",
       "      <td>4.0</td>\n",
       "      <td>5.0</td>\n",
       "      <td>2.0</td>\n",
       "      <td>3.0</td>\n",
       "      <td>...</td>\n",
       "      <td>4.0</td>\n",
       "      <td>4.0</td>\n",
       "      <td>4.0</td>\n",
       "      <td>3.0</td>\n",
       "      <td>4.0</td>\n",
       "      <td>4.0</td>\n",
       "      <td>4.0</td>\n",
       "      <td>4.0</td>\n",
       "      <td>4.0</td>\n",
       "      <td>4.0</td>\n",
       "    </tr>\n",
       "    <tr>\n",
       "      <th>49515</th>\n",
       "      <td>4.0</td>\n",
       "      <td>4.0</td>\n",
       "      <td>4.0</td>\n",
       "      <td>5.0</td>\n",
       "      <td>6.0</td>\n",
       "      <td>4.0</td>\n",
       "      <td>4.0</td>\n",
       "      <td>4.0</td>\n",
       "      <td>3.0</td>\n",
       "      <td>4.0</td>\n",
       "      <td>...</td>\n",
       "      <td>4.0</td>\n",
       "      <td>4.0</td>\n",
       "      <td>4.0</td>\n",
       "      <td>5.0</td>\n",
       "      <td>4.0</td>\n",
       "      <td>4.0</td>\n",
       "      <td>6.0</td>\n",
       "      <td>4.0</td>\n",
       "      <td>4.0</td>\n",
       "      <td>4.0</td>\n",
       "    </tr>\n",
       "    <tr>\n",
       "      <th>49516</th>\n",
       "      <td>5.0</td>\n",
       "      <td>3.0</td>\n",
       "      <td>4.0</td>\n",
       "      <td>4.0</td>\n",
       "      <td>5.0</td>\n",
       "      <td>5.0</td>\n",
       "      <td>4.0</td>\n",
       "      <td>5.0</td>\n",
       "      <td>5.0</td>\n",
       "      <td>2.0</td>\n",
       "      <td>...</td>\n",
       "      <td>3.0</td>\n",
       "      <td>4.0</td>\n",
       "      <td>5.0</td>\n",
       "      <td>4.0</td>\n",
       "      <td>4.0</td>\n",
       "      <td>4.0</td>\n",
       "      <td>4.0</td>\n",
       "      <td>4.0</td>\n",
       "      <td>4.0</td>\n",
       "      <td>4.0</td>\n",
       "    </tr>\n",
       "    <tr>\n",
       "      <th>49517</th>\n",
       "      <td>3.0</td>\n",
       "      <td>3.0</td>\n",
       "      <td>5.0</td>\n",
       "      <td>2.0</td>\n",
       "      <td>6.0</td>\n",
       "      <td>3.0</td>\n",
       "      <td>4.0</td>\n",
       "      <td>4.0</td>\n",
       "      <td>5.0</td>\n",
       "      <td>3.0</td>\n",
       "      <td>...</td>\n",
       "      <td>4.0</td>\n",
       "      <td>2.0</td>\n",
       "      <td>5.0</td>\n",
       "      <td>2.0</td>\n",
       "      <td>5.0</td>\n",
       "      <td>2.0</td>\n",
       "      <td>6.0</td>\n",
       "      <td>6.0</td>\n",
       "      <td>6.0</td>\n",
       "      <td>5.0</td>\n",
       "    </tr>\n",
       "    <tr>\n",
       "      <th>49518</th>\n",
       "      <td>5.0</td>\n",
       "      <td>3.0</td>\n",
       "      <td>5.0</td>\n",
       "      <td>4.0</td>\n",
       "      <td>2.0</td>\n",
       "      <td>4.0</td>\n",
       "      <td>6.0</td>\n",
       "      <td>5.0</td>\n",
       "      <td>5.0</td>\n",
       "      <td>1.0</td>\n",
       "      <td>...</td>\n",
       "      <td>5.0</td>\n",
       "      <td>4.0</td>\n",
       "      <td>6.0</td>\n",
       "      <td>6.0</td>\n",
       "      <td>6.0</td>\n",
       "      <td>5.0</td>\n",
       "      <td>5.0</td>\n",
       "      <td>6.0</td>\n",
       "      <td>4.0</td>\n",
       "      <td>4.0</td>\n",
       "    </tr>\n",
       "  </tbody>\n",
       "</table>\n",
       "<p>49519 rows × 21 columns</p>\n",
       "</div>"
      ],
      "text/plain": [
       "       ipcrtiv  imprich  ipeqopt  ipshabt  impsafe  impdiff  ipfrule  ipudrst  \\\n",
       "0          5.0      5.0      5.0      5.0      5.0      5.0      5.0      4.0   \n",
       "1          4.0      3.0      4.0      4.0      5.0      3.0      3.0      4.0   \n",
       "2          4.0      2.0      4.0      4.0      3.0      3.0      4.0      4.0   \n",
       "3          5.0      2.0      6.0      6.0      6.0      4.0      5.0      6.0   \n",
       "4          5.0      1.0      6.0      3.0      5.0      3.0      5.0      4.0   \n",
       "...        ...      ...      ...      ...      ...      ...      ...      ...   \n",
       "49514      5.0      5.0      5.0      5.0      5.0      4.0      4.0      5.0   \n",
       "49515      4.0      4.0      4.0      5.0      6.0      4.0      4.0      4.0   \n",
       "49516      5.0      3.0      4.0      4.0      5.0      5.0      4.0      5.0   \n",
       "49517      3.0      3.0      5.0      2.0      6.0      3.0      4.0      4.0   \n",
       "49518      5.0      3.0      5.0      4.0      2.0      4.0      6.0      5.0   \n",
       "\n",
       "       ipmodst  ipgdtim  ...  iphlppl  ipsuces  ipstrgv  ipadvnt  ipbhprp  \\\n",
       "0          6.0      5.0  ...      5.0      5.0      5.0      5.0      5.0   \n",
       "1          3.0      4.0  ...      4.0      3.0      4.0      2.0      5.0   \n",
       "2          4.0      3.0  ...      5.0      4.0      5.0      4.0      5.0   \n",
       "3          5.0      4.0  ...      6.0      6.0      6.0      1.0      6.0   \n",
       "4          4.0      5.0  ...      5.0      1.0      5.0      1.0      6.0   \n",
       "...        ...      ...  ...      ...      ...      ...      ...      ...   \n",
       "49514      2.0      3.0  ...      4.0      4.0      4.0      3.0      4.0   \n",
       "49515      3.0      4.0  ...      4.0      4.0      4.0      5.0      4.0   \n",
       "49516      5.0      2.0  ...      3.0      4.0      5.0      4.0      4.0   \n",
       "49517      5.0      3.0  ...      4.0      2.0      5.0      2.0      5.0   \n",
       "49518      5.0      1.0  ...      5.0      4.0      6.0      6.0      6.0   \n",
       "\n",
       "       iprspot  iplylfr  impenv  imptrad  impfun  \n",
       "0          5.0      5.0     4.0      5.0     4.0  \n",
       "1          4.0      5.0     4.0      4.0     4.0  \n",
       "2          4.0      4.0     4.0      4.0     4.0  \n",
       "3          6.0      6.0     6.0      5.0     4.0  \n",
       "4          4.0      5.0     6.0      6.0     4.0  \n",
       "...        ...      ...     ...      ...     ...  \n",
       "49514      4.0      4.0     4.0      4.0     4.0  \n",
       "49515      4.0      6.0     4.0      4.0     4.0  \n",
       "49516      4.0      4.0     4.0      4.0     4.0  \n",
       "49517      2.0      6.0     6.0      6.0     5.0  \n",
       "49518      5.0      5.0     6.0      4.0     4.0  \n",
       "\n",
       "[49519 rows x 21 columns]"
      ]
     },
     "execution_count": 10,
     "metadata": {},
     "output_type": "execute_result"
    }
   ],
   "source": [
    "df_final.iloc[:, df_final.columns.get_loc(\"ipcrtiv\"):df_final.columns.get_loc(\"impfun\")+1]"
   ]
  },
  {
   "cell_type": "markdown",
   "id": "221fc158",
   "metadata": {},
   "source": [
    "Similar to the human values data, data on immigrants is from 1 to 4 where 4 is strongly disagree. This is true for a few values prior to information on immigrants as well. These will be flipped too."
   ]
  },
  {
   "cell_type": "code",
   "execution_count": 11,
   "id": "913dcf48",
   "metadata": {
    "collapsed": true,
    "jupyter": {
     "outputs_hidden": true
    }
   },
   "outputs": [
    {
     "name": "stderr",
     "output_type": "stream",
     "text": [
      "<ipython-input-11-238609b507ca>:10: SettingWithCopyWarning: \n",
      "A value is trying to be set on a copy of a slice from a DataFrame.\n",
      "Try using .loc[row_indexer,col_indexer] = value instead\n",
      "\n",
      "See the caveats in the documentation: https://pandas.pydata.org/pandas-docs/stable/user_guide/indexing.html#returning-a-view-versus-a-copy\n",
      "  immigrants[col] = np.where(immigrants[col] == 1, 4,\n",
      "<ipython-input-11-238609b507ca>:10: SettingWithCopyWarning: \n",
      "A value is trying to be set on a copy of a slice from a DataFrame.\n",
      "Try using .loc[row_indexer,col_indexer] = value instead\n",
      "\n",
      "See the caveats in the documentation: https://pandas.pydata.org/pandas-docs/stable/user_guide/indexing.html#returning-a-view-versus-a-copy\n",
      "  immigrants[col] = np.where(immigrants[col] == 1, 4,\n",
      "<ipython-input-11-238609b507ca>:10: SettingWithCopyWarning: \n",
      "A value is trying to be set on a copy of a slice from a DataFrame.\n",
      "Try using .loc[row_indexer,col_indexer] = value instead\n",
      "\n",
      "See the caveats in the documentation: https://pandas.pydata.org/pandas-docs/stable/user_guide/indexing.html#returning-a-view-versus-a-copy\n",
      "  immigrants[col] = np.where(immigrants[col] == 1, 4,\n"
     ]
    }
   ],
   "source": [
    "# Changes human values data to make higher values mean more in line with that value\n",
    "start = df_final.columns.get_loc(\"imsmetn\")\n",
    "end = df_final.columns.get_loc(\"impcntr\") + 1\n",
    "\n",
    "columns = np.concatenate([np.arange(start, end)])\n",
    "\n",
    "immigrants = df_final.iloc[:, columns]\n",
    "\n",
    "for col in immigrants.columns:\n",
    "    immigrants[col] = np.where(immigrants[col] == 1, 4, \n",
    "                               np.where(immigrants[col] == 2, 3, \n",
    "                                        np.where(immigrants[col] == 3, 2, \n",
    "                                                 np.where(immigrants[col] == 4, 1, immigrants[col]))))"
   ]
  },
  {
   "cell_type": "code",
   "execution_count": 12,
   "id": "38d6d21b",
   "metadata": {
    "collapsed": true,
    "jupyter": {
     "outputs_hidden": true
    }
   },
   "outputs": [
    {
     "name": "stderr",
     "output_type": "stream",
     "text": [
      "C:\\Users\\Matt\\AppData\\Local\\Packages\\PythonSoftwareFoundation.Python.3.8_qbz5n2kfra8p0\\LocalCache\\local-packages\\Python38\\site-packages\\pandas\\core\\indexing.py:670: SettingWithCopyWarning: \n",
      "A value is trying to be set on a copy of a slice from a DataFrame\n",
      "\n",
      "See the caveats in the documentation: https://pandas.pydata.org/pandas-docs/stable/user_guide/indexing.html#returning-a-view-versus-a-copy\n",
      "  iloc._setitem_with_indexer(indexer, value)\n",
      "<ipython-input-12-81d50d42fd17>:1: SettingWithCopyWarning: \n",
      "A value is trying to be set on a copy of a slice from a DataFrame\n",
      "\n",
      "See the caveats in the documentation: https://pandas.pydata.org/pandas-docs/stable/user_guide/indexing.html#returning-a-view-versus-a-copy\n",
      "  df_final.iloc[:, df_final.columns.get_loc(\"imsmetn\"):df_final.columns.get_loc(\"impcntr\")+1] = immigrants\n"
     ]
    }
   ],
   "source": [
    "df_final.iloc[:, df_final.columns.get_loc(\"imsmetn\"):df_final.columns.get_loc(\"impcntr\")+1] = immigrants"
   ]
  },
  {
   "cell_type": "code",
   "execution_count": 13,
   "id": "78784c90",
   "metadata": {
    "collapsed": true,
    "jupyter": {
     "outputs_hidden": true
    }
   },
   "outputs": [
    {
     "name": "stderr",
     "output_type": "stream",
     "text": [
      "<ipython-input-13-ef1e89e66c66>:10: SettingWithCopyWarning: \n",
      "A value is trying to be set on a copy of a slice from a DataFrame.\n",
      "Try using .loc[row_indexer,col_indexer] = value instead\n",
      "\n",
      "See the caveats in the documentation: https://pandas.pydata.org/pandas-docs/stable/user_guide/indexing.html#returning-a-view-versus-a-copy\n",
      "  lgbt[col] = np.where(lgbt[col] == 1, 4,\n",
      "<ipython-input-13-ef1e89e66c66>:10: SettingWithCopyWarning: \n",
      "A value is trying to be set on a copy of a slice from a DataFrame.\n",
      "Try using .loc[row_indexer,col_indexer] = value instead\n",
      "\n",
      "See the caveats in the documentation: https://pandas.pydata.org/pandas-docs/stable/user_guide/indexing.html#returning-a-view-versus-a-copy\n",
      "  lgbt[col] = np.where(lgbt[col] == 1, 4,\n",
      "<ipython-input-13-ef1e89e66c66>:10: SettingWithCopyWarning: \n",
      "A value is trying to be set on a copy of a slice from a DataFrame.\n",
      "Try using .loc[row_indexer,col_indexer] = value instead\n",
      "\n",
      "See the caveats in the documentation: https://pandas.pydata.org/pandas-docs/stable/user_guide/indexing.html#returning-a-view-versus-a-copy\n",
      "  lgbt[col] = np.where(lgbt[col] == 1, 4,\n",
      "<ipython-input-13-ef1e89e66c66>:10: SettingWithCopyWarning: \n",
      "A value is trying to be set on a copy of a slice from a DataFrame.\n",
      "Try using .loc[row_indexer,col_indexer] = value instead\n",
      "\n",
      "See the caveats in the documentation: https://pandas.pydata.org/pandas-docs/stable/user_guide/indexing.html#returning-a-view-versus-a-copy\n",
      "  lgbt[col] = np.where(lgbt[col] == 1, 4,\n"
     ]
    }
   ],
   "source": [
    "# Changes human values data to make higher values mean more in line with that value\n",
    "start_1 = df_final.columns.get_loc(\"gincdif\")\n",
    "end_1 = df_final.columns.get_loc(\"hmsacld\") + 1\n",
    "start_2 = df_final.columns.get_loc(\"sofrdst\")\n",
    "end_2 = df_final.columns.get_loc(\"pcmpinj\") + 1\n",
    "\n",
    "columns = np.concatenate([np.arange(start_1, end_1), np.arange(start_2, end_2)])\n",
    "\n",
    "five = df_final.iloc[:, columns]\n",
    "\n",
    "for col in five.columns:\n",
    "    five[col] = np.where(five[col] == 1, 5, \n",
    "                               np.where(five[col] == 2, 4, \n",
    "                                        np.where(five[col] == 4, 2, \n",
    "                                                 np.where(five[col] == 5, 1, five[col]))))"
   ]
  },
  {
   "cell_type": "code",
   "execution_count": 14,
   "id": "48c3c090",
   "metadata": {
    "collapsed": true,
    "jupyter": {
     "outputs_hidden": true
    }
   },
   "outputs": [
    {
     "name": "stderr",
     "output_type": "stream",
     "text": [
      "C:\\Users\\Matt\\AppData\\Local\\Packages\\PythonSoftwareFoundation.Python.3.8_qbz5n2kfra8p0\\LocalCache\\local-packages\\Python38\\site-packages\\pandas\\core\\indexing.py:670: SettingWithCopyWarning: \n",
      "A value is trying to be set on a copy of a slice from a DataFrame\n",
      "\n",
      "See the caveats in the documentation: https://pandas.pydata.org/pandas-docs/stable/user_guide/indexing.html#returning-a-view-versus-a-copy\n",
      "  iloc._setitem_with_indexer(indexer, value)\n",
      "<ipython-input-14-9e4763e8ec15>:1: SettingWithCopyWarning: \n",
      "A value is trying to be set on a copy of a slice from a DataFrame\n",
      "\n",
      "See the caveats in the documentation: https://pandas.pydata.org/pandas-docs/stable/user_guide/indexing.html#returning-a-view-versus-a-copy\n",
      "  df_final.iloc[:, df_final.columns.get_loc(\"gincdif\"):df_final.columns.get_loc(\"hmsacld\")+1] = lgbt\n"
     ]
    }
   ],
   "source": [
    "df_final.iloc[:, df_final.columns.get_loc(\"gincdif\"):df_final.columns.get_loc(\"hmsacld\")+1] = five"
   ]
  },
  {
   "cell_type": "code",
   "execution_count": null,
   "id": "4b2110f9",
   "metadata": {},
   "outputs": [],
   "source": [
    "sofrwrk"
   ]
  },
  {
   "cell_type": "markdown",
   "id": "e8e2a74b",
   "metadata": {},
   "source": [
    "# Missing Values"
   ]
  },
  {
   "cell_type": "code",
   "execution_count": 15,
   "id": "56b5cd8c",
   "metadata": {},
   "outputs": [
    {
     "data": {
      "text/plain": [
       "<AxesSubplot:>"
      ]
     },
     "execution_count": 15,
     "metadata": {},
     "output_type": "execute_result"
    },
    {
     "data": {
      "image/png": "[encoded data removed]",
      "text/plain": [
       "<Figure size 1800x720 with 2 Axes>"
      ]
     },
     "metadata": {
      "needs_background": "light"
     },
     "output_type": "display_data"
    }
   ],
   "source": [
    "msno.matrix(df_final)"
   ]
  },
  {
   "cell_type": "markdown",
   "id": "8fe47b66",
   "metadata": {},
   "source": [
    "It appears there are certain columns with tons of systematically missing data. Based on the columns selected, these are the columns with country-specific values within the Politics theme. These will be removed."
   ]
  },
  {
   "cell_type": "code",
   "execution_count": 16,
   "id": "d1d84c41",
   "metadata": {
    "collapsed": true,
    "jupyter": {
     "outputs_hidden": true
    }
   },
   "outputs": [
    {
     "name": "stderr",
     "output_type": "stream",
     "text": [
      "C:\\Users\\Matt\\AppData\\Local\\Packages\\PythonSoftwareFoundation.Python.3.8_qbz5n2kfra8p0\\LocalCache\\local-packages\\Python38\\site-packages\\pandas\\core\\frame.py:4162: SettingWithCopyWarning: \n",
      "A value is trying to be set on a copy of a slice from a DataFrame\n",
      "\n",
      "See the caveats in the documentation: https://pandas.pydata.org/pandas-docs/stable/user_guide/indexing.html#returning-a-view-versus-a-copy\n",
      "  return super().drop(\n"
     ]
    }
   ],
   "source": [
    "# Removes country-specific columns\n",
    "drop_cols = np.concatenate([np.arange(19,51), np.arange(60,89)])\n",
    "df_final.drop(df_final.columns[drop_cols], axis = 1, inplace = True)"
   ]
  },
  {
   "cell_type": "code",
   "execution_count": 17,
   "id": "1d0b7105",
   "metadata": {},
   "outputs": [
    {
     "data": {
      "text/plain": [
       "<AxesSubplot:>"
      ]
     },
     "execution_count": 17,
     "metadata": {},
     "output_type": "execute_result"
    },
    {
     "data": {
      "image/png": "[encoded data removed]",
      "text/plain": [
       "<Figure size 1800x720 with 2 Axes>"
      ]
     },
     "metadata": {
      "needs_background": "light"
     },
     "output_type": "display_data"
    }
   ],
   "source": [
    "msno.matrix(df_final)"
   ]
  },
  {
   "cell_type": "markdown",
   "id": "836187d1",
   "metadata": {},
   "source": [
    "No other values appear to be systematically missing. Lets see how many missing values there are in the most sparse columns."
   ]
  },
  {
   "cell_type": "code",
   "execution_count": 18,
   "id": "6861d3a8",
   "metadata": {},
   "outputs": [
    {
     "data": {
      "text/plain": [
       "grsplet    46177\n",
       "netilet    45149\n",
       "ggchld     42141\n",
       "frlgrsp    37527\n",
       "ygcdbyr    34396\n",
       "grspnum    31248\n",
       "prtdgcl    28233\n",
       "frlneti    25732\n",
       "ycldbyr    25052\n",
       "grspfr     24564\n",
       "ngchld     23631\n",
       "netinum    16682\n",
       "maryr      16311\n",
       "fcldbrn    15303\n",
       "netustm    15080\n",
       "nbthcld    14919\n",
       "lvptnyr    10909\n",
       "occinfr     9394\n",
       "pdempyr     8769\n",
       "netifr      7942\n",
       "lrscale     7250\n",
       "infqbst     7179\n",
       "fvgabc      5508\n",
       "dtype: int64"
      ]
     },
     "execution_count": 18,
     "metadata": {},
     "output_type": "execute_result"
    }
   ],
   "source": [
    "# Columns with the most missing data\n",
    "df_final.isnull().sum().sort_values(ascending = False)[0:23]"
   ]
  },
  {
   "cell_type": "markdown",
   "id": "dd814485",
   "metadata": {},
   "source": [
    "Most missing columns seem to relate to people not having children or grandchildren, but all observations with missing values will need to be removed eventually. As such, all columns with more than ~10% (5000) of values missing will be dropped, this way we won't later systematically remove people without children."
   ]
  },
  {
   "cell_type": "code",
   "execution_count": 19,
   "id": "bc646384",
   "metadata": {},
   "outputs": [],
   "source": [
    "# Finds column names with many missing values\n",
    "drop_cols = np.array(df_final.isnull().sum().sort_values(ascending = False)[0:23].keys())"
   ]
  },
  {
   "cell_type": "code",
   "execution_count": 20,
   "id": "530a5f5d",
   "metadata": {},
   "outputs": [],
   "source": [
    "# Removes sparse columns\n",
    "df_final = df_final.drop(drop_cols, axis = 1)"
   ]
  },
  {
   "cell_type": "code",
   "execution_count": 21,
   "id": "138ee81b",
   "metadata": {},
   "outputs": [
    {
     "data": {
      "text/plain": [
       "97"
      ]
     },
     "execution_count": 21,
     "metadata": {},
     "output_type": "execute_result"
    }
   ],
   "source": [
    "# Check # of remaining columns\n",
    "len(df_final.columns)"
   ]
  },
  {
   "cell_type": "markdown",
   "id": "dc4ba7fe",
   "metadata": {},
   "source": [
    "# Saving Data"
   ]
  },
  {
   "cell_type": "code",
   "execution_count": 22,
   "id": "1fe93a60",
   "metadata": {},
   "outputs": [],
   "source": [
    "df_final.to_csv(\"../../data/processed/ESS2018_Cleaned.csv\")"
   ]
  },
  {
   "cell_type": "code",
   "execution_count": null,
   "id": "f3f0de70",
   "metadata": {},
   "outputs": [],
   "source": []
  }
 ],
 "metadata": {
  "kernelspec": {
   "display_name": "Python 3",
   "language": "python",
   "name": "python3"
  },
  "language_info": {
   "codemirror_mode": {
    "name": "ipython",
    "version": 3
   },
   "file_extension": ".py",
   "mimetype": "text/x-python",
   "name": "python",
   "nbconvert_exporter": "python",
   "pygments_lexer": "ipython3",
   "version": "3.8.10"
  }
 },
 "nbformat": 4,
 "nbformat_minor": 5
}
