{
 "cells": [
  {
   "cell_type": "code",
   "execution_count": 1,
   "id": "47f9ef05",
   "metadata": {},
   "outputs": [],
   "source": [
    "# Package Imports\n",
    "import pandas as pd\n",
    "import numpy as np\n",
    "import missingno as msno\n",
    "import seaborn as sns\n",
    "import altair as alt\n",
    "import matplotlib.pyplot as plt\n",
    "%matplotlib inline\n",
    "\n",
    "# Standardizing\n",
    "from sklearn.preprocessing import RobustScaler\n",
    "\n",
    "# PCA\n",
    "from sklearn.decomposition import PCA"
   ]
  },
  {
   "cell_type": "markdown",
   "id": "c3b29ed6",
   "metadata": {},
   "source": [
    "# Cleaning"
   ]
  },
  {
   "cell_type": "code",
   "execution_count": 2,
   "id": "ac84b6e4",
   "metadata": {},
   "outputs": [],
   "source": [
    "# Data import\n",
    "df = pd.read_stata(\"../data/raw/ESS9e03_1.dta\", convert_categoricals = False)"
   ]
  },
  {
   "cell_type": "markdown",
   "id": "54060e29",
   "metadata": {},
   "source": [
    "# Subsetting Columns\n",
    "\n",
    "All columns of the themes on Media & Social Trust, Politics, Human Values, Justice & Fairness, and Timing of Life will be selected. Features link political, social, and moral views to try to cluster the data.\n",
    "\n",
    "First array is for Media and Politics themes combined. Second array is for Human Values and Justice & Fairness. Third is for Timing of Life"
   ]
  },
  {
   "cell_type": "code",
   "execution_count": 3,
   "id": "7c12a607",
   "metadata": {},
   "outputs": [],
   "source": [
    "# Creates an array of column indicies to extract\n",
    "cols = np.concatenate([np.arange(6, 114), np.arange(497, 551), np.arange(200, 236)])\n",
    "\n",
    "# Selects only relevant columns, saves as a new object to preserve original data\n",
    "df_final = df.iloc[:, cols]"
   ]
  },
  {
   "cell_type": "code",
   "execution_count": 4,
   "id": "247be77f",
   "metadata": {},
   "outputs": [
    {
     "data": {
      "text/html": [
       "<div>\n",
       "<style scoped>\n",
       "    .dataframe tbody tr th:only-of-type {\n",
       "        vertical-align: middle;\n",
       "    }\n",
       "\n",
       "    .dataframe tbody tr th {\n",
       "        vertical-align: top;\n",
       "    }\n",
       "\n",
       "    .dataframe thead th {\n",
       "        text-align: right;\n",
       "    }\n",
       "</style>\n",
       "<table border=\"1\" class=\"dataframe\">\n",
       "  <thead>\n",
       "    <tr style=\"text-align: right;\">\n",
       "      <th></th>\n",
       "      <th>nwspol</th>\n",
       "      <th>netusoft</th>\n",
       "      <th>netustm</th>\n",
       "      <th>ppltrst</th>\n",
       "      <th>pplfair</th>\n",
       "      <th>pplhlp</th>\n",
       "      <th>polintr</th>\n",
       "      <th>psppsgva</th>\n",
       "      <th>actrolga</th>\n",
       "      <th>psppipla</th>\n",
       "      <th>...</th>\n",
       "      <th>tygrtr</th>\n",
       "      <th>tolvpnt</th>\n",
       "      <th>tochld</th>\n",
       "      <th>towkht</th>\n",
       "      <th>anvcld</th>\n",
       "      <th>alvgptn</th>\n",
       "      <th>acldnmr</th>\n",
       "      <th>aftjbyc</th>\n",
       "      <th>advcyc</th>\n",
       "      <th>plnftr</th>\n",
       "    </tr>\n",
       "  </thead>\n",
       "  <tbody>\n",
       "    <tr>\n",
       "      <th>0</th>\n",
       "      <td>60.0</td>\n",
       "      <td>5.0</td>\n",
       "      <td>180.0</td>\n",
       "      <td>2.0</td>\n",
       "      <td>2.0</td>\n",
       "      <td>2.0</td>\n",
       "      <td>3.0</td>\n",
       "      <td>3.0</td>\n",
       "      <td>2.0</td>\n",
       "      <td>2.0</td>\n",
       "      <td>...</td>\n",
       "      <td>111.0</td>\n",
       "      <td>30.0</td>\n",
       "      <td>45.0</td>\n",
       "      <td>0.0</td>\n",
       "      <td>4.0</td>\n",
       "      <td>4.0</td>\n",
       "      <td>4.0</td>\n",
       "      <td>4.0</td>\n",
       "      <td>4.0</td>\n",
       "      <td>2.0</td>\n",
       "    </tr>\n",
       "    <tr>\n",
       "      <th>1</th>\n",
       "      <td>10.0</td>\n",
       "      <td>5.0</td>\n",
       "      <td>20.0</td>\n",
       "      <td>7.0</td>\n",
       "      <td>8.0</td>\n",
       "      <td>7.0</td>\n",
       "      <td>2.0</td>\n",
       "      <td>3.0</td>\n",
       "      <td>2.0</td>\n",
       "      <td>3.0</td>\n",
       "      <td>...</td>\n",
       "      <td>55.0</td>\n",
       "      <td>30.0</td>\n",
       "      <td>45.0</td>\n",
       "      <td>60.0</td>\n",
       "      <td>4.0</td>\n",
       "      <td>4.0</td>\n",
       "      <td>4.0</td>\n",
       "      <td>2.0</td>\n",
       "      <td>2.0</td>\n",
       "      <td>4.0</td>\n",
       "    </tr>\n",
       "    <tr>\n",
       "      <th>2</th>\n",
       "      <td>60.0</td>\n",
       "      <td>4.0</td>\n",
       "      <td>180.0</td>\n",
       "      <td>5.0</td>\n",
       "      <td>7.0</td>\n",
       "      <td>7.0</td>\n",
       "      <td>4.0</td>\n",
       "      <td>2.0</td>\n",
       "      <td>1.0</td>\n",
       "      <td>3.0</td>\n",
       "      <td>...</td>\n",
       "      <td>0.0</td>\n",
       "      <td>0.0</td>\n",
       "      <td>55.0</td>\n",
       "      <td>57.0</td>\n",
       "      <td>3.0</td>\n",
       "      <td>3.0</td>\n",
       "      <td>3.0</td>\n",
       "      <td>3.0</td>\n",
       "      <td>3.0</td>\n",
       "      <td>2.0</td>\n",
       "    </tr>\n",
       "    <tr>\n",
       "      <th>3</th>\n",
       "      <td>45.0</td>\n",
       "      <td>5.0</td>\n",
       "      <td>120.0</td>\n",
       "      <td>3.0</td>\n",
       "      <td>9.0</td>\n",
       "      <td>5.0</td>\n",
       "      <td>3.0</td>\n",
       "      <td>2.0</td>\n",
       "      <td>2.0</td>\n",
       "      <td>3.0</td>\n",
       "      <td>...</td>\n",
       "      <td>45.0</td>\n",
       "      <td>30.0</td>\n",
       "      <td>65.0</td>\n",
       "      <td>NaN</td>\n",
       "      <td>3.0</td>\n",
       "      <td>4.0</td>\n",
       "      <td>4.0</td>\n",
       "      <td>3.0</td>\n",
       "      <td>4.0</td>\n",
       "      <td>1.0</td>\n",
       "    </tr>\n",
       "    <tr>\n",
       "      <th>4</th>\n",
       "      <td>30.0</td>\n",
       "      <td>1.0</td>\n",
       "      <td>NaN</td>\n",
       "      <td>5.0</td>\n",
       "      <td>8.0</td>\n",
       "      <td>4.0</td>\n",
       "      <td>2.0</td>\n",
       "      <td>1.0</td>\n",
       "      <td>1.0</td>\n",
       "      <td>1.0</td>\n",
       "      <td>...</td>\n",
       "      <td>20.0</td>\n",
       "      <td>25.0</td>\n",
       "      <td>40.0</td>\n",
       "      <td>60.0</td>\n",
       "      <td>2.0</td>\n",
       "      <td>2.0</td>\n",
       "      <td>2.0</td>\n",
       "      <td>2.0</td>\n",
       "      <td>2.0</td>\n",
       "      <td>7.0</td>\n",
       "    </tr>\n",
       "  </tbody>\n",
       "</table>\n",
       "<p>5 rows × 198 columns</p>\n",
       "</div>"
      ],
      "text/plain": [
       "   nwspol  netusoft  netustm  ppltrst  pplfair  pplhlp  polintr  psppsgva  \\\n",
       "0    60.0       5.0    180.0      2.0      2.0     2.0      3.0       3.0   \n",
       "1    10.0       5.0     20.0      7.0      8.0     7.0      2.0       3.0   \n",
       "2    60.0       4.0    180.0      5.0      7.0     7.0      4.0       2.0   \n",
       "3    45.0       5.0    120.0      3.0      9.0     5.0      3.0       2.0   \n",
       "4    30.0       1.0      NaN      5.0      8.0     4.0      2.0       1.0   \n",
       "\n",
       "   actrolga  psppipla  ...  tygrtr  tolvpnt  tochld  towkht  anvcld  alvgptn  \\\n",
       "0       2.0       2.0  ...   111.0     30.0    45.0     0.0     4.0      4.0   \n",
       "1       2.0       3.0  ...    55.0     30.0    45.0    60.0     4.0      4.0   \n",
       "2       1.0       3.0  ...     0.0      0.0    55.0    57.0     3.0      3.0   \n",
       "3       2.0       3.0  ...    45.0     30.0    65.0     NaN     3.0      4.0   \n",
       "4       1.0       1.0  ...    20.0     25.0    40.0    60.0     2.0      2.0   \n",
       "\n",
       "   acldnmr  aftjbyc  advcyc  plnftr  \n",
       "0      4.0      4.0     4.0     2.0  \n",
       "1      4.0      2.0     2.0     4.0  \n",
       "2      3.0      3.0     3.0     2.0  \n",
       "3      4.0      3.0     4.0     1.0  \n",
       "4      2.0      2.0     2.0     7.0  \n",
       "\n",
       "[5 rows x 198 columns]"
      ]
     },
     "execution_count": 4,
     "metadata": {},
     "output_type": "execute_result"
    }
   ],
   "source": [
    "df_final.head()"
   ]
  },
  {
   "cell_type": "markdown",
   "id": "9b203ad6",
   "metadata": {},
   "source": [
    "## Problematic Values\n",
    "\n",
    "Some columns contain responses which are difficult to extract/replace due to the very nature of these questions. In essence, they mix quantitative and qualitative responses. As such, these columns are removed in their entirety as opposed to attempting to fix them."
   ]
  },
  {
   "cell_type": "markdown",
   "id": "aa467f31",
   "metadata": {},
   "source": [
    "Checking for Refusal, Don't Know, and No Answer values which would show as some number of 7's, 8's, or 9's. For example, 77, 88, or 99 for a scale of 0-10"
   ]
  },
  {
   "cell_type": "code",
   "execution_count": 5,
   "id": "16bef587",
   "metadata": {},
   "outputs": [
    {
     "data": {
      "text/html": [
       "<div>\n",
       "<style scoped>\n",
       "    .dataframe tbody tr th:only-of-type {\n",
       "        vertical-align: middle;\n",
       "    }\n",
       "\n",
       "    .dataframe tbody tr th {\n",
       "        vertical-align: top;\n",
       "    }\n",
       "\n",
       "    .dataframe thead th {\n",
       "        text-align: right;\n",
       "    }\n",
       "</style>\n",
       "<table border=\"1\" class=\"dataframe\">\n",
       "  <thead>\n",
       "    <tr style=\"text-align: right;\">\n",
       "      <th></th>\n",
       "      <th>nwspol</th>\n",
       "      <th>polintr</th>\n",
       "      <th>ipcrtiv</th>\n",
       "      <th>frprtpl</th>\n",
       "      <th>tygrtr</th>\n",
       "    </tr>\n",
       "  </thead>\n",
       "  <tbody>\n",
       "    <tr>\n",
       "      <th>count</th>\n",
       "      <td>48947.000000</td>\n",
       "      <td>49421.000000</td>\n",
       "      <td>48365.000000</td>\n",
       "      <td>46833.000000</td>\n",
       "      <td>45066.000000</td>\n",
       "    </tr>\n",
       "    <tr>\n",
       "      <th>mean</th>\n",
       "      <td>85.477394</td>\n",
       "      <td>2.661743</td>\n",
       "      <td>2.691988</td>\n",
       "      <td>2.719300</td>\n",
       "      <td>49.388808</td>\n",
       "    </tr>\n",
       "    <tr>\n",
       "      <th>std</th>\n",
       "      <td>137.591927</td>\n",
       "      <td>0.924052</td>\n",
       "      <td>1.268780</td>\n",
       "      <td>1.050992</td>\n",
       "      <td>19.650299</td>\n",
       "    </tr>\n",
       "    <tr>\n",
       "      <th>min</th>\n",
       "      <td>0.000000</td>\n",
       "      <td>1.000000</td>\n",
       "      <td>1.000000</td>\n",
       "      <td>1.000000</td>\n",
       "      <td>0.000000</td>\n",
       "    </tr>\n",
       "    <tr>\n",
       "      <th>25%</th>\n",
       "      <td>30.000000</td>\n",
       "      <td>2.000000</td>\n",
       "      <td>2.000000</td>\n",
       "      <td>2.000000</td>\n",
       "      <td>45.000000</td>\n",
       "    </tr>\n",
       "    <tr>\n",
       "      <th>50%</th>\n",
       "      <td>60.000000</td>\n",
       "      <td>3.000000</td>\n",
       "      <td>2.000000</td>\n",
       "      <td>3.000000</td>\n",
       "      <td>50.000000</td>\n",
       "    </tr>\n",
       "    <tr>\n",
       "      <th>75%</th>\n",
       "      <td>90.000000</td>\n",
       "      <td>3.000000</td>\n",
       "      <td>3.000000</td>\n",
       "      <td>3.000000</td>\n",
       "      <td>60.000000</td>\n",
       "    </tr>\n",
       "    <tr>\n",
       "      <th>max</th>\n",
       "      <td>1440.000000</td>\n",
       "      <td>4.000000</td>\n",
       "      <td>6.000000</td>\n",
       "      <td>5.000000</td>\n",
       "      <td>222.000000</td>\n",
       "    </tr>\n",
       "  </tbody>\n",
       "</table>\n",
       "</div>"
      ],
      "text/plain": [
       "             nwspol       polintr       ipcrtiv       frprtpl        tygrtr\n",
       "count  48947.000000  49421.000000  48365.000000  46833.000000  45066.000000\n",
       "mean      85.477394      2.661743      2.691988      2.719300     49.388808\n",
       "std      137.591927      0.924052      1.268780      1.050992     19.650299\n",
       "min        0.000000      1.000000      1.000000      1.000000      0.000000\n",
       "25%       30.000000      2.000000      2.000000      2.000000     45.000000\n",
       "50%       60.000000      3.000000      2.000000      3.000000     50.000000\n",
       "75%       90.000000      3.000000      3.000000      3.000000     60.000000\n",
       "max     1440.000000      4.000000      6.000000      5.000000    222.000000"
      ]
     },
     "execution_count": 5,
     "metadata": {},
     "output_type": "execute_result"
    }
   ],
   "source": [
    "# Check for non-response values in each of the themes\n",
    "df_final[[\"nwspol\", \"polintr\", \"ipcrtiv\", \"frprtpl\", \"tygrtr\"]].describe()"
   ]
  },
  {
   "cell_type": "markdown",
   "id": "d926fe3b",
   "metadata": {},
   "source": [
    "There do not appear to be non-response values, but there are issues with outliers and mixed categorical/numerical variables. \n",
    "\n",
    "**Media & Social Trust**\n",
    "\n",
    "Some values here are extreme outliers, such as 1440 minutes of news per week, whereas the mean is 60. These values will make StandardScaler much less effective and may need to be scaled using RobustScaler.\n",
    "\n",
    "**Timing of Life**\n",
    "\n",
    "`tygrtr` is a variable for the \"appropriate age to retire permanently\". Values of 000 mean \"never too young\", 111 mean \"should never retire permanently\", and 222 mean \"should never be in paid work\". This while there are values representing actual ages. This makes these variables mixed categorical/numerical. \n",
    "\n",
    "To fix this, many columns from the split ballot for Timing of Life will be removed. This goes from `admge` to `towkht`. `lvpntyr` will also be removed as it contains years of \"0000\" and \"1111\" for certain categorical responses."
   ]
  },
  {
   "cell_type": "code",
   "execution_count": 6,
   "id": "d70befbc",
   "metadata": {},
   "outputs": [],
   "source": [
    "# Finding locations\n",
    "start = df_final.columns.get_loc(\"admge\")\n",
    "end = df_final.columns.get_loc(\"towkht\") + 1\n",
    "lvpntyr = df_final.columns.get_loc(\"lvpntyr\")"
   ]
  },
  {
   "cell_type": "code",
   "execution_count": 7,
   "id": "beab4a69",
   "metadata": {
    "collapsed": true,
    "jupyter": {
     "outputs_hidden": true
    }
   },
   "outputs": [
    {
     "name": "stderr",
     "output_type": "stream",
     "text": [
      "C:\\Users\\Matt\\AppData\\Local\\Packages\\PythonSoftwareFoundation.Python.3.8_qbz5n2kfra8p0\\LocalCache\\local-packages\\Python38\\site-packages\\pandas\\core\\frame.py:4162: SettingWithCopyWarning: \n",
      "A value is trying to be set on a copy of a slice from a DataFrame\n",
      "\n",
      "See the caveats in the documentation: https://pandas.pydata.org/pandas-docs/stable/user_guide/indexing.html#returning-a-view-versus-a-copy\n",
      "  return super().drop(\n"
     ]
    }
   ],
   "source": [
    "# Removes problem questions\n",
    "drop_cols = np.concatenate([np.arange(start,end), [lvpntyr]])\n",
    "df_final.drop(df_final.columns[drop_cols], axis = 1, inplace = True)"
   ]
  },
  {
   "cell_type": "markdown",
   "id": "ce283365",
   "metadata": {},
   "source": [
    "## Reordering Responses\n",
    "\n",
    "Some responses have the lowest values as the highest agreement/most positive view. These are flipped for interpretability."
   ]
  },
  {
   "cell_type": "markdown",
   "id": "74551fe0",
   "metadata": {},
   "source": [
    "The human values variables are ordered from 1-6, with 1 being most like oneself. This is counter to the rest of the data and will therefore be flipped."
   ]
  },
  {
   "cell_type": "code",
   "execution_count": 8,
   "id": "7a0fbebf",
   "metadata": {
    "collapsed": true,
    "jupyter": {
     "outputs_hidden": true
    }
   },
   "outputs": [
    {
     "name": "stderr",
     "output_type": "stream",
     "text": [
      "<ipython-input-8-ed516b794a95>:5: SettingWithCopyWarning: \n",
      "A value is trying to be set on a copy of a slice from a DataFrame.\n",
      "Try using .loc[row_indexer,col_indexer] = value instead\n",
      "\n",
      "See the caveats in the documentation: https://pandas.pydata.org/pandas-docs/stable/user_guide/indexing.html#returning-a-view-versus-a-copy\n",
      "  human_vals[col] = np.where(human_vals[col] == 1, 6,\n",
      "<ipython-input-8-ed516b794a95>:5: SettingWithCopyWarning: \n",
      "A value is trying to be set on a copy of a slice from a DataFrame.\n",
      "Try using .loc[row_indexer,col_indexer] = value instead\n",
      "\n",
      "See the caveats in the documentation: https://pandas.pydata.org/pandas-docs/stable/user_guide/indexing.html#returning-a-view-versus-a-copy\n",
      "  human_vals[col] = np.where(human_vals[col] == 1, 6,\n",
      "<ipython-input-8-ed516b794a95>:5: SettingWithCopyWarning: \n",
      "A value is trying to be set on a copy of a slice from a DataFrame.\n",
      "Try using .loc[row_indexer,col_indexer] = value instead\n",
      "\n",
      "See the caveats in the documentation: https://pandas.pydata.org/pandas-docs/stable/user_guide/indexing.html#returning-a-view-versus-a-copy\n",
      "  human_vals[col] = np.where(human_vals[col] == 1, 6,\n",
      "<ipython-input-8-ed516b794a95>:5: SettingWithCopyWarning: \n",
      "A value is trying to be set on a copy of a slice from a DataFrame.\n",
      "Try using .loc[row_indexer,col_indexer] = value instead\n",
      "\n",
      "See the caveats in the documentation: https://pandas.pydata.org/pandas-docs/stable/user_guide/indexing.html#returning-a-view-versus-a-copy\n",
      "  human_vals[col] = np.where(human_vals[col] == 1, 6,\n",
      "<ipython-input-8-ed516b794a95>:5: SettingWithCopyWarning: \n",
      "A value is trying to be set on a copy of a slice from a DataFrame.\n",
      "Try using .loc[row_indexer,col_indexer] = value instead\n",
      "\n",
      "See the caveats in the documentation: https://pandas.pydata.org/pandas-docs/stable/user_guide/indexing.html#returning-a-view-versus-a-copy\n",
      "  human_vals[col] = np.where(human_vals[col] == 1, 6,\n",
      "<ipython-input-8-ed516b794a95>:5: SettingWithCopyWarning: \n",
      "A value is trying to be set on a copy of a slice from a DataFrame.\n",
      "Try using .loc[row_indexer,col_indexer] = value instead\n",
      "\n",
      "See the caveats in the documentation: https://pandas.pydata.org/pandas-docs/stable/user_guide/indexing.html#returning-a-view-versus-a-copy\n",
      "  human_vals[col] = np.where(human_vals[col] == 1, 6,\n",
      "<ipython-input-8-ed516b794a95>:5: SettingWithCopyWarning: \n",
      "A value is trying to be set on a copy of a slice from a DataFrame.\n",
      "Try using .loc[row_indexer,col_indexer] = value instead\n",
      "\n",
      "See the caveats in the documentation: https://pandas.pydata.org/pandas-docs/stable/user_guide/indexing.html#returning-a-view-versus-a-copy\n",
      "  human_vals[col] = np.where(human_vals[col] == 1, 6,\n",
      "<ipython-input-8-ed516b794a95>:5: SettingWithCopyWarning: \n",
      "A value is trying to be set on a copy of a slice from a DataFrame.\n",
      "Try using .loc[row_indexer,col_indexer] = value instead\n",
      "\n",
      "See the caveats in the documentation: https://pandas.pydata.org/pandas-docs/stable/user_guide/indexing.html#returning-a-view-versus-a-copy\n",
      "  human_vals[col] = np.where(human_vals[col] == 1, 6,\n",
      "<ipython-input-8-ed516b794a95>:5: SettingWithCopyWarning: \n",
      "A value is trying to be set on a copy of a slice from a DataFrame.\n",
      "Try using .loc[row_indexer,col_indexer] = value instead\n",
      "\n",
      "See the caveats in the documentation: https://pandas.pydata.org/pandas-docs/stable/user_guide/indexing.html#returning-a-view-versus-a-copy\n",
      "  human_vals[col] = np.where(human_vals[col] == 1, 6,\n",
      "<ipython-input-8-ed516b794a95>:5: SettingWithCopyWarning: \n",
      "A value is trying to be set on a copy of a slice from a DataFrame.\n",
      "Try using .loc[row_indexer,col_indexer] = value instead\n",
      "\n",
      "See the caveats in the documentation: https://pandas.pydata.org/pandas-docs/stable/user_guide/indexing.html#returning-a-view-versus-a-copy\n",
      "  human_vals[col] = np.where(human_vals[col] == 1, 6,\n",
      "<ipython-input-8-ed516b794a95>:5: SettingWithCopyWarning: \n",
      "A value is trying to be set on a copy of a slice from a DataFrame.\n",
      "Try using .loc[row_indexer,col_indexer] = value instead\n",
      "\n",
      "See the caveats in the documentation: https://pandas.pydata.org/pandas-docs/stable/user_guide/indexing.html#returning-a-view-versus-a-copy\n",
      "  human_vals[col] = np.where(human_vals[col] == 1, 6,\n",
      "<ipython-input-8-ed516b794a95>:5: SettingWithCopyWarning: \n",
      "A value is trying to be set on a copy of a slice from a DataFrame.\n",
      "Try using .loc[row_indexer,col_indexer] = value instead\n",
      "\n",
      "See the caveats in the documentation: https://pandas.pydata.org/pandas-docs/stable/user_guide/indexing.html#returning-a-view-versus-a-copy\n",
      "  human_vals[col] = np.where(human_vals[col] == 1, 6,\n",
      "<ipython-input-8-ed516b794a95>:5: SettingWithCopyWarning: \n",
      "A value is trying to be set on a copy of a slice from a DataFrame.\n",
      "Try using .loc[row_indexer,col_indexer] = value instead\n",
      "\n",
      "See the caveats in the documentation: https://pandas.pydata.org/pandas-docs/stable/user_guide/indexing.html#returning-a-view-versus-a-copy\n",
      "  human_vals[col] = np.where(human_vals[col] == 1, 6,\n",
      "<ipython-input-8-ed516b794a95>:5: SettingWithCopyWarning: \n",
      "A value is trying to be set on a copy of a slice from a DataFrame.\n",
      "Try using .loc[row_indexer,col_indexer] = value instead\n",
      "\n",
      "See the caveats in the documentation: https://pandas.pydata.org/pandas-docs/stable/user_guide/indexing.html#returning-a-view-versus-a-copy\n",
      "  human_vals[col] = np.where(human_vals[col] == 1, 6,\n",
      "<ipython-input-8-ed516b794a95>:5: SettingWithCopyWarning: \n",
      "A value is trying to be set on a copy of a slice from a DataFrame.\n",
      "Try using .loc[row_indexer,col_indexer] = value instead\n",
      "\n",
      "See the caveats in the documentation: https://pandas.pydata.org/pandas-docs/stable/user_guide/indexing.html#returning-a-view-versus-a-copy\n",
      "  human_vals[col] = np.where(human_vals[col] == 1, 6,\n",
      "<ipython-input-8-ed516b794a95>:5: SettingWithCopyWarning: \n",
      "A value is trying to be set on a copy of a slice from a DataFrame.\n",
      "Try using .loc[row_indexer,col_indexer] = value instead\n",
      "\n",
      "See the caveats in the documentation: https://pandas.pydata.org/pandas-docs/stable/user_guide/indexing.html#returning-a-view-versus-a-copy\n",
      "  human_vals[col] = np.where(human_vals[col] == 1, 6,\n",
      "<ipython-input-8-ed516b794a95>:5: SettingWithCopyWarning: \n",
      "A value is trying to be set on a copy of a slice from a DataFrame.\n",
      "Try using .loc[row_indexer,col_indexer] = value instead\n",
      "\n",
      "See the caveats in the documentation: https://pandas.pydata.org/pandas-docs/stable/user_guide/indexing.html#returning-a-view-versus-a-copy\n",
      "  human_vals[col] = np.where(human_vals[col] == 1, 6,\n",
      "<ipython-input-8-ed516b794a95>:5: SettingWithCopyWarning: \n",
      "A value is trying to be set on a copy of a slice from a DataFrame.\n",
      "Try using .loc[row_indexer,col_indexer] = value instead\n",
      "\n",
      "See the caveats in the documentation: https://pandas.pydata.org/pandas-docs/stable/user_guide/indexing.html#returning-a-view-versus-a-copy\n",
      "  human_vals[col] = np.where(human_vals[col] == 1, 6,\n",
      "<ipython-input-8-ed516b794a95>:5: SettingWithCopyWarning: \n",
      "A value is trying to be set on a copy of a slice from a DataFrame.\n",
      "Try using .loc[row_indexer,col_indexer] = value instead\n",
      "\n",
      "See the caveats in the documentation: https://pandas.pydata.org/pandas-docs/stable/user_guide/indexing.html#returning-a-view-versus-a-copy\n",
      "  human_vals[col] = np.where(human_vals[col] == 1, 6,\n",
      "<ipython-input-8-ed516b794a95>:5: SettingWithCopyWarning: \n",
      "A value is trying to be set on a copy of a slice from a DataFrame.\n",
      "Try using .loc[row_indexer,col_indexer] = value instead\n",
      "\n",
      "See the caveats in the documentation: https://pandas.pydata.org/pandas-docs/stable/user_guide/indexing.html#returning-a-view-versus-a-copy\n",
      "  human_vals[col] = np.where(human_vals[col] == 1, 6,\n",
      "<ipython-input-8-ed516b794a95>:5: SettingWithCopyWarning: \n",
      "A value is trying to be set on a copy of a slice from a DataFrame.\n",
      "Try using .loc[row_indexer,col_indexer] = value instead\n",
      "\n",
      "See the caveats in the documentation: https://pandas.pydata.org/pandas-docs/stable/user_guide/indexing.html#returning-a-view-versus-a-copy\n",
      "  human_vals[col] = np.where(human_vals[col] == 1, 6,\n"
     ]
    }
   ],
   "source": [
    "# Changes human values data to make higher values mean more in line with that value\n",
    "human_vals = df_final.iloc[:, df_final.columns.get_loc(\"ipcrtiv\"):df_final.columns.get_loc(\"impfun\")+1]\n",
    "\n",
    "for col in human_vals.columns:\n",
    "    human_vals[col] = np.where(human_vals[col] == 1, 6, \n",
    "                               np.where(human_vals[col] == 2, 5, \n",
    "                                        np.where(human_vals[col] == 3, 4, \n",
    "                                                 np.where(human_vals[col] == 4, 3, \n",
    "                                                          np.where(human_vals[col] == 5, 2, \n",
    "                                                                   np.where(human_vals[col] == 6, 1, human_vals[col]))))))"
   ]
  },
  {
   "cell_type": "code",
   "execution_count": 9,
   "id": "dd7ccea3",
   "metadata": {
    "collapsed": true,
    "jupyter": {
     "outputs_hidden": true
    }
   },
   "outputs": [
    {
     "name": "stderr",
     "output_type": "stream",
     "text": [
      "C:\\Users\\Matt\\AppData\\Local\\Packages\\PythonSoftwareFoundation.Python.3.8_qbz5n2kfra8p0\\LocalCache\\local-packages\\Python38\\site-packages\\pandas\\core\\indexing.py:670: SettingWithCopyWarning: \n",
      "A value is trying to be set on a copy of a slice from a DataFrame\n",
      "\n",
      "See the caveats in the documentation: https://pandas.pydata.org/pandas-docs/stable/user_guide/indexing.html#returning-a-view-versus-a-copy\n",
      "  iloc._setitem_with_indexer(indexer, value)\n",
      "<ipython-input-9-f3c6368aad2f>:2: SettingWithCopyWarning: \n",
      "A value is trying to be set on a copy of a slice from a DataFrame\n",
      "\n",
      "See the caveats in the documentation: https://pandas.pydata.org/pandas-docs/stable/user_guide/indexing.html#returning-a-view-versus-a-copy\n",
      "  df_final.iloc[:, df_final.columns.get_loc(\"ipcrtiv\"):df_final.columns.get_loc(\"impfun\")+1] = human_vals\n"
     ]
    }
   ],
   "source": [
    "# Replaces with reordered features\n",
    "df_final.iloc[:, df_final.columns.get_loc(\"ipcrtiv\"):df_final.columns.get_loc(\"impfun\")+1] = human_vals"
   ]
  },
  {
   "cell_type": "markdown",
   "id": "3958ac13",
   "metadata": {},
   "source": [
    "Similar to the human values data, data on immigrants is from 1 to 4 where 4 is strongly disagree. This is true for a few values prior to information on immigrants as well. These will be flipped too."
   ]
  },
  {
   "cell_type": "code",
   "execution_count": 10,
   "id": "be2ae373",
   "metadata": {
    "collapsed": true,
    "jupyter": {
     "outputs_hidden": true
    }
   },
   "outputs": [
    {
     "name": "stderr",
     "output_type": "stream",
     "text": [
      "<ipython-input-10-238609b507ca>:10: SettingWithCopyWarning: \n",
      "A value is trying to be set on a copy of a slice from a DataFrame.\n",
      "Try using .loc[row_indexer,col_indexer] = value instead\n",
      "\n",
      "See the caveats in the documentation: https://pandas.pydata.org/pandas-docs/stable/user_guide/indexing.html#returning-a-view-versus-a-copy\n",
      "  immigrants[col] = np.where(immigrants[col] == 1, 4,\n",
      "<ipython-input-10-238609b507ca>:10: SettingWithCopyWarning: \n",
      "A value is trying to be set on a copy of a slice from a DataFrame.\n",
      "Try using .loc[row_indexer,col_indexer] = value instead\n",
      "\n",
      "See the caveats in the documentation: https://pandas.pydata.org/pandas-docs/stable/user_guide/indexing.html#returning-a-view-versus-a-copy\n",
      "  immigrants[col] = np.where(immigrants[col] == 1, 4,\n",
      "<ipython-input-10-238609b507ca>:10: SettingWithCopyWarning: \n",
      "A value is trying to be set on a copy of a slice from a DataFrame.\n",
      "Try using .loc[row_indexer,col_indexer] = value instead\n",
      "\n",
      "See the caveats in the documentation: https://pandas.pydata.org/pandas-docs/stable/user_guide/indexing.html#returning-a-view-versus-a-copy\n",
      "  immigrants[col] = np.where(immigrants[col] == 1, 4,\n"
     ]
    }
   ],
   "source": [
    "# Changes human values data to make higher values mean more in line with that value\n",
    "start = df_final.columns.get_loc(\"imsmetn\")\n",
    "end = df_final.columns.get_loc(\"impcntr\") + 1\n",
    "\n",
    "columns = np.concatenate([np.arange(start, end)])\n",
    "\n",
    "immigrants = df_final.iloc[:, columns]\n",
    "\n",
    "for col in immigrants.columns:\n",
    "    immigrants[col] = np.where(immigrants[col] == 1, 4, \n",
    "                               np.where(immigrants[col] == 2, 3, \n",
    "                                        np.where(immigrants[col] == 3, 2, \n",
    "                                                 np.where(immigrants[col] == 4, 1, immigrants[col]))))"
   ]
  },
  {
   "cell_type": "code",
   "execution_count": 11,
   "id": "7c7b6384",
   "metadata": {
    "collapsed": true,
    "jupyter": {
     "outputs_hidden": true
    }
   },
   "outputs": [
    {
     "name": "stderr",
     "output_type": "stream",
     "text": [
      "C:\\Users\\Matt\\AppData\\Local\\Packages\\PythonSoftwareFoundation.Python.3.8_qbz5n2kfra8p0\\LocalCache\\local-packages\\Python38\\site-packages\\pandas\\core\\indexing.py:670: SettingWithCopyWarning: \n",
      "A value is trying to be set on a copy of a slice from a DataFrame\n",
      "\n",
      "See the caveats in the documentation: https://pandas.pydata.org/pandas-docs/stable/user_guide/indexing.html#returning-a-view-versus-a-copy\n",
      "  iloc._setitem_with_indexer(indexer, value)\n",
      "<ipython-input-11-3a2f4b021ccf>:2: SettingWithCopyWarning: \n",
      "A value is trying to be set on a copy of a slice from a DataFrame\n",
      "\n",
      "See the caveats in the documentation: https://pandas.pydata.org/pandas-docs/stable/user_guide/indexing.html#returning-a-view-versus-a-copy\n",
      "  df_final.iloc[:, df_final.columns.get_loc(\"imsmetn\"):df_final.columns.get_loc(\"impcntr\")+1] = immigrants\n"
     ]
    }
   ],
   "source": [
    "# Replaces with reordered features\n",
    "df_final.iloc[:, df_final.columns.get_loc(\"imsmetn\"):df_final.columns.get_loc(\"impcntr\")+1] = immigrants"
   ]
  },
  {
   "cell_type": "code",
   "execution_count": 12,
   "id": "75e49916",
   "metadata": {
    "collapsed": true,
    "jupyter": {
     "outputs_hidden": true
    }
   },
   "outputs": [
    {
     "name": "stderr",
     "output_type": "stream",
     "text": [
      "<ipython-input-12-3396cf789286>:12: SettingWithCopyWarning: \n",
      "A value is trying to be set on a copy of a slice from a DataFrame.\n",
      "Try using .loc[row_indexer,col_indexer] = value instead\n",
      "\n",
      "See the caveats in the documentation: https://pandas.pydata.org/pandas-docs/stable/user_guide/indexing.html#returning-a-view-versus-a-copy\n",
      "  five[col] = np.where(five[col] == 1, 5,\n",
      "<ipython-input-12-3396cf789286>:12: SettingWithCopyWarning: \n",
      "A value is trying to be set on a copy of a slice from a DataFrame.\n",
      "Try using .loc[row_indexer,col_indexer] = value instead\n",
      "\n",
      "See the caveats in the documentation: https://pandas.pydata.org/pandas-docs/stable/user_guide/indexing.html#returning-a-view-versus-a-copy\n",
      "  five[col] = np.where(five[col] == 1, 5,\n",
      "<ipython-input-12-3396cf789286>:12: SettingWithCopyWarning: \n",
      "A value is trying to be set on a copy of a slice from a DataFrame.\n",
      "Try using .loc[row_indexer,col_indexer] = value instead\n",
      "\n",
      "See the caveats in the documentation: https://pandas.pydata.org/pandas-docs/stable/user_guide/indexing.html#returning-a-view-versus-a-copy\n",
      "  five[col] = np.where(five[col] == 1, 5,\n",
      "<ipython-input-12-3396cf789286>:12: SettingWithCopyWarning: \n",
      "A value is trying to be set on a copy of a slice from a DataFrame.\n",
      "Try using .loc[row_indexer,col_indexer] = value instead\n",
      "\n",
      "See the caveats in the documentation: https://pandas.pydata.org/pandas-docs/stable/user_guide/indexing.html#returning-a-view-versus-a-copy\n",
      "  five[col] = np.where(five[col] == 1, 5,\n",
      "<ipython-input-12-3396cf789286>:12: SettingWithCopyWarning: \n",
      "A value is trying to be set on a copy of a slice from a DataFrame.\n",
      "Try using .loc[row_indexer,col_indexer] = value instead\n",
      "\n",
      "See the caveats in the documentation: https://pandas.pydata.org/pandas-docs/stable/user_guide/indexing.html#returning-a-view-versus-a-copy\n",
      "  five[col] = np.where(five[col] == 1, 5,\n",
      "<ipython-input-12-3396cf789286>:12: SettingWithCopyWarning: \n",
      "A value is trying to be set on a copy of a slice from a DataFrame.\n",
      "Try using .loc[row_indexer,col_indexer] = value instead\n",
      "\n",
      "See the caveats in the documentation: https://pandas.pydata.org/pandas-docs/stable/user_guide/indexing.html#returning-a-view-versus-a-copy\n",
      "  five[col] = np.where(five[col] == 1, 5,\n",
      "<ipython-input-12-3396cf789286>:12: SettingWithCopyWarning: \n",
      "A value is trying to be set on a copy of a slice from a DataFrame.\n",
      "Try using .loc[row_indexer,col_indexer] = value instead\n",
      "\n",
      "See the caveats in the documentation: https://pandas.pydata.org/pandas-docs/stable/user_guide/indexing.html#returning-a-view-versus-a-copy\n",
      "  five[col] = np.where(five[col] == 1, 5,\n",
      "<ipython-input-12-3396cf789286>:12: SettingWithCopyWarning: \n",
      "A value is trying to be set on a copy of a slice from a DataFrame.\n",
      "Try using .loc[row_indexer,col_indexer] = value instead\n",
      "\n",
      "See the caveats in the documentation: https://pandas.pydata.org/pandas-docs/stable/user_guide/indexing.html#returning-a-view-versus-a-copy\n",
      "  five[col] = np.where(five[col] == 1, 5,\n",
      "<ipython-input-12-3396cf789286>:12: SettingWithCopyWarning: \n",
      "A value is trying to be set on a copy of a slice from a DataFrame.\n",
      "Try using .loc[row_indexer,col_indexer] = value instead\n",
      "\n",
      "See the caveats in the documentation: https://pandas.pydata.org/pandas-docs/stable/user_guide/indexing.html#returning-a-view-versus-a-copy\n",
      "  five[col] = np.where(five[col] == 1, 5,\n",
      "<ipython-input-12-3396cf789286>:12: SettingWithCopyWarning: \n",
      "A value is trying to be set on a copy of a slice from a DataFrame.\n",
      "Try using .loc[row_indexer,col_indexer] = value instead\n",
      "\n",
      "See the caveats in the documentation: https://pandas.pydata.org/pandas-docs/stable/user_guide/indexing.html#returning-a-view-versus-a-copy\n",
      "  five[col] = np.where(five[col] == 1, 5,\n",
      "<ipython-input-12-3396cf789286>:12: SettingWithCopyWarning: \n",
      "A value is trying to be set on a copy of a slice from a DataFrame.\n",
      "Try using .loc[row_indexer,col_indexer] = value instead\n",
      "\n",
      "See the caveats in the documentation: https://pandas.pydata.org/pandas-docs/stable/user_guide/indexing.html#returning-a-view-versus-a-copy\n",
      "  five[col] = np.where(five[col] == 1, 5,\n"
     ]
    }
   ],
   "source": [
    "# Changes human values data to make higher values mean more in line with that value\n",
    "start_1 = df_final.columns.get_loc(\"gincdif\")\n",
    "end_1 = df_final.columns.get_loc(\"hmsacld\") + 1\n",
    "start_2 = df_final.columns.get_loc(\"sofrdst\")\n",
    "end_2 = df_final.columns.get_loc(\"pcmpinj\") + 1\n",
    "\n",
    "columns = np.concatenate([np.arange(start_1, end_1), np.arange(start_2, end_2)])\n",
    "\n",
    "five = df_final.iloc[:, columns]\n",
    "\n",
    "for col in five.columns:\n",
    "    five[col] = np.where(five[col] == 1, 5, \n",
    "                               np.where(five[col] == 2, 4, \n",
    "                                        np.where(five[col] == 4, 2, \n",
    "                                                 np.where(five[col] == 5, 1, five[col]))))"
   ]
  },
  {
   "cell_type": "code",
   "execution_count": 13,
   "id": "3b47dfb2",
   "metadata": {
    "collapsed": true,
    "jupyter": {
     "outputs_hidden": true
    }
   },
   "outputs": [
    {
     "name": "stderr",
     "output_type": "stream",
     "text": [
      "C:\\Users\\Matt\\AppData\\Local\\Packages\\PythonSoftwareFoundation.Python.3.8_qbz5n2kfra8p0\\LocalCache\\local-packages\\Python38\\site-packages\\pandas\\core\\indexing.py:670: SettingWithCopyWarning: \n",
      "A value is trying to be set on a copy of a slice from a DataFrame\n",
      "\n",
      "See the caveats in the documentation: https://pandas.pydata.org/pandas-docs/stable/user_guide/indexing.html#returning-a-view-versus-a-copy\n",
      "  iloc._setitem_with_indexer(indexer, value)\n",
      "<ipython-input-13-6a71843be19c>:2: SettingWithCopyWarning: \n",
      "A value is trying to be set on a copy of a slice from a DataFrame\n",
      "\n",
      "See the caveats in the documentation: https://pandas.pydata.org/pandas-docs/stable/user_guide/indexing.html#returning-a-view-versus-a-copy\n",
      "  df_final.iloc[:, columns] = five\n"
     ]
    }
   ],
   "source": [
    "# Replaces with reordered features\n",
    "df_final.iloc[:, columns] = five"
   ]
  },
  {
   "cell_type": "markdown",
   "id": "3d609f9a",
   "metadata": {},
   "source": [
    "## Missing Values"
   ]
  },
  {
   "cell_type": "code",
   "execution_count": 14,
   "id": "f6ceb1ff",
   "metadata": {},
   "outputs": [
    {
     "data": {
      "text/plain": [
       "<AxesSubplot:>"
      ]
     },
     "execution_count": 14,
     "metadata": {},
     "output_type": "execute_result"
    },
    {
     "data": {
      "image/png": "[encoded data removed]",
      "text/plain": [
       "<Figure size 1800x720 with 2 Axes>"
      ]
     },
     "metadata": {
      "needs_background": "light"
     },
     "output_type": "display_data"
    }
   ],
   "source": [
    "# Views and saves a plot of missing values\n",
    "msno.matrix(df_final)\n",
    "#plt.savefig(\"../../output/plots/missing_values.png\", dpi = 400)"
   ]
  },
  {
   "cell_type": "markdown",
   "id": "77ac5580",
   "metadata": {},
   "source": [
    "It appears there are certain columns with tons of systematically missing data. Based on the columns selected, these are the columns with country-specific values within the Politics theme. These will be removed."
   ]
  },
  {
   "cell_type": "code",
   "execution_count": 15,
   "id": "6e54954f",
   "metadata": {},
   "outputs": [
    {
     "name": "stderr",
     "output_type": "stream",
     "text": [
      "C:\\Users\\Matt\\AppData\\Local\\Packages\\PythonSoftwareFoundation.Python.3.8_qbz5n2kfra8p0\\LocalCache\\local-packages\\Python38\\site-packages\\pandas\\core\\frame.py:4162: SettingWithCopyWarning: \n",
      "A value is trying to be set on a copy of a slice from a DataFrame\n",
      "\n",
      "See the caveats in the documentation: https://pandas.pydata.org/pandas-docs/stable/user_guide/indexing.html#returning-a-view-versus-a-copy\n",
      "  return super().drop(\n"
     ]
    }
   ],
   "source": [
    "# Removes country-specific columns\n",
    "drop_cols = np.concatenate([np.arange(19,51), np.arange(60,89)])\n",
    "df_final.drop(df_final.columns[drop_cols], axis = 1, inplace = True)"
   ]
  },
  {
   "cell_type": "code",
   "execution_count": 16,
   "id": "c46c93c3",
   "metadata": {},
   "outputs": [
    {
     "data": {
      "text/plain": [
       "<AxesSubplot:>"
      ]
     },
     "execution_count": 16,
     "metadata": {},
     "output_type": "execute_result"
    },
    {
     "data": {
      "image/png": "[encoded data removed]",
      "text/plain": [
       "<Figure size 1800x720 with 2 Axes>"
      ]
     },
     "metadata": {
      "needs_background": "light"
     },
     "output_type": "display_data"
    }
   ],
   "source": [
    "# Looks again at missing values\n",
    "msno.matrix(df_final)"
   ]
  },
  {
   "cell_type": "markdown",
   "id": "50bb2796",
   "metadata": {},
   "source": [
    "No other values appear to be systematically missing. Lets see how many missing values there are in the most sparse columns."
   ]
  },
  {
   "cell_type": "code",
   "execution_count": 17,
   "id": "fcf468b9",
   "metadata": {},
   "outputs": [
    {
     "data": {
      "text/plain": [
       "grsplet    46177\n",
       "netilet    45149\n",
       "ggchld     42141\n",
       "frlgrsp    37527\n",
       "ygcdbyr    34396\n",
       "grspnum    31248\n",
       "prtdgcl    28233\n",
       "frlneti    25732\n",
       "ycldbyr    25052\n",
       "grspfr     24564\n",
       "ngchld     23631\n",
       "netinum    16682\n",
       "maryr      16311\n",
       "fcldbrn    15303\n",
       "netustm    15080\n",
       "nbthcld    14919\n",
       "lvptnyr    10909\n",
       "occinfr     9394\n",
       "pdempyr     8769\n",
       "netifr      7942\n",
       "lrscale     7250\n",
       "infqbst     7179\n",
       "fvgabc      5508\n",
       "dtype: int64"
      ]
     },
     "execution_count": 17,
     "metadata": {},
     "output_type": "execute_result"
    }
   ],
   "source": [
    "# Columns with the most missing data\n",
    "df_final.isnull().sum().sort_values(ascending = False)[0:23]"
   ]
  },
  {
   "cell_type": "markdown",
   "id": "30478581",
   "metadata": {},
   "source": [
    "Most missing columns seem to relate to people not having children or grandchildren, but all observations with missing values will need to be removed eventually. As such, all columns with more than ~10% (5000) of values missing will be dropped, this way we won't later systematically remove people without children."
   ]
  },
  {
   "cell_type": "code",
   "execution_count": 18,
   "id": "44bac123",
   "metadata": {},
   "outputs": [],
   "source": [
    "# Finds column names with many missing values\n",
    "drop_cols = np.array(df_final.isnull().sum().sort_values(ascending = False)[0:23].keys())"
   ]
  },
  {
   "cell_type": "code",
   "execution_count": 19,
   "id": "5a93ed7c",
   "metadata": {},
   "outputs": [],
   "source": [
    "# Removes sparse columns\n",
    "df_final = df_final.drop(drop_cols, axis = 1)"
   ]
  },
  {
   "cell_type": "code",
   "execution_count": 20,
   "id": "e72d1281",
   "metadata": {},
   "outputs": [
    {
     "data": {
      "text/plain": [
       "<AxesSubplot:>"
      ]
     },
     "execution_count": 20,
     "metadata": {},
     "output_type": "execute_result"
    },
    {
     "data": {
      "image/png": "[encoded data removed]",
      "text/plain": [
       "<Figure size 1800x720 with 2 Axes>"
      ]
     },
     "metadata": {
      "needs_background": "light"
     },
     "output_type": "display_data"
    }
   ],
   "source": [
    "# Final review of missing values before removing ovservations\n",
    "msno.matrix(df_final)\n",
    "#plt.savefig(\"../../output/plots/missing_values_after.png\", dpi = 400)"
   ]
  },
  {
   "cell_type": "code",
   "execution_count": 21,
   "id": "1c6ea7dd",
   "metadata": {},
   "outputs": [
    {
     "data": {
      "text/plain": [
       "97"
      ]
     },
     "execution_count": 21,
     "metadata": {},
     "output_type": "execute_result"
    }
   ],
   "source": [
    "# Check number of remaining columns\n",
    "len(df_final.columns)"
   ]
  },
  {
   "cell_type": "markdown",
   "id": "6466bfb9",
   "metadata": {},
   "source": [
    "## Outliers"
   ]
  },
  {
   "cell_type": "code",
   "execution_count": 22,
   "id": "f75fb1c5",
   "metadata": {},
   "outputs": [],
   "source": [
    "# Determines quartiles and interquartile range\n",
    "Q1 = df_final.quantile(0.25)\n",
    "Q3 = df_final.quantile(0.75)\n",
    "IQR = Q3 - Q1"
   ]
  },
  {
   "cell_type": "code",
   "execution_count": 23,
   "id": "c4dcb894",
   "metadata": {},
   "outputs": [
    {
     "data": {
      "text/plain": [
       "34"
      ]
     },
     "execution_count": 23,
     "metadata": {},
     "output_type": "execute_result"
    }
   ],
   "source": [
    "# Number of columns containing outliers\n",
    "len(df_final.columns[((df_final < (Q1 - 1.5 * IQR)) | (df_final > (Q3 + 1.5 * IQR))).sum() > 0])"
   ]
  },
  {
   "cell_type": "code",
   "execution_count": 24,
   "id": "6acbb117",
   "metadata": {},
   "outputs": [
    {
     "data": {
      "text/plain": [
       "Index(['nwspol', 'trstplc', 'trstplt', 'trstprt', 'contplt', 'wrkprty',\n",
       "       'wrkorg', 'badge', 'sgnptit', 'pbldmn', 'bctprd', 'pstplonl', 'stflife',\n",
       "       'frprtpl', 'gvintcz', 'poltran', 'ifredu', 'evfredu', 'topinfr',\n",
       "       'btminfr', 'recskil', 'recexp', 'sofrwrk', 'sofrpr', 'ipcrtiv',\n",
       "       'ipudrst', 'ipmodst', 'ipbhprp', 'iplylfr', 'evpdemp', 'evlvptn',\n",
       "       'alvgptn', 'acldnmr', 'aftjbyc'],\n",
       "      dtype='object')"
      ]
     },
     "execution_count": 24,
     "metadata": {},
     "output_type": "execute_result"
    }
   ],
   "source": [
    "# List of columns containing outliers\n",
    "df_final.columns[((df_final < (Q1 - 1.5 * IQR)) | (df_final > (Q3 + 1.5 * IQR))).sum() > 0]"
   ]
  },
  {
   "cell_type": "code",
   "execution_count": 25,
   "id": "96605c41",
   "metadata": {},
   "outputs": [
    {
     "data": {
      "text/plain": [
       "count    48913.000000\n",
       "mean         3.609613\n",
       "std          1.068157\n",
       "min          1.000000\n",
       "25%          3.000000\n",
       "50%          4.000000\n",
       "75%          4.000000\n",
       "max          5.000000\n",
       "Name: acldnmr, dtype: float64"
      ]
     },
     "execution_count": 25,
     "metadata": {},
     "output_type": "execute_result"
    }
   ],
   "source": [
    "# Description of a single column with outliers\n",
    "df_final[\"acldnmr\"].describe()"
   ]
  },
  {
   "cell_type": "code",
   "execution_count": 26,
   "id": "da583950",
   "metadata": {},
   "outputs": [
    {
     "data": {
      "text/plain": [
       "2527     1057.0\n",
       "2563     1058.0\n",
       "2601     1050.0\n",
       "2634     1170.0\n",
       "2644     1202.0\n",
       "          ...  \n",
       "41913    1040.0\n",
       "42097    1080.0\n",
       "42395    1007.0\n",
       "46219    1200.0\n",
       "46463    1200.0\n",
       "Name: nwspol, Length: 262, dtype: float64"
      ]
     },
     "execution_count": 26,
     "metadata": {},
     "output_type": "execute_result"
    }
   ],
   "source": [
    "# Outlier values in the news consumption feature\n",
    "df_final[\"nwspol\"].loc[df_final[\"nwspol\"] > 1000]"
   ]
  },
  {
   "cell_type": "markdown",
   "id": "528b7a39",
   "metadata": {},
   "source": [
    "## Drop Missing Values"
   ]
  },
  {
   "cell_type": "code",
   "execution_count": 27,
   "id": "695e9906",
   "metadata": {},
   "outputs": [],
   "source": [
    "# Drop missing values\n",
    "df_final = df_final.dropna()"
   ]
  },
  {
   "cell_type": "code",
   "execution_count": 28,
   "id": "53c0eb28",
   "metadata": {},
   "outputs": [
    {
     "data": {
      "text/html": [
       "<div>\n",
       "<style scoped>\n",
       "    .dataframe tbody tr th:only-of-type {\n",
       "        vertical-align: middle;\n",
       "    }\n",
       "\n",
       "    .dataframe tbody tr th {\n",
       "        vertical-align: top;\n",
       "    }\n",
       "\n",
       "    .dataframe thead th {\n",
       "        text-align: right;\n",
       "    }\n",
       "</style>\n",
       "<table border=\"1\" class=\"dataframe\">\n",
       "  <thead>\n",
       "    <tr style=\"text-align: right;\">\n",
       "      <th></th>\n",
       "      <th>nwspol</th>\n",
       "      <th>netusoft</th>\n",
       "      <th>ppltrst</th>\n",
       "      <th>pplfair</th>\n",
       "      <th>pplhlp</th>\n",
       "      <th>polintr</th>\n",
       "      <th>psppsgva</th>\n",
       "      <th>actrolga</th>\n",
       "      <th>psppipla</th>\n",
       "      <th>cptppola</th>\n",
       "      <th>...</th>\n",
       "      <th>evpdemp</th>\n",
       "      <th>evlvptn</th>\n",
       "      <th>evmar</th>\n",
       "      <th>bthcld</th>\n",
       "      <th>anvcld</th>\n",
       "      <th>alvgptn</th>\n",
       "      <th>acldnmr</th>\n",
       "      <th>aftjbyc</th>\n",
       "      <th>advcyc</th>\n",
       "      <th>plnftr</th>\n",
       "    </tr>\n",
       "  </thead>\n",
       "  <tbody>\n",
       "    <tr>\n",
       "      <th>0</th>\n",
       "      <td>60.0</td>\n",
       "      <td>5.0</td>\n",
       "      <td>2.0</td>\n",
       "      <td>2.0</td>\n",
       "      <td>2.0</td>\n",
       "      <td>3.0</td>\n",
       "      <td>3.0</td>\n",
       "      <td>2.0</td>\n",
       "      <td>2.0</td>\n",
       "      <td>2.0</td>\n",
       "      <td>...</td>\n",
       "      <td>1.0</td>\n",
       "      <td>1.0</td>\n",
       "      <td>1.0</td>\n",
       "      <td>1.0</td>\n",
       "      <td>4.0</td>\n",
       "      <td>4.0</td>\n",
       "      <td>4.0</td>\n",
       "      <td>4.0</td>\n",
       "      <td>4.0</td>\n",
       "      <td>2.0</td>\n",
       "    </tr>\n",
       "    <tr>\n",
       "      <th>1</th>\n",
       "      <td>10.0</td>\n",
       "      <td>5.0</td>\n",
       "      <td>7.0</td>\n",
       "      <td>8.0</td>\n",
       "      <td>7.0</td>\n",
       "      <td>2.0</td>\n",
       "      <td>3.0</td>\n",
       "      <td>2.0</td>\n",
       "      <td>3.0</td>\n",
       "      <td>2.0</td>\n",
       "      <td>...</td>\n",
       "      <td>1.0</td>\n",
       "      <td>1.0</td>\n",
       "      <td>1.0</td>\n",
       "      <td>1.0</td>\n",
       "      <td>4.0</td>\n",
       "      <td>4.0</td>\n",
       "      <td>4.0</td>\n",
       "      <td>2.0</td>\n",
       "      <td>2.0</td>\n",
       "      <td>4.0</td>\n",
       "    </tr>\n",
       "    <tr>\n",
       "      <th>2</th>\n",
       "      <td>60.0</td>\n",
       "      <td>4.0</td>\n",
       "      <td>5.0</td>\n",
       "      <td>7.0</td>\n",
       "      <td>7.0</td>\n",
       "      <td>4.0</td>\n",
       "      <td>2.0</td>\n",
       "      <td>1.0</td>\n",
       "      <td>3.0</td>\n",
       "      <td>2.0</td>\n",
       "      <td>...</td>\n",
       "      <td>1.0</td>\n",
       "      <td>1.0</td>\n",
       "      <td>1.0</td>\n",
       "      <td>1.0</td>\n",
       "      <td>3.0</td>\n",
       "      <td>3.0</td>\n",
       "      <td>3.0</td>\n",
       "      <td>3.0</td>\n",
       "      <td>3.0</td>\n",
       "      <td>2.0</td>\n",
       "    </tr>\n",
       "    <tr>\n",
       "      <th>4</th>\n",
       "      <td>30.0</td>\n",
       "      <td>1.0</td>\n",
       "      <td>5.0</td>\n",
       "      <td>8.0</td>\n",
       "      <td>4.0</td>\n",
       "      <td>2.0</td>\n",
       "      <td>1.0</td>\n",
       "      <td>1.0</td>\n",
       "      <td>1.0</td>\n",
       "      <td>3.0</td>\n",
       "      <td>...</td>\n",
       "      <td>1.0</td>\n",
       "      <td>1.0</td>\n",
       "      <td>1.0</td>\n",
       "      <td>1.0</td>\n",
       "      <td>2.0</td>\n",
       "      <td>2.0</td>\n",
       "      <td>2.0</td>\n",
       "      <td>2.0</td>\n",
       "      <td>2.0</td>\n",
       "      <td>7.0</td>\n",
       "    </tr>\n",
       "    <tr>\n",
       "      <th>5</th>\n",
       "      <td>45.0</td>\n",
       "      <td>2.0</td>\n",
       "      <td>8.0</td>\n",
       "      <td>7.0</td>\n",
       "      <td>6.0</td>\n",
       "      <td>2.0</td>\n",
       "      <td>2.0</td>\n",
       "      <td>2.0</td>\n",
       "      <td>3.0</td>\n",
       "      <td>2.0</td>\n",
       "      <td>...</td>\n",
       "      <td>1.0</td>\n",
       "      <td>1.0</td>\n",
       "      <td>1.0</td>\n",
       "      <td>1.0</td>\n",
       "      <td>2.0</td>\n",
       "      <td>2.0</td>\n",
       "      <td>2.0</td>\n",
       "      <td>4.0</td>\n",
       "      <td>2.0</td>\n",
       "      <td>3.0</td>\n",
       "    </tr>\n",
       "  </tbody>\n",
       "</table>\n",
       "<p>5 rows × 97 columns</p>\n",
       "</div>"
      ],
      "text/plain": [
       "   nwspol  netusoft  ppltrst  pplfair  pplhlp  polintr  psppsgva  actrolga  \\\n",
       "0    60.0       5.0      2.0      2.0     2.0      3.0       3.0       2.0   \n",
       "1    10.0       5.0      7.0      8.0     7.0      2.0       3.0       2.0   \n",
       "2    60.0       4.0      5.0      7.0     7.0      4.0       2.0       1.0   \n",
       "4    30.0       1.0      5.0      8.0     4.0      2.0       1.0       1.0   \n",
       "5    45.0       2.0      8.0      7.0     6.0      2.0       2.0       2.0   \n",
       "\n",
       "   psppipla  cptppola  ...  evpdemp  evlvptn  evmar  bthcld  anvcld  alvgptn  \\\n",
       "0       2.0       2.0  ...      1.0      1.0    1.0     1.0     4.0      4.0   \n",
       "1       3.0       2.0  ...      1.0      1.0    1.0     1.0     4.0      4.0   \n",
       "2       3.0       2.0  ...      1.0      1.0    1.0     1.0     3.0      3.0   \n",
       "4       1.0       3.0  ...      1.0      1.0    1.0     1.0     2.0      2.0   \n",
       "5       3.0       2.0  ...      1.0      1.0    1.0     1.0     2.0      2.0   \n",
       "\n",
       "   acldnmr  aftjbyc  advcyc  plnftr  \n",
       "0      4.0      4.0     4.0     2.0  \n",
       "1      4.0      2.0     2.0     4.0  \n",
       "2      3.0      3.0     3.0     2.0  \n",
       "4      2.0      2.0     2.0     7.0  \n",
       "5      2.0      4.0     2.0     3.0  \n",
       "\n",
       "[5 rows x 97 columns]"
      ]
     },
     "execution_count": 28,
     "metadata": {},
     "output_type": "execute_result"
    }
   ],
   "source": [
    "df_final.head()"
   ]
  },
  {
   "cell_type": "markdown",
   "id": "c743d3fa",
   "metadata": {},
   "source": [
    "## Scaling"
   ]
  },
  {
   "cell_type": "code",
   "execution_count": 29,
   "id": "cdba3689",
   "metadata": {},
   "outputs": [],
   "source": [
    "# Initialize a standard scaler object\n",
    "scaler = RobustScaler()"
   ]
  },
  {
   "cell_type": "code",
   "execution_count": 30,
   "id": "460a7d11",
   "metadata": {},
   "outputs": [],
   "source": [
    "# Scale the data\n",
    "df_final = pd.DataFrame(scaler.fit_transform(df_final),\n",
    "                  columns=df_final.columns)"
   ]
  },
  {
   "cell_type": "code",
   "execution_count": 31,
   "id": "a2403c52",
   "metadata": {},
   "outputs": [],
   "source": [
    "# Initialize a standard scaler object\n",
    "scaler = RobustScaler()"
   ]
  },
  {
   "cell_type": "markdown",
   "id": "d2a2e18e",
   "metadata": {},
   "source": [
    "# PCA"
   ]
  },
  {
   "cell_type": "code",
   "execution_count": 32,
   "id": "8b5c66a7",
   "metadata": {},
   "outputs": [],
   "source": [
    "# Initialize a PCA object\n",
    "pca = PCA(n_components=10)"
   ]
  },
  {
   "cell_type": "code",
   "execution_count": 33,
   "id": "61667cfd",
   "metadata": {},
   "outputs": [],
   "source": [
    "# Fit the model\n",
    "mod = pca.fit(df_final)"
   ]
  },
  {
   "cell_type": "code",
   "execution_count": 34,
   "id": "5ace6a9b",
   "metadata": {},
   "outputs": [],
   "source": [
    "# Get loadings with items\n",
    "loads = pd.DataFrame(mod.components_.T,\n",
    "            index=df_final.columns)"
   ]
  },
  {
   "cell_type": "code",
   "execution_count": 35,
   "id": "3fc64e3a",
   "metadata": {},
   "outputs": [],
   "source": [
    "# Finds features for principal components\n",
    "pc1_keys = loads[0].sort_values()[[1,2,3,4,5,-5, -4,-3,-2,-1]].keys()\n",
    "pc2_keys = loads[1].sort_values()[[1,2,3,4,5,-5, -4,-3,-2,-1]].keys()\n",
    "pc3_keys = loads[2].sort_values()[[1,2,3,4,5,-5, -4,-3,-2,-1]].keys()\n",
    "pc4_keys = loads[3].sort_values()[[1,2,3,4,5,-5, -4,-3,-2,-1]].keys()\n",
    "pc5_keys = loads[4].sort_values()[[1,2,3,4,5,-5, -4,-3,-2,-1]].keys()"
   ]
  },
  {
   "cell_type": "code",
   "execution_count": 36,
   "id": "d3b1688a",
   "metadata": {},
   "outputs": [],
   "source": [
    "# Unique, important keys\n",
    "pc_keys = list(set(np.concatenate([np.array(pc1_keys), np.array(pc2_keys), np.array(pc3_keys), np.array(pc4_keys),\n",
    "                                   np.array(pc5_keys)])))"
   ]
  },
  {
   "cell_type": "code",
   "execution_count": 37,
   "id": "f7b2a076",
   "metadata": {},
   "outputs": [
    {
     "data": {
      "text/plain": [
       "['psppipla',\n",
       " 'freehms',\n",
       " 'ifredu',\n",
       " 'imwbcnt',\n",
       " 'impcntr',\n",
       " 'netusoft',\n",
       " 'anvcld',\n",
       " 'imdfetn',\n",
       " 'vote',\n",
       " 'stfdem',\n",
       " 'iplylfr',\n",
       " 'ipudrst',\n",
       " 'imbgeco',\n",
       " 'nwspol',\n",
       " 'impsafe',\n",
       " 'impenv',\n",
       " 'advcyc',\n",
       " 'gvintcz',\n",
       " 'imsmetn',\n",
       " 'poltran',\n",
       " 'imprich',\n",
       " 'recimg',\n",
       " 'stfeco',\n",
       " 'plnftr',\n",
       " 'psppsgva',\n",
       " 'hmsfmlsh',\n",
       " 'trstprt',\n",
       " 'ipbhprp',\n",
       " 'clsprty',\n",
       " 'ipmodst',\n",
       " 'ipcrtiv',\n",
       " 'polintr',\n",
       " 'btminfr',\n",
       " 'ipadvnt']"
      ]
     },
     "execution_count": 37,
     "metadata": {},
     "output_type": "execute_result"
    }
   ],
   "source": [
    "pc_keys"
   ]
  },
  {
   "cell_type": "code",
   "execution_count": 38,
   "id": "6dd91f55",
   "metadata": {},
   "outputs": [],
   "source": [
    "# renaming dictionary for key variables\n",
    "# Sourced from the data protocols pdf\n",
    "col_names = {'impcntr':\"poor_immigrants\", 'imueclt':\"culture_immigrants\", 'ipmodst':\"modesty_humble\", 'impenv':\"environment\", 'anvcld':\"childfree\", \n",
    "             'psppsgva':\"have_say_in_gov\", 'ipbhprp':\"behave_properly\", 'nwspol':\"time_pol_news\", 'imprich':\"materialism\", 'ipcrtiv':'creativity', \n",
    "             'poltran':\"pol_transparency_exists\", 'clsprty':\"partisanship\", 'polintr':\"interest_in_pol\", 'sofrwrk':\"hard_work_pays\", 'netusoft':\"internet_use\",\n",
    "             'ifredu':\"fair_access_edu\", 'euftf':\"euro_unification\", 'hmsacld':\"lgbt_adopt\", 'psppipla':\"have_say_in_pol\", 'stfgov':\"nat_gov\", 'trstprt':\"trust_parties\", \n",
    "             'btminfr':\"unfair_earnings_bot10\", 'sofrpr':\"care_for_poor\", 'freehms':\"free_lgbt\", 'imbgeco':\"immigr_good_for_econ\", 'iplylfr':\"loyalty\",\n",
    "             'ipadvnt':\"adventure\", 'imwbcnt':\"immigr_make_cntry_bttr\", 'ipudrst':\"good_2_understand_diff_ppl\", 'stfdem':\"satis_democracy\", \"hmsfmlsh\":\"lgbt_family_ashamed\",\n",
    "             'gvintcz':\"gov_cares_4_all\", 'imsmetn':\"majority_immigrants\", 'impsafe':\"safety\", 'advcyc':\"divorce_w_children\", 'imdfetn':\"minority_immigrants\", \n",
    "             'aftjbyc':\"full_job_&_kids\", \"stfeco\":\"satis_econ\", \"sofrdst\":\"prefer_eql_wealth_dist\", \"alvgptn\":\"approve_living_w_non_spouse\"}\n",
    "loads = loads.rename(col_names, axis = 0)"
   ]
  },
  {
   "cell_type": "code",
   "execution_count": 39,
   "id": "bfc261d8",
   "metadata": {},
   "outputs": [
    {
     "data": {
      "text/plain": [
       "internet_use          -0.228390\n",
       "have_say_in_pol       -0.206865\n",
       "free_lgbt             -0.203236\n",
       "satis_democracy       -0.190982\n",
       "have_say_in_gov       -0.190127\n",
       "behave_properly        0.061837\n",
       "modesty_humble         0.068457\n",
       "lgbt_family_ashamed    0.101314\n",
       "safety                 0.102056\n",
       "interest_in_pol        0.122278\n",
       "Name: Conservatism, dtype: float64"
      ]
     },
     "execution_count": 39,
     "metadata": {},
     "output_type": "execute_result"
    }
   ],
   "source": [
    "# PC1's most important features\n",
    "pc1 = loads[0].sort_values()[[0,1,2,3,4,-5,-4,-3,-2,-1]].rename(\"Conservatism\")\n",
    "pc1"
   ]
  },
  {
   "cell_type": "markdown",
   "id": "be8b80a3",
   "metadata": {},
   "source": [
    "**Disenfranchised** (politics/democracy/gov influence), **less internet**, **social conservative** (lgbt/safety).\n",
    "\n",
    "Older conservatives, perhaps?"
   ]
  },
  {
   "cell_type": "code",
   "execution_count": 40,
   "id": "3aa71cb8",
   "metadata": {},
   "outputs": [
    {
     "data": {
      "text/plain": [
       "internet_use                 -0.074396\n",
       "interest_in_pol              -0.070466\n",
       "partisanship                 -0.024928\n",
       "fair_access_edu              -0.022128\n",
       "vote                         -0.021389\n",
       "good_2_understand_diff_ppl    0.027448\n",
       "immigr_good_for_econ          0.027840\n",
       "modesty_humble                0.037195\n",
       "behave_properly               0.045244\n",
       "time_pol_news                 0.984729\n",
       "Name: News Consumption, dtype: float64"
      ]
     },
     "execution_count": 40,
     "metadata": {},
     "output_type": "execute_result"
    }
   ],
   "source": [
    "# PC2's most important features\n",
    "pc2 = loads[1].sort_values()[[0,1,2,3,4,-5, -4,-3,-2,-1]].rename(\"News Consumption\")\n",
    "pc2"
   ]
  },
  {
   "cell_type": "markdown",
   "id": "ff92d3aa",
   "metadata": {},
   "source": [
    "**News** Consumption."
   ]
  },
  {
   "cell_type": "code",
   "execution_count": 41,
   "id": "348fc707",
   "metadata": {},
   "outputs": [
    {
     "data": {
      "text/plain": [
       "nat_gov                   -0.225301\n",
       "pol_transparency_exists   -0.188415\n",
       "satis_democracy           -0.187468\n",
       "gov_cares_4_all           -0.180367\n",
       "trust_parties             -0.176665\n",
       "poor_immigrants            0.173958\n",
       "divorce_w_children         0.241309\n",
       "childfree                  0.254478\n",
       "free_lgbt                  0.256960\n",
       "internet_use               0.284180\n",
       "Name: Liberalism, dtype: float64"
      ]
     },
     "execution_count": 41,
     "metadata": {},
     "output_type": "execute_result"
    }
   ],
   "source": [
    "# PC3's most important features\n",
    "pc3 = loads[2].sort_values()[[0,1,2,3,4,-5, -4,-3,-2,-1]].rename(\"Liberalism\")\n",
    "pc3"
   ]
  },
  {
   "cell_type": "markdown",
   "id": "2d032557",
   "metadata": {},
   "source": [
    "**Social liberalism** (lgbt/families/immigrants), **distrustful** (transparency/trust/care), & **internet**."
   ]
  },
  {
   "cell_type": "code",
   "execution_count": 42,
   "id": "216d19ad",
   "metadata": {},
   "outputs": [
    {
     "data": {
      "text/plain": [
       "behave_properly              -0.406789\n",
       "safety                       -0.396290\n",
       "modesty_humble               -0.356767\n",
       "good_2_understand_diff_ppl   -0.303386\n",
       "environment                  -0.286272\n",
       "plnftr                        0.034145\n",
       "recimg                        0.034446\n",
       "divorce_w_children            0.053532\n",
       "unfair_earnings_bot10         0.061747\n",
       "time_pol_news                 0.077211\n",
       "Name: Individualism, dtype: float64"
      ]
     },
     "execution_count": 42,
     "metadata": {},
     "output_type": "execute_result"
    }
   ],
   "source": [
    "# PC4's most important features\n",
    "pc4 = loads[3].sort_values()[[0,1,2,3,4,-5, -4,-3,-2,-1]].rename(\"Individualism\")\n",
    "pc4"
   ]
  },
  {
   "cell_type": "markdown",
   "id": "9843708a",
   "metadata": {},
   "source": [
    "Social **Individualist** (anti-safety/humility/understanding/loyalty)"
   ]
  },
  {
   "cell_type": "code",
   "execution_count": 43,
   "id": "9c7bab60",
   "metadata": {},
   "outputs": [
    {
     "data": {
      "text/plain": [
       "modesty_humble           -0.245500\n",
       "poor_immigrants          -0.179505\n",
       "minority_immigrants      -0.175150\n",
       "majority_immigrants      -0.138650\n",
       "immigr_make_cntry_bttr   -0.137544\n",
       "adventure                 0.196012\n",
       "fair_access_edu           0.201444\n",
       "creativity                0.258654\n",
       "internet_use              0.334299\n",
       "materialism               0.507970\n",
       "Name: Materialism, dtype: float64"
      ]
     },
     "execution_count": 43,
     "metadata": {},
     "output_type": "execute_result"
    }
   ],
   "source": [
    "# PC5's most important features\n",
    "pc5 = loads[4].sort_values()[[0,1,2,3,4,-5,-4,-3,-2,-1]].rename(\"Materialism\")\n",
    "pc5"
   ]
  },
  {
   "cell_type": "markdown",
   "id": "a9be5ad3",
   "metadata": {},
   "source": [
    "**Materialist** (anti-modesty, focused on becoming rich)"
   ]
  },
  {
   "cell_type": "markdown",
   "id": "06cb08bb",
   "metadata": {},
   "source": [
    "**Others:**\n",
    "\n",
    "6. Order, Anti-Immigrant, Socially Liberal otherwise\n",
    "7. Will Achieve Education Desired\n",
    "8. Materialist, Pro-Immigrant, Order\n",
    "9. Anti-Internet Usage\n",
    "10. Politically active, disenfranchised, individualist"
   ]
  },
  {
   "cell_type": "code",
   "execution_count": 44,
   "id": "38970657",
   "metadata": {},
   "outputs": [],
   "source": [
    "# Get loadings with items\n",
    "df_load = pd.DataFrame(mod.components_.T,\n",
    "                       index=df_final.columns).loc[pc_keys].rename(col_names, \n",
    "                                                                   axis = 0).sort_values(by = 0, \n",
    "                                                                                         ascending = False).style.background_gradient(cmap='seismic')"
   ]
  },
  {
   "cell_type": "code",
   "execution_count": 45,
   "id": "cf0e7552",
   "metadata": {},
   "outputs": [
    {
     "data": {
      "text/html": [
       "<div>\n",
       "<style scoped>\n",
       "    .dataframe tbody tr th:only-of-type {\n",
       "        vertical-align: middle;\n",
       "    }\n",
       "\n",
       "    .dataframe tbody tr th {\n",
       "        vertical-align: top;\n",
       "    }\n",
       "\n",
       "    .dataframe thead th {\n",
       "        text-align: right;\n",
       "    }\n",
       "</style>\n",
       "<table border=\"1\" class=\"dataframe\">\n",
       "  <thead>\n",
       "    <tr style=\"text-align: right;\">\n",
       "      <th></th>\n",
       "      <th>PC1</th>\n",
       "      <th>PC2</th>\n",
       "      <th>PC3</th>\n",
       "      <th>PC4</th>\n",
       "      <th>PC5</th>\n",
       "      <th>PC6</th>\n",
       "      <th>PC7</th>\n",
       "      <th>PC8</th>\n",
       "      <th>PC9</th>\n",
       "      <th>PC10</th>\n",
       "    </tr>\n",
       "  </thead>\n",
       "  <tbody>\n",
       "    <tr>\n",
       "      <th>0</th>\n",
       "      <td>13.0</td>\n",
       "      <td>8.0</td>\n",
       "      <td>6.0</td>\n",
       "      <td>6.0</td>\n",
       "      <td>4.0</td>\n",
       "      <td>3.0</td>\n",
       "      <td>3.0</td>\n",
       "      <td>3.0</td>\n",
       "      <td>2.0</td>\n",
       "      <td>2.0</td>\n",
       "    </tr>\n",
       "  </tbody>\n",
       "</table>\n",
       "</div>"
      ],
      "text/plain": [
       "    PC1  PC2  PC3  PC4  PC5  PC6  PC7  PC8  PC9  PC10\n",
       "0  13.0  8.0  6.0  6.0  4.0  3.0  3.0  3.0  2.0   2.0"
      ]
     },
     "execution_count": 45,
     "metadata": {},
     "output_type": "execute_result"
    }
   ],
   "source": [
    "# % of variance explained by each component\n",
    "pd.DataFrame(np.round(mod.explained_variance_ratio_, 2)*100,\n",
    "            index=[\"PC1\", \"PC2\", \"PC3\", \"PC4\", \"PC5\", \"PC6\", \"PC7\", \"PC8\", \"PC9\", \"PC10\"]).T"
   ]
  },
  {
   "cell_type": "markdown",
   "id": "ed769ccd",
   "metadata": {},
   "source": [
    "50% of variance explained in 10. 37% explained in first 5."
   ]
  },
  {
   "cell_type": "markdown",
   "id": "71bb8277",
   "metadata": {},
   "source": [
    "## Number of Components"
   ]
  },
  {
   "cell_type": "code",
   "execution_count": 46,
   "id": "bc30851f",
   "metadata": {},
   "outputs": [],
   "source": [
    "# Initialize a PCA object\n",
    "pca = PCA(n_components=97)"
   ]
  },
  {
   "cell_type": "code",
   "execution_count": 47,
   "id": "a1fc70ad",
   "metadata": {},
   "outputs": [],
   "source": [
    "# Fit the model\n",
    "mod = pca.fit(df_final)"
   ]
  },
  {
   "cell_type": "code",
   "execution_count": 48,
   "id": "26a3ba3f",
   "metadata": {},
   "outputs": [],
   "source": [
    "# Build df with number of components and explained variance\n",
    "pc_df = pd.DataFrame(mod.explained_variance_ratio_,\n",
    "                             index=np.arange(pca.n_components_) + 1,\n",
    "                             columns=[\"Variance Explained by Component (%)\"])"
   ]
  },
  {
   "cell_type": "code",
   "execution_count": 49,
   "id": "4037aca9",
   "metadata": {},
   "outputs": [],
   "source": [
    "# Reset index, rename components (for plotting w/ altair)\n",
    "pc_df = pc_df.reset_index()"
   ]
  },
  {
   "cell_type": "code",
   "execution_count": 50,
   "id": "96316756",
   "metadata": {},
   "outputs": [],
   "source": [
    "# rename the index column\n",
    "pc_df = pc_df.rename(columns={\"index\":\"Component\"})"
   ]
  },
  {
   "cell_type": "code",
   "execution_count": 51,
   "id": "ac263bc0",
   "metadata": {},
   "outputs": [],
   "source": [
    "# Adds a cumulative sum axis\n",
    "pc_df['Total Variance Explained (%)']=pc_df['Variance Explained by Component (%)'].cumsum(axis = 0) "
   ]
  },
  {
   "cell_type": "code",
   "execution_count": 52,
   "id": "cc4df3ae",
   "metadata": {},
   "outputs": [
    {
     "data": {
      "text/html": [
       "\n",
       "<div id=\"altair-viz-9988d2943cd040fbaa258c258d250d08\"></div>\n",
       "<script type=\"text/javascript\">\n",
       "  (function(spec, embedOpt){\n",
       "    let outputDiv = document.currentScript.previousElementSibling;\n",
       "    if (outputDiv.id !== \"altair-viz-9988d2943cd040fbaa258c258d250d08\") {\n",
       "      outputDiv = document.getElementById(\"altair-viz-9988d2943cd040fbaa258c258d250d08\");\n",
       "    }\n",
       "    const paths = {\n",
       "      \"vega\": \"https://cdn.jsdelivr.net/npm//vega@5?noext\",\n",
       "      \"vega-lib\": \"https://cdn.jsdelivr.net/npm//vega-lib?noext\",\n",
       "      \"vega-lite\": \"https://cdn.jsdelivr.net/npm//vega-lite@4.8.1?noext\",\n",
       "      \"vega-embed\": \"https://cdn.jsdelivr.net/npm//vega-embed@6?noext\",\n",
       "    };\n",
       "\n",
       "    function loadScript(lib) {\n",
       "      return new Promise(function(resolve, reject) {\n",
       "        var s = document.createElement('script');\n",
       "        s.src = paths[lib];\n",
       "        s.async = true;\n",
       "        s.onload = () => resolve(paths[lib]);\n",
       "        s.onerror = () => reject(`Error loading script: ${paths[lib]}`);\n",
       "        document.getElementsByTagName(\"head\")[0].appendChild(s);\n",
       "      });\n",
       "    }\n",
       "\n",
       "    function showError(err) {\n",
       "      outputDiv.innerHTML = `<div class=\"error\" style=\"color:red;\">${err}</div>`;\n",
       "      throw err;\n",
       "    }\n",
       "\n",
       "    function displayChart(vegaEmbed) {\n",
       "      vegaEmbed(outputDiv, spec, embedOpt)\n",
       "        .catch(err => showError(`Javascript Error: ${err.message}<br>This usually means there's a typo in your chart specification. See the javascript console for the full traceback.`));\n",
       "    }\n",
       "\n",
       "    if(typeof define === \"function\" && define.amd) {\n",
       "      requirejs.config({paths});\n",
       "      require([\"vega-embed\"], displayChart, err => showError(`Error loading script: ${err.message}`));\n",
       "    } else if (typeof vegaEmbed === \"function\") {\n",
       "      displayChart(vegaEmbed);\n",
       "    } else {\n",
       "      loadScript(\"vega\")\n",
       "        .then(() => loadScript(\"vega-lite\"))\n",
       "        .then(() => loadScript(\"vega-embed\"))\n",
       "        .catch(showError)\n",
       "        .then(() => displayChart(vegaEmbed));\n",
       "    }\n",
       "  })({\"config\": {\"view\": {\"continuousWidth\": 400, \"continuousHeight\": 300}}, \"data\": {\"name\": \"data-964e235887b2679f98773217e3bebcb8\"}, \"mark\": \"line\", \"encoding\": {\"x\": {\"type\": \"quantitative\", \"field\": \"Component\"}, \"y\": {\"type\": \"quantitative\", \"field\": \"Variance Explained by Component (%)\"}}, \"selection\": {\"selector001\": {\"type\": \"interval\", \"bind\": \"scales\", \"encodings\": [\"x\", \"y\"]}}, \"$schema\": \"https://vega.github.io/schema/vega-lite/v4.8.1.json\", \"datasets\": {\"data-964e235887b2679f98773217e3bebcb8\": [{\"Component\": 1, \"Variance Explained by Component (%)\": 0.12647087412470373, \"Total Variance Explained (%)\": 0.12647087412470373}, {\"Component\": 2, \"Variance Explained by Component (%)\": 0.07933067641261038, \"Total Variance Explained (%)\": 0.2058015505373141}, {\"Component\": 3, \"Variance Explained by Component (%)\": 0.061725379364189085, \"Total Variance Explained (%)\": 0.2675269299015032}, {\"Component\": 4, \"Variance Explained by Component (%)\": 0.05694791630765848, \"Total Variance Explained (%)\": 0.32447484620916167}, {\"Component\": 5, \"Variance Explained by Component (%)\": 0.04278038122621731, \"Total Variance Explained (%)\": 0.367255227435379}, {\"Component\": 6, \"Variance Explained by Component (%)\": 0.034132905318460076, \"Total Variance Explained (%)\": 0.40138813275383906}, {\"Component\": 7, \"Variance Explained by Component (%)\": 0.030771908220622354, \"Total Variance Explained (%)\": 0.4321600409744614}, {\"Component\": 8, \"Variance Explained by Component (%)\": 0.025086246097121047, \"Total Variance Explained (%)\": 0.4572462870715825}, {\"Component\": 9, \"Variance Explained by Component (%)\": 0.023181728070154298, \"Total Variance Explained (%)\": 0.4804280151417368}, {\"Component\": 10, \"Variance Explained by Component (%)\": 0.019366112158783488, \"Total Variance Explained (%)\": 0.49979412730052025}, {\"Component\": 11, \"Variance Explained by Component (%)\": 0.019329477857131513, \"Total Variance Explained (%)\": 0.5191236051576518}, {\"Component\": 12, \"Variance Explained by Component (%)\": 0.017984747371774187, \"Total Variance Explained (%)\": 0.5371083525294259}, {\"Component\": 13, \"Variance Explained by Component (%)\": 0.017247994355079153, \"Total Variance Explained (%)\": 0.5543563468845051}, {\"Component\": 14, \"Variance Explained by Component (%)\": 0.016234128118156655, \"Total Variance Explained (%)\": 0.5705904750026617}, {\"Component\": 15, \"Variance Explained by Component (%)\": 0.015442734341049449, \"Total Variance Explained (%)\": 0.5860332093437112}, {\"Component\": 16, \"Variance Explained by Component (%)\": 0.014670844384929351, \"Total Variance Explained (%)\": 0.6007040537286406}, {\"Component\": 17, \"Variance Explained by Component (%)\": 0.014067267259801113, \"Total Variance Explained (%)\": 0.6147713209884417}, {\"Component\": 18, \"Variance Explained by Component (%)\": 0.013794070522617762, \"Total Variance Explained (%)\": 0.6285653915110594}, {\"Component\": 19, \"Variance Explained by Component (%)\": 0.013406193109155813, \"Total Variance Explained (%)\": 0.6419715846202152}, {\"Component\": 20, \"Variance Explained by Component (%)\": 0.012410608882922025, \"Total Variance Explained (%)\": 0.6543821935031372}, {\"Component\": 21, \"Variance Explained by Component (%)\": 0.012079289957575672, \"Total Variance Explained (%)\": 0.6664614834607129}, {\"Component\": 22, \"Variance Explained by Component (%)\": 0.011483569426764954, \"Total Variance Explained (%)\": 0.6779450528874779}, {\"Component\": 23, \"Variance Explained by Component (%)\": 0.01105176714685605, \"Total Variance Explained (%)\": 0.6889968200343339}, {\"Component\": 24, \"Variance Explained by Component (%)\": 0.010714327671229647, \"Total Variance Explained (%)\": 0.6997111477055635}, {\"Component\": 25, \"Variance Explained by Component (%)\": 0.01055293137970143, \"Total Variance Explained (%)\": 0.710264079085265}, {\"Component\": 26, \"Variance Explained by Component (%)\": 0.009668220298940827, \"Total Variance Explained (%)\": 0.7199322993842059}, {\"Component\": 27, \"Variance Explained by Component (%)\": 0.00955762275096084, \"Total Variance Explained (%)\": 0.7294899221351667}, {\"Component\": 28, \"Variance Explained by Component (%)\": 0.00928341916494173, \"Total Variance Explained (%)\": 0.7387733413001084}, {\"Component\": 29, \"Variance Explained by Component (%)\": 0.009019875996774646, \"Total Variance Explained (%)\": 0.7477932172968831}, {\"Component\": 30, \"Variance Explained by Component (%)\": 0.008925144558242922, \"Total Variance Explained (%)\": 0.756718361855126}, {\"Component\": 31, \"Variance Explained by Component (%)\": 0.008519512071145506, \"Total Variance Explained (%)\": 0.7652378739262715}, {\"Component\": 32, \"Variance Explained by Component (%)\": 0.008139496554645582, \"Total Variance Explained (%)\": 0.7733773704809171}, {\"Component\": 33, \"Variance Explained by Component (%)\": 0.007742867574822273, \"Total Variance Explained (%)\": 0.7811202380557394}, {\"Component\": 34, \"Variance Explained by Component (%)\": 0.007377279050574144, \"Total Variance Explained (%)\": 0.7884975171063136}, {\"Component\": 35, \"Variance Explained by Component (%)\": 0.007337993331639662, \"Total Variance Explained (%)\": 0.7958355104379532}, {\"Component\": 36, \"Variance Explained by Component (%)\": 0.006925864115449854, \"Total Variance Explained (%)\": 0.802761374553403}, {\"Component\": 37, \"Variance Explained by Component (%)\": 0.00679752837566641, \"Total Variance Explained (%)\": 0.8095589029290694}, {\"Component\": 38, \"Variance Explained by Component (%)\": 0.0066377779714716575, \"Total Variance Explained (%)\": 0.8161966809005411}, {\"Component\": 39, \"Variance Explained by Component (%)\": 0.0060754946930937455, \"Total Variance Explained (%)\": 0.8222721755936349}, {\"Component\": 40, \"Variance Explained by Component (%)\": 0.005909896500575805, \"Total Variance Explained (%)\": 0.8281820720942107}, {\"Component\": 41, \"Variance Explained by Component (%)\": 0.005534570630121308, \"Total Variance Explained (%)\": 0.833716642724332}, {\"Component\": 42, \"Variance Explained by Component (%)\": 0.00543957761628687, \"Total Variance Explained (%)\": 0.8391562203406189}, {\"Component\": 43, \"Variance Explained by Component (%)\": 0.005370025380490452, \"Total Variance Explained (%)\": 0.8445262457211093}, {\"Component\": 44, \"Variance Explained by Component (%)\": 0.005261746220690012, \"Total Variance Explained (%)\": 0.8497879919417993}, {\"Component\": 45, \"Variance Explained by Component (%)\": 0.005001371570963116, \"Total Variance Explained (%)\": 0.8547893635127625}, {\"Component\": 46, \"Variance Explained by Component (%)\": 0.0048512054721954025, \"Total Variance Explained (%)\": 0.8596405689849579}, {\"Component\": 47, \"Variance Explained by Component (%)\": 0.0047088439528762144, \"Total Variance Explained (%)\": 0.8643494129378341}, {\"Component\": 48, \"Variance Explained by Component (%)\": 0.004673508437057983, \"Total Variance Explained (%)\": 0.869022921374892}, {\"Component\": 49, \"Variance Explained by Component (%)\": 0.004615101668002291, \"Total Variance Explained (%)\": 0.8736380230428943}, {\"Component\": 50, \"Variance Explained by Component (%)\": 0.004425988331718501, \"Total Variance Explained (%)\": 0.8780640113746128}, {\"Component\": 51, \"Variance Explained by Component (%)\": 0.004402246003636372, \"Total Variance Explained (%)\": 0.8824662573782491}, {\"Component\": 52, \"Variance Explained by Component (%)\": 0.004327792114543217, \"Total Variance Explained (%)\": 0.8867940494927924}, {\"Component\": 53, \"Variance Explained by Component (%)\": 0.004234885093190754, \"Total Variance Explained (%)\": 0.8910289345859831}, {\"Component\": 54, \"Variance Explained by Component (%)\": 0.0041035959516680185, \"Total Variance Explained (%)\": 0.8951325305376511}, {\"Component\": 55, \"Variance Explained by Component (%)\": 0.004038265788487778, \"Total Variance Explained (%)\": 0.8991707963261388}, {\"Component\": 56, \"Variance Explained by Component (%)\": 0.003922252152807348, \"Total Variance Explained (%)\": 0.9030930484789462}, {\"Component\": 57, \"Variance Explained by Component (%)\": 0.0038056202502692914, \"Total Variance Explained (%)\": 0.9068986687292155}, {\"Component\": 58, \"Variance Explained by Component (%)\": 0.0037651545843833904, \"Total Variance Explained (%)\": 0.910663823313599}, {\"Component\": 59, \"Variance Explained by Component (%)\": 0.0037473211573539975, \"Total Variance Explained (%)\": 0.914411144470953}, {\"Component\": 60, \"Variance Explained by Component (%)\": 0.003680339274766653, \"Total Variance Explained (%)\": 0.9180914837457196}, {\"Component\": 61, \"Variance Explained by Component (%)\": 0.0035316142346966755, \"Total Variance Explained (%)\": 0.9216230979804163}, {\"Component\": 62, \"Variance Explained by Component (%)\": 0.0034901201108479283, \"Total Variance Explained (%)\": 0.9251132180912642}, {\"Component\": 63, \"Variance Explained by Component (%)\": 0.003453176521898854, \"Total Variance Explained (%)\": 0.928566394613163}, {\"Component\": 64, \"Variance Explained by Component (%)\": 0.0033998082775500123, \"Total Variance Explained (%)\": 0.9319662028907131}, {\"Component\": 65, \"Variance Explained by Component (%)\": 0.003284079205078081, \"Total Variance Explained (%)\": 0.9352502820957912}, {\"Component\": 66, \"Variance Explained by Component (%)\": 0.0032388726061305874, \"Total Variance Explained (%)\": 0.9384891547019217}, {\"Component\": 67, \"Variance Explained by Component (%)\": 0.0032269592351976436, \"Total Variance Explained (%)\": 0.9417161139371194}, {\"Component\": 68, \"Variance Explained by Component (%)\": 0.0030765416835791723, \"Total Variance Explained (%)\": 0.9447926556206986}, {\"Component\": 69, \"Variance Explained by Component (%)\": 0.0029738231258855455, \"Total Variance Explained (%)\": 0.9477664787465842}, {\"Component\": 70, \"Variance Explained by Component (%)\": 0.002866851181328525, \"Total Variance Explained (%)\": 0.9506333299279127}, {\"Component\": 71, \"Variance Explained by Component (%)\": 0.0028104507180043586, \"Total Variance Explained (%)\": 0.9534437806459171}, {\"Component\": 72, \"Variance Explained by Component (%)\": 0.0027090399163267197, \"Total Variance Explained (%)\": 0.9561528205622438}, {\"Component\": 73, \"Variance Explained by Component (%)\": 0.0026554673637052446, \"Total Variance Explained (%)\": 0.9588082879259491}, {\"Component\": 74, \"Variance Explained by Component (%)\": 0.002552143122059214, \"Total Variance Explained (%)\": 0.9613604310480083}, {\"Component\": 75, \"Variance Explained by Component (%)\": 0.0025271471035904027, \"Total Variance Explained (%)\": 0.9638875781515986}, {\"Component\": 76, \"Variance Explained by Component (%)\": 0.002487681279980666, \"Total Variance Explained (%)\": 0.9663752594315793}, {\"Component\": 77, \"Variance Explained by Component (%)\": 0.0023842088932682134, \"Total Variance Explained (%)\": 0.9687594683248475}, {\"Component\": 78, \"Variance Explained by Component (%)\": 0.0022966579475319853, \"Total Variance Explained (%)\": 0.9710561262723795}, {\"Component\": 79, \"Variance Explained by Component (%)\": 0.0021824389902492533, \"Total Variance Explained (%)\": 0.9732385652626288}, {\"Component\": 80, \"Variance Explained by Component (%)\": 0.002096936228711412, \"Total Variance Explained (%)\": 0.9753355014913402}, {\"Component\": 81, \"Variance Explained by Component (%)\": 0.002024065383607792, \"Total Variance Explained (%)\": 0.977359566874948}, {\"Component\": 82, \"Variance Explained by Component (%)\": 0.002005380431715221, \"Total Variance Explained (%)\": 0.9793649473066632}, {\"Component\": 83, \"Variance Explained by Component (%)\": 0.0019671023283050638, \"Total Variance Explained (%)\": 0.9813320496349683}, {\"Component\": 84, \"Variance Explained by Component (%)\": 0.0018800953773953383, \"Total Variance Explained (%)\": 0.9832121450123636}, {\"Component\": 85, \"Variance Explained by Component (%)\": 0.001801751968713202, \"Total Variance Explained (%)\": 0.9850138969810769}, {\"Component\": 86, \"Variance Explained by Component (%)\": 0.0017719855210546467, \"Total Variance Explained (%)\": 0.9867858825021315}, {\"Component\": 87, \"Variance Explained by Component (%)\": 0.0017340052511489734, \"Total Variance Explained (%)\": 0.9885198877532805}, {\"Component\": 88, \"Variance Explained by Component (%)\": 0.0016973389462823574, \"Total Variance Explained (%)\": 0.9902172266995628}, {\"Component\": 89, \"Variance Explained by Component (%)\": 0.0016324113219795254, \"Total Variance Explained (%)\": 0.9918496380215424}, {\"Component\": 90, \"Variance Explained by Component (%)\": 0.0014812627784419744, \"Total Variance Explained (%)\": 0.9933309007999843}, {\"Component\": 91, \"Variance Explained by Component (%)\": 0.0013075897155673157, \"Total Variance Explained (%)\": 0.9946384905155516}, {\"Component\": 92, \"Variance Explained by Component (%)\": 0.0011620155144852183, \"Total Variance Explained (%)\": 0.9958005060300369}, {\"Component\": 93, \"Variance Explained by Component (%)\": 0.0010703871328505007, \"Total Variance Explained (%)\": 0.9968708931628874}, {\"Component\": 94, \"Variance Explained by Component (%)\": 0.0009683044271204343, \"Total Variance Explained (%)\": 0.9978391975900078}, {\"Component\": 95, \"Variance Explained by Component (%)\": 0.0008813148568993467, \"Total Variance Explained (%)\": 0.9987205124469072}, {\"Component\": 96, \"Variance Explained by Component (%)\": 0.0006724162060181268, \"Total Variance Explained (%)\": 0.9993929286529253}, {\"Component\": 97, \"Variance Explained by Component (%)\": 0.0006070713470750347, \"Total Variance Explained (%)\": 1.0000000000000002}]}}, {\"mode\": \"vega-lite\"});\n",
       "</script>"
      ],
      "text/plain": [
       "alt.Chart(...)"
      ]
     },
     "execution_count": 52,
     "metadata": {},
     "output_type": "execute_result"
    }
   ],
   "source": [
    "# Create scree plot with altair, elbow at 3\n",
    "alt.Chart(pc_df).mark_line().encode(x=\"Component\",\n",
    "                                    y=\"Variance Explained by Component (%)\").interactive()"
   ]
  },
  {
   "cell_type": "code",
   "execution_count": 53,
   "id": "9a2a9d41",
   "metadata": {},
   "outputs": [
    {
     "data": {
      "text/plain": [
       "(0.0, 100.0)"
      ]
     },
     "execution_count": 53,
     "metadata": {},
     "output_type": "execute_result"
    },
    {
     "data": {
      "image/png": "[encoded data removed]",
      "text/plain": [
       "<Figure size 432x288 with 1 Axes>"
      ]
     },
     "metadata": {
      "needs_background": "light"
     },
     "output_type": "display_data"
    }
   ],
   "source": [
    "# Visualize scree plot using seaborn\n",
    "sns.lineplot(x = \"Component\",\n",
    "            y = \"Variance Explained by Component (%)\",\n",
    "            data=pc_df)\n",
    "plt.title(\"Variance Explained by Each Components\")\n",
    "plt.grid(alpha = 0.35)\n",
    "plt.xticks([0,10,20,30,40,50,60,70,80,90,100])\n",
    "plt.xlim(0,100)\n",
    "#plt.savefig(\"../../output/plots/scree_plot.png\", dpi = 400)"
   ]
  },
  {
   "cell_type": "code",
   "execution_count": 54,
   "id": "bd0ac954",
   "metadata": {},
   "outputs": [
    {
     "data": {
      "text/plain": [
       "<AxesSubplot:xlabel='Component', ylabel='Total Variance Explained (%)'>"
      ]
     },
     "execution_count": 54,
     "metadata": {},
     "output_type": "execute_result"
    },
    {
     "data": {
      "image/png": "[encoded data removed]",
      "text/plain": [
       "<Figure size 432x288 with 1 Axes>"
      ]
     },
     "metadata": {
      "needs_background": "light"
     },
     "output_type": "display_data"
    }
   ],
   "source": [
    "# Create a plot of the total variance explained, with seaborn\n",
    "sns.lineplot(x = \"Component\",\n",
    "            y = \"Total Variance Explained (%)\",\n",
    "            data=pc_df)"
   ]
  },
  {
   "cell_type": "code",
   "execution_count": 55,
   "id": "7e787397",
   "metadata": {},
   "outputs": [
    {
     "data": {
      "text/plain": [
       "90.0"
      ]
     },
     "execution_count": 55,
     "metadata": {},
     "output_type": "execute_result"
    }
   ],
   "source": [
    "# total variance explained given all features\n",
    "np.sum(np.round(mod.explained_variance_ratio_, 2)*100)"
   ]
  }
 ],
 "metadata": {
  "kernelspec": {
   "display_name": "Python 3",
   "language": "python",
   "name": "python3"
  },
  "language_info": {
   "codemirror_mode": {
    "name": "ipython",
    "version": 3
   },
   "file_extension": ".py",
   "mimetype": "text/x-python",
   "name": "python",
   "nbconvert_exporter": "python",
   "pygments_lexer": "ipython3",
   "version": "3.8.10"
  }
 },
 "nbformat": 4,
 "nbformat_minor": 5
}
